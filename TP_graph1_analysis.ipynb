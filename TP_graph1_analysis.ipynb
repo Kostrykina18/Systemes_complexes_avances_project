{
 "cells": [
  {
   "cell_type": "code",
   "execution_count": 35,
   "metadata": {},
   "outputs": [],
   "source": [
    "import numpy as np\n",
    "import pandas as pd\n",
    "import networkx as nx\n",
    "\n",
    "import matplotlib.pyplot as plt\n",
    "import seaborn as sns"
   ]
  },
  {
   "cell_type": "code",
   "execution_count": 2,
   "metadata": {},
   "outputs": [],
   "source": [
    "with open('soc-sign-bitcoinotc/out.soc-sign-bitcoinotc') as f:\n",
    "    f = f.read()"
   ]
  },
  {
   "cell_type": "code",
   "execution_count": null,
   "metadata": {},
   "outputs": [],
   "source": [
    "print(f)"
   ]
  },
  {
   "cell_type": "code",
   "execution_count": 4,
   "metadata": {},
   "outputs": [],
   "source": [
    "s = f.split('\\n')"
   ]
  },
  {
   "cell_type": "code",
   "execution_count": 5,
   "metadata": {},
   "outputs": [
    {
     "data": {
      "text/plain": [
       "'% asym signed'"
      ]
     },
     "execution_count": 5,
     "metadata": {},
     "output_type": "execute_result"
    }
   ],
   "source": [
    "s[0]"
   ]
  },
  {
   "cell_type": "code",
   "execution_count": 6,
   "metadata": {},
   "outputs": [
    {
     "data": {
      "text/plain": [
       "'1\\t2\\t4\\t1289241911.72836'"
      ]
     },
     "execution_count": 6,
     "metadata": {},
     "output_type": "execute_result"
    }
   ],
   "source": [
    "s[1]"
   ]
  },
  {
   "cell_type": "code",
   "execution_count": null,
   "metadata": {},
   "outputs": [],
   "source": [
    "two_collumns = []\n",
    "for i in s[1:-1]:\n",
    "    a = i.split()\n",
    "    #print(a)\n",
    "    two_collumns.append(tuple(sorted((int(a[0]), int(a[1])))))"
   ]
  },
  {
   "cell_type": "code",
   "execution_count": 8,
   "metadata": {},
   "outputs": [
    {
     "data": {
      "text/plain": [
       "'1082\\t8\\t2\\t1453684323.75728'"
      ]
     },
     "execution_count": 8,
     "metadata": {},
     "output_type": "execute_result"
    }
   ],
   "source": [
    "s[-2]"
   ]
  },
  {
   "cell_type": "code",
   "execution_count": 9,
   "metadata": {},
   "outputs": [
    {
     "data": {
      "text/plain": [
       "35592"
      ]
     },
     "execution_count": 9,
     "metadata": {},
     "output_type": "execute_result"
    }
   ],
   "source": [
    "len(two_collumns)"
   ]
  },
  {
   "cell_type": "code",
   "execution_count": 10,
   "metadata": {},
   "outputs": [
    {
     "data": {
      "text/plain": [
       "(8, 1082)"
      ]
     },
     "execution_count": 10,
     "metadata": {},
     "output_type": "execute_result"
    }
   ],
   "source": [
    "two_collumns[-1]"
   ]
  },
  {
   "cell_type": "code",
   "execution_count": 11,
   "metadata": {},
   "outputs": [],
   "source": [
    "unique = set(two_collumns)"
   ]
  },
  {
   "cell_type": "code",
   "execution_count": 12,
   "metadata": {},
   "outputs": [
    {
     "data": {
      "text/plain": [
       "21492"
      ]
     },
     "execution_count": 12,
     "metadata": {},
     "output_type": "execute_result"
    }
   ],
   "source": [
    "len(unique)"
   ]
  },
  {
   "cell_type": "code",
   "execution_count": 14,
   "metadata": {},
   "outputs": [],
   "source": [
    "data = sorted(unique)"
   ]
  },
  {
   "cell_type": "markdown",
   "metadata": {},
   "source": [
    "# START\n"
   ]
  },
  {
   "cell_type": "markdown",
   "metadata": {},
   "source": [
    "graph"
   ]
  },
  {
   "cell_type": "code",
   "execution_count": 16,
   "metadata": {},
   "outputs": [],
   "source": [
    "D = nx.DiGraph()\n",
    "D.add_edges_from(data)"
   ]
  },
  {
   "cell_type": "code",
   "execution_count": 17,
   "metadata": {},
   "outputs": [
    {
     "data": {
      "text/plain": [
       "5881"
      ]
     },
     "execution_count": 17,
     "metadata": {},
     "output_type": "execute_result"
    }
   ],
   "source": [
    "len(D.nodes)"
   ]
  },
  {
   "cell_type": "code",
   "execution_count": 18,
   "metadata": {},
   "outputs": [
    {
     "data": {
      "text/plain": [
       "21492"
      ]
     },
     "execution_count": 18,
     "metadata": {},
     "output_type": "execute_result"
    }
   ],
   "source": [
    "len(D.edges)"
   ]
  },
  {
   "cell_type": "markdown",
   "metadata": {},
   "source": [
    "## Distances"
   ]
  },
  {
   "cell_type": "markdown",
   "metadata": {},
   "source": [
    "### 1/ Calculez la distribution des distances dans le reseau."
   ]
  },
  {
   "cell_type": "code",
   "execution_count": 19,
   "metadata": {},
   "outputs": [],
   "source": [
    "# Trouver la plus grande composante connexe du graph\n",
    "largest_cc = max(nx.connected_components(D.to_undirected()), key=len)\n",
    "W = D.subgraph(largest_cc)\n",
    "mapping = dict(zip(W, range(0, len(W.nodes()))))\n",
    "N = nx.relabel_nodes(W, mapping)\n",
    "N = N.to_undirected()"
   ]
  },
  {
   "cell_type": "code",
   "execution_count": 20,
   "metadata": {},
   "outputs": [],
   "source": [
    "# Calculez les distances de chaque nœud à tous les autres nœuds\n",
    "distances = nx.floyd_warshall_numpy(N)\n",
    "\n",
    "# Calculez la distribution des distances\n",
    "distance_counts = {}\n",
    "for row in distances:\n",
    "    for distance in row:\n",
    "        if distance not in distance_counts:\n",
    "            distance_counts[distance] = 0\n",
    "        distance_counts[distance] += 1"
   ]
  },
  {
   "cell_type": "code",
   "execution_count": 21,
   "metadata": {},
   "outputs": [
    {
     "name": "stdout",
     "output_type": "stream",
     "text": [
      "{0.0: 5875, 1.0: 42978, 2.0: 2405778, 3.0: 13941952, 4.0: 14491508, 5.0: 3208906, 6.0: 385574, 7.0: 31516, 8.0: 1502, 9.0: 36}\n"
     ]
    }
   ],
   "source": [
    "# Affichez la distribution des distances\n",
    "print(distance_counts)"
   ]
  },
  {
   "cell_type": "markdown",
   "metadata": {},
   "source": [
    "Ce code calcule les distances entre tous les nœuds en utilisant l'algorithme de Floyd-Warshall. Ensuite, il calcule la distribution des distances en parcourant les matrices de distances et en comptant le nombre de fois que chaque distance apparaît. Enfin, il affiche la distribution des distances sous forme de dictionnaire Python."
   ]
  },
  {
   "cell_type": "markdown",
   "metadata": {},
   "source": [
    "### 2/ Calculez la distribution de l’excentricite d’un sommet."
   ]
  },
  {
   "cell_type": "markdown",
   "metadata": {},
   "source": [
    "L'excentricité d'un sommet dans un graphe est la distance maximale entre ce sommet et tous les autres sommets du graphe. Voici un code qui montre comment calculer la distribution de l'excentricité de tous les sommets d'un graphe en utilisant NetworkX:"
   ]
  },
  {
   "cell_type": "code",
   "execution_count": 22,
   "metadata": {},
   "outputs": [],
   "source": [
    "# Calculez l'excentricité de chaque sommet\n",
    "eccentricities = nx.eccentricity(N)\n",
    "\n",
    "# Calculez la distribution de l'excentricité\n",
    "eccentricity_counts = {}\n",
    "for node, eccentricity in eccentricities.items():\n",
    "    if eccentricity not in eccentricity_counts:\n",
    "        eccentricity_counts[eccentricity] = 0\n",
    "    eccentricity_counts[eccentricity] += 1"
   ]
  },
  {
   "cell_type": "code",
   "execution_count": 23,
   "metadata": {},
   "outputs": [
    {
     "name": "stdout",
     "output_type": "stream",
     "text": [
      "{6: 2643, 5: 16, 7: 2892, 8: 308, 9: 16}\n"
     ]
    }
   ],
   "source": [
    "# Affichez la distribution de l'excentricité\n",
    "print(eccentricity_counts)"
   ]
  },
  {
   "cell_type": "markdown",
   "metadata": {},
   "source": [
    "Ce code calcule l'excentricité de chaque sommet en utilisant la fonction eccentricity de NetworkX. Ensuite, il calcule la distribution de l'excentricité en parcourant les valeurs d'excentricité et en comptant le nombre de fois que chaque valeur d'excentricité apparaît. Enfin, il affiche la distribution de l'excentricité sous forme de dictionnaire Python."
   ]
  },
  {
   "cell_type": "markdown",
   "metadata": {},
   "source": [
    "### 3/ Quelle est l’excentricite minimum d’un sommet, combien de sommets realisent ce minimum"
   ]
  },
  {
   "cell_type": "markdown",
   "metadata": {},
   "source": [
    "L'excentricité minimale d'un sommet dans un graphe est égale à 1 si le sommet est isolé, c'est-à-dire qu'il n'a aucun voisin. Si le graphe contient au moins un arc, alors l'excentricité minimale d'un sommet est égale à 2.\n",
    "\n",
    "Il y a autant de sommets qui réalisent cette excentricité minimale que de sommets isolés dans le graphe (c'est-à-dire avec une excentricité de 1) ou de sommets adjacents à un sommet isolé (c'est-à-dire avec une excentricité de 2).\n"
   ]
  },
  {
   "cell_type": "code",
   "execution_count": 24,
   "metadata": {
    "scrolled": true
   },
   "outputs": [
    {
     "name": "stdout",
     "output_type": "stream",
     "text": [
      "Le nombre de sommets qui ont une excentricité minimale est: 16\n"
     ]
    }
   ],
   "source": [
    "# Trouvez le nombre de sommets qui ont une excentricité minimale (1 ou 2)\n",
    "min_eccentricity = min(eccentricities.values())\n",
    "num_min_eccentricity = sum(1 for e in eccentricities.values() if e == min_eccentricity)\n",
    "\n",
    "print(f\"Le nombre de sommets qui ont une excentricité minimale est: {num_min_eccentricity}\")"
   ]
  },
  {
   "cell_type": "code",
   "execution_count": 43,
   "metadata": {},
   "outputs": [
    {
     "data": {
      "text/plain": [
       "5"
      ]
     },
     "execution_count": 43,
     "metadata": {},
     "output_type": "execute_result"
    }
   ],
   "source": [
    "min_eccentricity"
   ]
  },
  {
   "cell_type": "markdown",
   "metadata": {},
   "source": [
    "Ce code calcule l'excentricité de chaque sommet en utilisant la fonction eccentricity de NetworkX. Ensuite, il trouve le nombre de sommets qui ont une excentricité minimale en parcourant les valeurs d'excentricité et en comptant le nombre de sommets qui ont une excentricité de 1 ou de 2. Enfin, il affiche le nombre de sommets qui ont une excentricité minimale."
   ]
  },
  {
   "cell_type": "markdown",
   "metadata": {},
   "source": [
    "### 4/ Combien de couples realisent le diametre? Combien de sommets sont impliques dans un tel couple ?"
   ]
  },
  {
   "cell_type": "markdown",
   "metadata": {},
   "source": [
    "Le diamètre d'un graphe est la distance maximale entre tous les couples de sommets du graphe. Il y a autant de couples qui réalisent le diamètre que de sommets qui sont à une distance égale au diamètre du graphe."
   ]
  },
  {
   "cell_type": "code",
   "execution_count": 26,
   "metadata": {},
   "outputs": [
    {
     "name": "stdout",
     "output_type": "stream",
     "text": [
      "Le diamètre du graphe est: 9.0\n",
      "Le nombre de couples qui réalisent le diamètre est: 36\n"
     ]
    }
   ],
   "source": [
    "# Calculez les distances de chaque nœud à tous les autres nœuds\n",
    "#distances = nx.floyd_warshall_numpy(N)\n",
    "\n",
    "# Trouvez le diamètre du graphe et le nombre de couples qui le réalisent\n",
    "diameter = max(max(row) for row in distances)\n",
    "num_diameter_couples = sum(1 for row in distances for d in row if d == diameter)\n",
    "\n",
    "print(f\"Le diamètre du graphe est: {diameter}\")\n",
    "print(f\"Le nombre de couples qui réalisent le diamètre est: {num_diameter_couples}\")"
   ]
  },
  {
   "cell_type": "markdown",
   "metadata": {},
   "source": [
    "Ce code calcule les distances entre tous les nœuds en utilisant l'algorithme de Floyd-Warshall. Ensuite, il trouve le diamètre du graphe en parcourant les matrices de distances et en trouvant la distance maximale. Enfin, il compte le nombre de couples qui réalisent le diamètre en parcourant à nouveau les matrices de distances et en comptant le nombre de distances égales au diamètre.\n",
    "\n",
    "Il y a autant de sommets impliqués dans un couple qui réalise le diamètre que de sommets à une distance égale au diamètre du graphe. Pour trouver le nombre de sommets impliqués dans un tel couple, vous pouvez simplement compter le nombre de distances égales au diamètre dans les matrices de distances. Le code ci-dessus affiche déjà le nombre de couples qui réalisent le diamètre, mais pour afficher le nombre de sommets impliqués dans un tel couple, vous pouvez ajouter une ligne de code comme celle-ci:"
   ]
  },
  {
   "cell_type": "code",
   "execution_count": 27,
   "metadata": {},
   "outputs": [
    {
     "name": "stdout",
     "output_type": "stream",
     "text": [
      "Le nombre de sommets impliqués dans un couple qui réalise le diamètre est: 72\n"
     ]
    }
   ],
   "source": [
    "print(f\"Le nombre de sommets impliqués dans un couple qui réalise le diamètre est: {num_diameter_couples * 2}\")"
   ]
  },
  {
   "cell_type": "markdown",
   "metadata": {},
   "source": [
    "### 5/ Quel est le nombre minimum de sommets a enlever du graphe pour faire chuter le diametre de 1 ? de k ?"
   ]
  },
  {
   "cell_type": "markdown",
   "metadata": {},
   "source": [
    "Pour faire chuter le diamètre d'un graphe de 1 en enlevant le minimum de sommets possible, vous devez enlever tous les sommets qui sont à une distance égale au diamètre du graphe. Pour faire chuter le diamètre de k (où k est un entier supérieur à 1), vous devez enlever tous les sommets qui sont à une distance supérieure ou égale au diamètre - k + 1.\n",
    "\n",
    "Calculer le nombre minimum de sommets à enlever pour faire chuter le diamètre de 1 ou de k dans un graphe"
   ]
  },
  {
   "cell_type": "code",
   "execution_count": 28,
   "metadata": {},
   "outputs": [
    {
     "name": "stdout",
     "output_type": "stream",
     "text": [
      "Le nombre minimum de sommets à enlever pour faire chuter le diamètre de 1 est: 36\n"
     ]
    }
   ],
   "source": [
    "# Trouvez le diamètre du graphe et le nombre de sommets à enlever pour faire chuter le diamètre de 1\n",
    "diameter = max(max(row) for row in distances)\n",
    "num_to_remove_diameter_1 = sum(1 for row in distances for d in row if d == diameter)\n",
    "print(f\"Le nombre minimum de sommets à enlever pour faire chuter le diamètre de 1 est: {num_to_remove_diameter_1}\")"
   ]
  },
  {
   "cell_type": "code",
   "execution_count": 29,
   "metadata": {},
   "outputs": [
    {
     "name": "stdout",
     "output_type": "stream",
     "text": [
      "Le nombre minimum de sommets à enlever pour faire chuter le diamètre de 2 est: 1538\n"
     ]
    }
   ],
   "source": [
    "# Trouvez le nombre de sommets à enlever pour faire chuter le diamètre de k (où k est un entier supérieur à 1)\n",
    "k = 2  # choisissez une valeur de k\n",
    "num_to_remove_diameter_k = sum(1 for row in distances for d in row if d >= diameter - k + 1)\n",
    "\n",
    "print(f\"Le nombre minimum de sommets à enlever pour faire chuter le diamètre de {k} est: {num_to_remove_diameter_k}\")"
   ]
  },
  {
   "cell_type": "code",
   "execution_count": 30,
   "metadata": {},
   "outputs": [
    {
     "name": "stdout",
     "output_type": "stream",
     "text": [
      "Le nombre minimum de sommets à enlever pour faire chuter le diamètre de 5 est: 3627534\n"
     ]
    }
   ],
   "source": [
    "# Trouvez le nombre de sommets à enlever pour faire chuter le diamètre de k (où k est un entier supérieur à 1)\n",
    "k = 5  # choisissez une valeur de k\n",
    "num_to_remove_diameter_k = sum(1 for row in distances for d in row if d >= diameter - k + 1)\n",
    "\n",
    "print(f\"Le nombre minimum de sommets à enlever pour faire chuter le diamètre de {k} est: {num_to_remove_diameter_k}\")"
   ]
  },
  {
   "cell_type": "markdown",
   "metadata": {},
   "source": [
    "Ce code calcule les distances entre tous les nœuds en utilisant l'algorithme de Floyd-Warshall. Ensuite, il trouve le diamètre du graphe en parcourant les matrices de distances et en trouvant la distance maximale. Enfin, il calcule le nombre de sommets à enlever pour faire chuter le diamètre de 1 ou de k en parcourant à nouveau les matrices de distances et en comptant le nombre de distances égales au diamètre (pour faire chuter le diamètre de 1) ou supérieures ou égales au diamètre - k + 1 (pour faire chuter le diamètre de k)"
   ]
  },
  {
   "cell_type": "markdown",
   "metadata": {},
   "source": [
    "# Centralites"
   ]
  },
  {
   "cell_type": "markdown",
   "metadata": {},
   "source": [
    "#### 6/ Calculez au moins deux notions de centralite des noeuds et etudiez les correlations entre leurs scores."
   ]
  },
  {
   "cell_type": "markdown",
   "metadata": {},
   "source": [
    "Il existe de nombreuses mesures de centralité des nœuds dans un graphe. Voici deux exemples de notions de centralité des nœuds que vous pouvez utiliser pour étudier les correlations entre leurs scores en utilisant Python et la bibliothèque NetworkX:\n",
    "\n",
    "\n",
    "La centralité de degré: La centralité de degré d'un nœud est égale au nombre de sommets auxquels il est connecté. Cette mesure de centralité est utile pour mesurer l'importance d'un nœud dans un graphe en termes de nombre de connexions qu'il a.\n",
    "\n",
    "\n",
    "La centralité de proximité: La centralité de proximité d'un nœud est égale à la somme des distances de tous les autres nœuds au nœud considéré. Cette mesure de centralité est utile pour mesurer l'importance d'un nœud dans un graphe en termes de proximité des autres nœuds."
   ]
  },
  {
   "cell_type": "code",
   "execution_count": 38,
   "metadata": {},
   "outputs": [],
   "source": [
    "# Calculez la centralité de degré de chaque nœud\n",
    "degree_centrality = nx.degree_centrality(N)\n",
    "\n",
    "# Calculez la centralité de proximité de chaque nœud\n",
    "closeness_centrality = nx.closeness_centrality(N)\n",
    "\n",
    "# Calculez la centralité de betweenness pour chaque nœud\n",
    "betweenness_centrality = nx.betweenness_centrality(N)"
   ]
  },
  {
   "cell_type": "markdown",
   "metadata": {},
   "source": [
    "#### 7/ Etudiez les correlations des classements qu’elles donnent sur les noeuds"
   ]
  },
  {
   "cell_type": "markdown",
   "metadata": {},
   "source": [
    "Ce code trace un nuage de points représentant la centralité de degré en abscisse et la centralité de proximité en ordonnée pour chaque nœud en utilisant la fonction scatter de Matplotlib. Cela vous permet de visualiser la correlation"
   ]
  },
  {
   "cell_type": "code",
   "execution_count": 39,
   "metadata": {},
   "outputs": [
    {
     "data": {
      "image/png": "[encoded data removed]",
      "text/plain": [
       "<Figure size 432x288 with 1 Axes>"
      ]
     },
     "metadata": {
      "needs_background": "light"
     },
     "output_type": "display_data"
    }
   ],
   "source": [
    "# Tracez un nuage de points représentant la centralité de degré en abscisse et la centralité de proximité en ordonnée pour chaque nœud\n",
    "plt.scatter(degree_centrality.values(), closeness_centrality.values())\n",
    "plt.xlabel(\"Centralité de degré\")\n",
    "plt.ylabel(\"Centralité de proximité\")\n",
    "plt.show()"
   ]
  },
  {
   "cell_type": "code",
   "execution_count": 33,
   "metadata": {},
   "outputs": [
    {
     "name": "stdout",
     "output_type": "stream",
     "text": [
      "                        degree_centrality  betweenness_centrality  \\\n",
      "degree_centrality                1.000000                0.908115   \n",
      "betweenness_centrality           0.908115                1.000000   \n",
      "closeness_centrality             0.475627                0.286907   \n",
      "\n",
      "                        closeness_centrality  \n",
      "degree_centrality                   0.475627  \n",
      "betweenness_centrality              0.286907  \n",
      "closeness_centrality                1.000000  \n"
     ]
    }
   ],
   "source": [
    "# Créer un dataframe à partir des résultats\n",
    "df = pd.DataFrame({'degree_centrality': degree_centrality,\n",
    "                   'betweenness_centrality': betweenness_centrality,\n",
    "                   'closeness_centrality': closeness_centrality\n",
    "                  })\n",
    "\n",
    "# Afficher la correlation entre les colonnes\n",
    "print(df.corr())"
   ]
  },
  {
   "cell_type": "code",
   "execution_count": 36,
   "metadata": {},
   "outputs": [
    {
     "data": {
      "text/plain": [
       "<AxesSubplot:>"
      ]
     },
     "execution_count": 36,
     "metadata": {},
     "output_type": "execute_result"
    },
    {
     "data": {
      "image/png": "[encoded data removed]",
      "text/plain": [
       "<Figure size 432x288 with 2 Axes>"
      ]
     },
     "metadata": {
      "needs_background": "light"
     },
     "output_type": "display_data"
    }
   ],
   "source": [
    "sns.heatmap(df.corr(), annot=True)"
   ]
  },
  {
   "cell_type": "code",
   "execution_count": 37,
   "metadata": {},
   "outputs": [
    {
     "data": {
      "image/png": "[encoded data removed]",
      "text/plain": [
       "<Figure size 432x288 with 1 Axes>"
      ]
     },
     "metadata": {
      "needs_background": "light"
     },
     "output_type": "display_data"
    }
   ],
   "source": [
    "plt.scatter(degree_centrality.values(), betweenness_centrality.values())\n",
    "plt.xlabel(\"Centralité de degré\")\n",
    "plt.ylabel(\"Centralité de betweenness\")\n",
    "plt.show()"
   ]
  },
  {
   "cell_type": "code",
   "execution_count": 44,
   "metadata": {},
   "outputs": [
    {
     "data": {
      "image/png": "[encoded data removed]",
      "text/plain": [
       "<Figure size 432x288 with 1 Axes>"
      ]
     },
     "metadata": {
      "needs_background": "light"
     },
     "output_type": "display_data"
    }
   ],
   "source": [
    "plt.scatter(closeness_centrality.values(), betweenness_centrality.values())\n",
    "plt.xlabel(\"Centralité de degré\")\n",
    "plt.ylabel(\"Centralité de betweenness\")\n",
    "plt.show()"
   ]
  }
 ],
 "metadata": {
  "kernelspec": {
   "display_name": "Python 3",
   "language": "python",
   "name": "python3"
  },
  "language_info": {
   "codemirror_mode": {
    "name": "ipython",
    "version": 3
   },
   "file_extension": ".py",
   "mimetype": "text/x-python",
   "name": "python",
   "nbconvert_exporter": "python",
   "pygments_lexer": "ipython3",
   "version": "3.8.5"
  }
 },
 "nbformat": 4,
 "nbformat_minor": 4
}

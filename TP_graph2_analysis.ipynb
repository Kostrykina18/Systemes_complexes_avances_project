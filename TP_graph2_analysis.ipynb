{
 "cells": [
  {
   "cell_type": "code",
   "execution_count": 7,
   "metadata": {
    "id": "gVsQZ9v4iSI2"
   },
   "outputs": [],
   "source": [
    "import numpy as np\n",
    "import pandas as pd\n",
    "import networkx as nx\n",
    "\n",
    "import matplotlib.pyplot as plt\n",
    "import seaborn as sns\n",
    "\n",
    "from tqdm import tqdm"
   ]
  },
  {
   "cell_type": "code",
   "execution_count": 2,
   "metadata": {
    "colab": {
     "base_uri": "https://localhost:8080/"
    },
    "id": "PfEtPWNciZKN",
    "outputId": "448254f7-d3f9-40b4-e0d5-e64910e17b50"
   },
   "outputs": [
    {
     "name": "stdout",
     "output_type": "stream",
     "text": [
      "--2023-01-08 13:49:45--  https://www.dropbox.com/s/x3439a7dusvvhd3/out.edit-huwikisource?dl=0\n",
      "Resolving www.dropbox.com (www.dropbox.com)... 162.125.3.18, 2620:100:6018:18::a27d:312\n",
      "Connecting to www.dropbox.com (www.dropbox.com)|162.125.3.18|:443... connected.\n",
      "HTTP request sent, awaiting response... 302 Found\n",
      "Location: /s/raw/x3439a7dusvvhd3/out.edit-huwikisource [following]\n",
      "--2023-01-08 13:49:45--  https://www.dropbox.com/s/raw/x3439a7dusvvhd3/out.edit-huwikisource\n",
      "Reusing existing connection to www.dropbox.com:443.\n",
      "HTTP request sent, awaiting response... 302 Found\n",
      "Location: https://uc0d3a031fae2af349974e014c46.dl.dropboxusercontent.com/cd/0/inline/B0KrosCSi45hoBOgRadg6Pg8v_2UBXjOs3P5LpU6DKkq6B2hXSFyxKAJlB6Lgg2GUJPHv2F7ajpdcUXsMOKWCdbid43sKhTjo6X7lV_nIgWB2pYmiibk3-1iEX-se5Ag_LRxrLGVkRM64v6EDkBpbxkoUKAQ6r7UkHox-caX2QNwEQ/file# [following]\n",
      "--2023-01-08 13:49:46--  https://uc0d3a031fae2af349974e014c46.dl.dropboxusercontent.com/cd/0/inline/B0KrosCSi45hoBOgRadg6Pg8v_2UBXjOs3P5LpU6DKkq6B2hXSFyxKAJlB6Lgg2GUJPHv2F7ajpdcUXsMOKWCdbid43sKhTjo6X7lV_nIgWB2pYmiibk3-1iEX-se5Ag_LRxrLGVkRM64v6EDkBpbxkoUKAQ6r7UkHox-caX2QNwEQ/file\n",
      "Resolving uc0d3a031fae2af349974e014c46.dl.dropboxusercontent.com (uc0d3a031fae2af349974e014c46.dl.dropboxusercontent.com)... 162.125.3.15, 2620:100:6018:15::a27d:30f\n",
      "Connecting to uc0d3a031fae2af349974e014c46.dl.dropboxusercontent.com (uc0d3a031fae2af349974e014c46.dl.dropboxusercontent.com)|162.125.3.15|:443... connected.\n",
      "HTTP request sent, awaiting response... 200 OK\n",
      "Length: 1753813 (1.7M) [text/plain]\n",
      "Saving to: ‘out.edit-huwikisource?dl=0.1’\n",
      "\n",
      "out.edit-huwikisour 100%[===================>]   1.67M  --.-KB/s    in 0.07s   \n",
      "\n",
      "2023-01-08 13:49:46 (24.1 MB/s) - ‘out.edit-huwikisource?dl=0.1’ saved [1753813/1753813]\n",
      "\n",
      "--2023-01-08 13:49:46--  http://out.edit-huwikisource/\n",
      "Resolving out.edit-huwikisource (out.edit-huwikisource)... failed: Name or service not known.\n",
      "wget: unable to resolve host address ‘out.edit-huwikisource’\n",
      "FINISHED --2023-01-08 13:49:46--\n",
      "Total wall clock time: 1.2s\n",
      "Downloaded: 1 files, 1.7M in 0.07s (24.1 MB/s)\n"
     ]
    }
   ],
   "source": [
    "!wget https://www.dropbox.com/s/x3439a7dusvvhd3/out.edit-huwikisource?dl=0 out.edit-huwikisource"
   ]
  },
  {
   "cell_type": "code",
   "execution_count": 3,
   "metadata": {
    "id": "GuhfhCBjiSI3"
   },
   "outputs": [],
   "source": [
    "with open('/content/out.edit-huwikisource?dl=0') as f:\n",
    "    f = f.read()"
   ]
  },
  {
   "cell_type": "code",
   "execution_count": 4,
   "metadata": {
    "colab": {
     "base_uri": "https://localhost:8080/"
    },
    "id": "vREpNsOQiSI4",
    "outputId": "b92cf660-78fd-477e-ef0a-aacfddb3e85d"
   },
   "outputs": [
    {
     "name": "stdout",
     "output_type": "stream",
     "text": [
      "% bip positive\n",
      "1\t1\t1\t1149411943\n",
      "2\t1\t1\t1149565895\n",
      "2\t1\t1\t1149566104\n",
      "3\t1\t1\t1149689298\n",
      "4\t2\t1\t1149360374\n",
      "\n"
     ]
    }
   ],
   "source": [
    "print(f[:100])"
   ]
  },
  {
   "cell_type": "code",
   "execution_count": 5,
   "metadata": {
    "id": "xNoR8UzIiSI4"
   },
   "outputs": [],
   "source": [
    "s = f.split('\\n')"
   ]
  },
  {
   "cell_type": "code",
   "execution_count": 6,
   "metadata": {
    "colab": {
     "base_uri": "https://localhost:8080/",
     "height": 37
    },
    "id": "_nW12bWNiSI5",
    "outputId": "a635addd-089f-4d34-80b8-79b3b52757f8"
   },
   "outputs": [
    {
     "data": {
      "application/vnd.google.colaboratory.intrinsic+json": {
       "type": "string"
      },
      "text/plain": [
       "'% bip positive'"
      ]
     },
     "execution_count": 6,
     "metadata": {},
     "output_type": "execute_result"
    }
   ],
   "source": [
    "s[0]"
   ]
  },
  {
   "cell_type": "code",
   "execution_count": 7,
   "metadata": {
    "colab": {
     "base_uri": "https://localhost:8080/",
     "height": 37
    },
    "id": "8tWMaCuRiSI5",
    "outputId": "a1c9fc1a-612a-487e-9b1b-367c484b9414"
   },
   "outputs": [
    {
     "data": {
      "application/vnd.google.colaboratory.intrinsic+json": {
       "type": "string"
      },
      "text/plain": [
       "'1\\t1\\t1\\t1149411943'"
      ]
     },
     "execution_count": 7,
     "metadata": {},
     "output_type": "execute_result"
    }
   ],
   "source": [
    "s[1]"
   ]
  },
  {
   "cell_type": "code",
   "execution_count": 9,
   "metadata": {
    "colab": {
     "base_uri": "https://localhost:8080/",
     "height": 37
    },
    "id": "YMh2OPDPigzg",
    "outputId": "57778136-a6cd-44e5-b4da-ff73dfc54eb6"
   },
   "outputs": [
    {
     "data": {
      "application/vnd.google.colaboratory.intrinsic+json": {
       "type": "string"
      },
      "text/plain": [
       "'331\\t35748\\t1\\t1500526365'"
      ]
     },
     "execution_count": 9,
     "metadata": {},
     "output_type": "execute_result"
    }
   ],
   "source": [
    "s[-2]"
   ]
  },
  {
   "cell_type": "code",
   "execution_count": 9,
   "metadata": {
    "colab": {
     "base_uri": "https://localhost:8080/"
    },
    "id": "LBAJ1gRZiSI5",
    "outputId": "92b0a89b-7063-4ec9-bb3e-e160d47a31fd"
   },
   "outputs": [
    {
     "name": "stderr",
     "output_type": "stream",
     "text": [
      "100%|██████████| 82236/82236 [00:00<00:00, 605187.15it/s]\n"
     ]
    }
   ],
   "source": [
    "two_collumns = []\n",
    "for i in tqdm(s[1:-1]):\n",
    "    a = i.split()\n",
    "    #print(a)\n",
    "    two_collumns.append(tuple(sorted((int(a[0]), int(a[1])))))"
   ]
  },
  {
   "cell_type": "code",
   "execution_count": 10,
   "metadata": {
    "colab": {
     "base_uri": "https://localhost:8080/",
     "height": 37
    },
    "id": "QJrUV4HniSI6",
    "outputId": "ffa53d5e-a129-47b1-ac35-f472771ec71b"
   },
   "outputs": [
    {
     "data": {
      "application/vnd.google.colaboratory.intrinsic+json": {
       "type": "string"
      },
      "text/plain": [
       "'331\\t35748\\t1\\t1500526365'"
      ]
     },
     "execution_count": 10,
     "metadata": {},
     "output_type": "execute_result"
    }
   ],
   "source": [
    "s[-2]"
   ]
  },
  {
   "cell_type": "code",
   "execution_count": 11,
   "metadata": {
    "colab": {
     "base_uri": "https://localhost:8080/"
    },
    "id": "DareV9V_iSI6",
    "outputId": "aeaa8c32-ea9b-48d7-ea26-82bda2976706"
   },
   "outputs": [
    {
     "data": {
      "text/plain": [
       "82236"
      ]
     },
     "execution_count": 11,
     "metadata": {},
     "output_type": "execute_result"
    }
   ],
   "source": [
    "len(two_collumns)"
   ]
  },
  {
   "cell_type": "code",
   "execution_count": 12,
   "metadata": {
    "colab": {
     "base_uri": "https://localhost:8080/"
    },
    "id": "qrxcQI20iSI6",
    "outputId": "e2f90872-1f68-4bd0-bd0d-5f9fd23c67f0"
   },
   "outputs": [
    {
     "data": {
      "text/plain": [
       "(331, 35748)"
      ]
     },
     "execution_count": 12,
     "metadata": {},
     "output_type": "execute_result"
    }
   ],
   "source": [
    "two_collumns[-1]"
   ]
  },
  {
   "cell_type": "code",
   "execution_count": 13,
   "metadata": {
    "id": "ICq29H7GiSI6"
   },
   "outputs": [],
   "source": [
    "unique = set(two_collumns)"
   ]
  },
  {
   "cell_type": "code",
   "execution_count": 14,
   "metadata": {
    "colab": {
     "base_uri": "https://localhost:8080/"
    },
    "id": "ZER6YhWziSI6",
    "outputId": "8069ed1f-47b9-46f7-840a-cd55e5fe647c"
   },
   "outputs": [
    {
     "data": {
      "text/plain": [
       "54607"
      ]
     },
     "execution_count": 14,
     "metadata": {},
     "output_type": "execute_result"
    }
   ],
   "source": [
    "len(unique)"
   ]
  },
  {
   "cell_type": "code",
   "execution_count": null,
   "metadata": {
    "id": "f8zRKINBiSI7"
   },
   "outputs": [],
   "source": [
    "two_collumns"
   ]
  },
  {
   "cell_type": "code",
   "execution_count": 16,
   "metadata": {
    "id": "MenFIrwuiSI7"
   },
   "outputs": [],
   "source": [
    "data = sorted(unique)"
   ]
  },
  {
   "cell_type": "code",
   "execution_count": null,
   "metadata": {
    "id": "qXtqALKEiSI7"
   },
   "outputs": [],
   "source": [
    "data"
   ]
  },
  {
   "cell_type": "markdown",
   "metadata": {
    "id": "9mUYhQbuiSI7"
   },
   "source": [
    "# START\n"
   ]
  },
  {
   "cell_type": "markdown",
   "metadata": {
    "id": "ccuNPYRsiSI8"
   },
   "source": [
    "graph"
   ]
  },
  {
   "cell_type": "code",
   "execution_count": 17,
   "metadata": {
    "id": "uPN0NEAhiSI8"
   },
   "outputs": [],
   "source": [
    "D = nx.DiGraph()\n",
    "D.add_edges_from(data)"
   ]
  },
  {
   "cell_type": "code",
   "execution_count": 18,
   "metadata": {
    "colab": {
     "base_uri": "https://localhost:8080/"
    },
    "id": "7N9_qFE9iSI8",
    "outputId": "55c87544-372e-4b84-b405-0d3912e92731"
   },
   "outputs": [
    {
     "data": {
      "text/plain": [
       "35588"
      ]
     },
     "execution_count": 18,
     "metadata": {},
     "output_type": "execute_result"
    }
   ],
   "source": [
    "len(D.nodes)"
   ]
  },
  {
   "cell_type": "code",
   "execution_count": 19,
   "metadata": {
    "colab": {
     "base_uri": "https://localhost:8080/"
    },
    "id": "KpMDU0briSI9",
    "outputId": "bac2e319-d666-410f-ff6e-5a7798e5943a"
   },
   "outputs": [
    {
     "data": {
      "text/plain": [
       "54607"
      ]
     },
     "execution_count": 19,
     "metadata": {},
     "output_type": "execute_result"
    }
   ],
   "source": [
    "len(D.edges)"
   ]
  },
  {
   "cell_type": "markdown",
   "metadata": {
    "id": "pCUZqi4siSI9"
   },
   "source": [
    "## Distances"
   ]
  },
  {
   "cell_type": "markdown",
   "metadata": {
    "id": "bT98JLGmiSI-"
   },
   "source": [
    "### 2/ Calculez la distribution de l’excentricite d’un sommet."
   ]
  },
  {
   "cell_type": "markdown",
   "metadata": {
    "id": "kP8y-cdGiSI-"
   },
   "source": [
    "L'excentricité d'un sommet dans un graphe est la distance maximale entre ce sommet et tous les autres sommets du graphe. Voici un code qui montre comment calculer la distribution de l'excentricité de tous les sommets d'un graphe en utilisant NetworkX:"
   ]
  },
  {
   "cell_type": "code",
   "execution_count": 23,
   "metadata": {
    "id": "6CCKtOmciSI_"
   },
   "outputs": [],
   "source": [
    "# Calculez l'excentricité de chaque sommet\n",
    "eccentricities = nx.eccentricity(N)\n",
    "\n",
    "# Calculez la distribution de l'excentricité\n",
    "eccentricity_counts = {}\n",
    "for node, eccentricity in eccentricities.items():\n",
    "    if eccentricity not in eccentricity_counts:\n",
    "        eccentricity_counts[eccentricity] = 0\n",
    "    eccentricity_counts[eccentricity] += 1"
   ]
  },
  {
   "cell_type": "code",
   "execution_count": 24,
   "metadata": {
    "colab": {
     "base_uri": "https://localhost:8080/"
    },
    "id": "kVyzZga-iSI_",
    "outputId": "dd5e34ea-4b76-4751-a120-3b58968d87d8"
   },
   "outputs": [
    {
     "name": "stdout",
     "output_type": "stream",
     "text": [
      "{4: 558, 3: 1, 5: 34370, 6: 657}\n"
     ]
    }
   ],
   "source": [
    "# Affichez la distribution de l'excentricité\n",
    "print(eccentricity_counts)"
   ]
  },
  {
   "cell_type": "markdown",
   "metadata": {
    "id": "xCZZsuetiSI_"
   },
   "source": [
    "Ce code calcule l'excentricité de chaque sommet en utilisant la fonction eccentricity de NetworkX. Ensuite, il calcule la distribution de l'excentricité en parcourant les valeurs d'excentricité et en comptant le nombre de fois que chaque valeur d'excentricité apparaît. Enfin, il affiche la distribution de l'excentricité sous forme de dictionnaire Python."
   ]
  },
  {
   "cell_type": "markdown",
   "metadata": {
    "id": "28NV7P7hiSI_"
   },
   "source": [
    "### 3/ Quelle est l’excentricite minimum d’un sommet, combien de sommets realisent ce minimum"
   ]
  },
  {
   "cell_type": "markdown",
   "metadata": {
    "id": "-WQ3nr2PiSI_"
   },
   "source": [
    "L'excentricité minimale d'un sommet dans un graphe est égale à 1 si le sommet est isolé, c'est-à-dire qu'il n'a aucun voisin. Si le graphe contient au moins un arc, alors l'excentricité minimale d'un sommet est égale à 2.\n",
    "\n",
    "Il y a autant de sommets qui réalisent cette excentricité minimale que de sommets isolés dans le graphe (c'est-à-dire avec une excentricité de 1) ou de sommets adjacents à un sommet isolé (c'est-à-dire avec une excentricité de 2)."
   ]
  },
  {
   "cell_type": "code",
   "execution_count": 25,
   "metadata": {
    "colab": {
     "base_uri": "https://localhost:8080/"
    },
    "id": "qKnwQ2KOiSI_",
    "outputId": "c421be97-e553-42c8-b3f2-8c60806ac860",
    "scrolled": true
   },
   "outputs": [
    {
     "name": "stdout",
     "output_type": "stream",
     "text": [
      "Le nombre de sommets qui ont une excentricité minimale est: 1\n"
     ]
    }
   ],
   "source": [
    "# Trouvez le nombre de sommets qui ont une excentricité minimale (1 ou 2)\n",
    "min_eccentricity = min(eccentricities.values())\n",
    "num_min_eccentricity = sum(1 for e in eccentricities.values() if e == min_eccentricity)\n",
    "\n",
    "print(f\"Le nombre de sommets qui ont une excentricité minimale est: {num_min_eccentricity}\")"
   ]
  },
  {
   "cell_type": "markdown",
   "metadata": {
    "id": "JX7MGCjSiSJA"
   },
   "source": [
    "Ce code calcule l'excentricité de chaque sommet en utilisant la fonction eccentricity de NetworkX. Ensuite, il trouve le nombre de sommets qui ont une excentricité minimale en parcourant les valeurs d'excentricité et en comptant le nombre de sommets qui ont une excentricité de 1 ou de 2. Enfin, il affiche le nombre de sommets qui ont une excentricité minimale."
   ]
  },
  {
   "cell_type": "markdown",
   "metadata": {
    "id": "_2xp26uaiSJB"
   },
   "source": [
    "# Centralites"
   ]
  },
  {
   "cell_type": "markdown",
   "metadata": {
    "id": "RwFaXe1diSJB"
   },
   "source": [
    "#### 6/ Calculez au moins deux notions de centralite des noeuds et etudiez les correlations entre leurs scores."
   ]
  },
  {
   "cell_type": "markdown",
   "metadata": {
    "id": "Hps6A21siSJB"
   },
   "source": [
    "Il existe de nombreuses mesures de centralité des nœuds dans un graphe. Voici deux exemples de notions de centralité des nœuds que vous pouvez utiliser pour étudier les correlations entre leurs scores en utilisant Python et la bibliothèque NetworkX:\n",
    "\n",
    "\n",
    "La centralité de degré: La centralité de degré d'un nœud est égale au nombre de sommets auxquels il est connecté. Cette mesure de centralité est utile pour mesurer l'importance d'un nœud dans un graphe en termes de nombre de connexions qu'il a.\n",
    "\n",
    "\n",
    "La centralité de proximité: La centralité de proximité d'un nœud est égale à la somme des distances de tous les autres nœuds au nœud considéré. Cette mesure de centralité est utile pour mesurer l'importance d'un nœud dans un graphe en termes de proximité des autres nœuds."
   ]
  },
  {
   "cell_type": "code",
   "execution_count": 21,
   "metadata": {
    "id": "wzyqWevcpnpG"
   },
   "outputs": [],
   "source": [
    "# Calculez la centralité de degré de chaque nœud\n",
    "degree_centrality = nx.degree_centrality(N)"
   ]
  },
  {
   "cell_type": "code",
   "execution_count": 22,
   "metadata": {
    "id": "BKCYvFZLppIM"
   },
   "outputs": [],
   "source": [
    "\n",
    "# Calculez la centralité de proximité de chaque nœud\n",
    "closeness_centrality = nx.closeness_centrality(N)"
   ]
  },
  {
   "cell_type": "code",
   "execution_count": 26,
   "metadata": {
    "id": "smCxhOI4iSJB"
   },
   "outputs": [],
   "source": [
    "# Calculez la centralité de betweenness pour chaque nœud\n",
    "betweenness_centrality = nx.betweenness_centrality(N)"
   ]
  },
  {
   "cell_type": "markdown",
   "metadata": {
    "id": "J927_lFfiSJB"
   },
   "source": [
    "#### 7/ Etudiez les correlations des classements qu’elles donnent sur les noeuds"
   ]
  },
  {
   "cell_type": "markdown",
   "metadata": {
    "id": "q3SQb57eiSJB"
   },
   "source": [
    "Ce code trace un nuage de points représentant la centralité de degré en abscisse et la centralité de proximité en ordonnée pour chaque nœud en utilisant la fonction scatter de Matplotlib. Cela vous permet de visualiser la correlation"
   ]
  },
  {
   "cell_type": "code",
   "execution_count": 31,
   "metadata": {
    "colab": {
     "base_uri": "https://localhost:8080/",
     "height": 280
    },
    "id": "078_4z51MmGM",
    "outputId": "9aaf6b72-1eae-4def-ec1c-dddb1424ab94"
   },
   "outputs": [
    {
     "data": {
      "image/png": "[encoded data removed]",
      "text/plain": [
       "<Figure size 432x288 with 1 Axes>"
      ]
     },
     "metadata": {
      "needs_background": "light"
     },
     "output_type": "display_data"
    }
   ],
   "source": [
    "# Tracez un nuage de points représentant la centralité de degré en abscisse et la centralité de proximité en ordonnée pour chaque nœud\n",
    "plt.scatter(closeness_centrality.values(), degree_centrality.values())\n",
    "plt.xlabel(\"Centralité de degré\")\n",
    "plt.ylabel(\"Centralité de proximité\")\n",
    "plt.show()"
   ]
  },
  {
   "cell_type": "code",
   "execution_count": 27,
   "metadata": {
    "colab": {
     "base_uri": "https://localhost:8080/"
    },
    "id": "MOrfPfUwiSJC",
    "outputId": "e37e0ace-ec32-4505-82b1-111fa7dda67b"
   },
   "outputs": [
    {
     "name": "stdout",
     "output_type": "stream",
     "text": [
      "                        degree_centrality  betweenness_centrality  \\\n",
      "degree_centrality                1.000000                0.977830   \n",
      "betweenness_centrality           0.977830                1.000000   \n",
      "closeness_centrality             0.036949                0.036745   \n",
      "\n",
      "                        closeness_centrality  \n",
      "degree_centrality                   0.036949  \n",
      "betweenness_centrality              0.036745  \n",
      "closeness_centrality                1.000000  \n"
     ]
    }
   ],
   "source": [
    "# Créer un dataframe à partir des résultats\n",
    "df = pd.DataFrame({'degree_centrality': degree_centrality,\n",
    "                   'betweenness_centrality': betweenness_centrality,\n",
    "                   'closeness_centrality': closeness_centrality\n",
    "                  })\n",
    "\n",
    "# Afficher la correlation entre les colonnes\n",
    "print(df.corr())"
   ]
  },
  {
   "cell_type": "code",
   "execution_count": 28,
   "metadata": {
    "colab": {
     "base_uri": "https://localhost:8080/",
     "height": 395
    },
    "id": "RMPYqR04vzbR",
    "outputId": "916df1cc-1e34-4886-9c28-5efee89fd717"
   },
   "outputs": [
    {
     "data": {
      "text/plain": [
       "<matplotlib.axes._subplots.AxesSubplot at 0x7ff90a5f2cd0>"
      ]
     },
     "execution_count": 28,
     "metadata": {},
     "output_type": "execute_result"
    },
    {
     "data": {
      "image/png": "[encoded data removed]",
      "text/plain": [
       "<Figure size 432x288 with 2 Axes>"
      ]
     },
     "metadata": {
      "needs_background": "light"
     },
     "output_type": "display_data"
    }
   ],
   "source": [
    "sns.heatmap(df.corr(), annot=True)"
   ]
  },
  {
   "cell_type": "code",
   "execution_count": 29,
   "metadata": {
    "colab": {
     "base_uri": "https://localhost:8080/",
     "height": 280
    },
    "id": "A2qfTGr3iSJC",
    "outputId": "b3896eb8-a7a0-418d-81ca-e27a3d55f622",
    "scrolled": true
   },
   "outputs": [
    {
     "data": {
      "image/png": "[encoded data removed]",
      "text/plain": [
       "<Figure size 432x288 with 1 Axes>"
      ]
     },
     "metadata": {
      "needs_background": "light"
     },
     "output_type": "display_data"
    }
   ],
   "source": [
    "plt.scatter(degree_centrality.values(), betweenness_centrality.values())\n",
    "plt.xlabel(\"Centralité de degré\")\n",
    "plt.ylabel(\"Centralité de betweenness\")\n",
    "plt.show()"
   ]
  },
  {
   "cell_type": "code",
   "execution_count": 33,
   "metadata": {
    "colab": {
     "base_uri": "https://localhost:8080/",
     "height": 280
    },
    "id": "Xjx1L4JQKsuH",
    "outputId": "6d702d3d-b74e-4ad9-fd76-325fe0c700f9",
    "scrolled": true
   },
   "outputs": [
    {
     "data": {
      "image/png": "[encoded data removed]",
      "text/plain": [
       "<Figure size 432x288 with 1 Axes>"
      ]
     },
     "metadata": {
      "needs_background": "light"
     },
     "output_type": "display_data"
    }
   ],
   "source": [
    "plt.scatter(closeness_centrality.values(), betweenness_centrality.values())\n",
    "plt.xlabel(\"Centralité de degré\")\n",
    "plt.ylabel(\"Centralité de betweenness\")\n",
    "plt.show()"
   ]
  }
 ],
 "metadata": {
  "colab": {
   "provenance": []
  },
  "kernelspec": {
   "display_name": "Python 3",
   "language": "python",
   "name": "python3"
  },
  "language_info": {
   "codemirror_mode": {
    "name": "ipython",
    "version": 3
   },
   "file_extension": ".py",
   "mimetype": "text/x-python",
   "name": "python",
   "nbconvert_exporter": "python",
   "pygments_lexer": "ipython3",
   "version": "3.8.5"
  }
 },
 "nbformat": 4,
 "nbformat_minor": 1
}

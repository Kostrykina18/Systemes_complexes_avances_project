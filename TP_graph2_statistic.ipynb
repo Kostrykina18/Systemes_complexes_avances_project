{
  "cells": [
    {
      "cell_type": "code",
      "execution_count": 1,
      "metadata": {
        "id": "0MJA3jOLbLt4"
      },
      "outputs": [],
      "source": [
        "import numpy as np\n",
        "import pandas as pd\n",
        "import networkx as nx\n",
        "\n",
        "import matplotlib.pyplot as plt\n",
        "\n",
        "from tqdm import tqdm"
      ]
    },
    {
      "cell_type": "code",
      "source": [
        "!wget https://www.dropbox.com/s/x3439a7dusvvhd3/out.edit-huwikisource?dl=0 out.edit-huwikisource"
      ],
      "metadata": {
        "colab": {
          "base_uri": "https://localhost:8080/"
        },
        "id": "ZgIUQXHjbS1x",
        "outputId": "0b3afd12-1bc1-423f-fb1d-8f7284da9970"
      },
      "execution_count": 2,
      "outputs": [
        {
          "output_type": "stream",
          "name": "stdout",
          "text": [
            "--2023-01-08 13:05:12--  https://www.dropbox.com/s/x3439a7dusvvhd3/out.edit-huwikisource?dl=0\n",
            "Resolving www.dropbox.com (www.dropbox.com)... 162.125.3.18, 2620:100:6018:18::a27d:312\n",
            "Connecting to www.dropbox.com (www.dropbox.com)|162.125.3.18|:443... connected.\n",
            "HTTP request sent, awaiting response... 302 Found\n",
            "Location: /s/raw/x3439a7dusvvhd3/out.edit-huwikisource [following]\n",
            "--2023-01-08 13:05:12--  https://www.dropbox.com/s/raw/x3439a7dusvvhd3/out.edit-huwikisource\n",
            "Reusing existing connection to www.dropbox.com:443.\n",
            "HTTP request sent, awaiting response... 302 Found\n",
            "Location: https://ucd4662b36ec1081f1006c93f263.dl.dropboxusercontent.com/cd/0/inline/B0K_oc2jBKWbEh_LuO3xucmMZHgrrRiOhaqRYsZFBLpVLyylndWdahAKDmrnDB981tJs72JD5mOJG7tEayYYkVNpCxhrpe27_5h7DXE41JtpZF1BA7boI6NRLulnPMO146ctSpr_IUt7Gm0Skeid-sy3gbwr5dAVc3EX8diGVeIKTw/file# [following]\n",
            "--2023-01-08 13:05:13--  https://ucd4662b36ec1081f1006c93f263.dl.dropboxusercontent.com/cd/0/inline/B0K_oc2jBKWbEh_LuO3xucmMZHgrrRiOhaqRYsZFBLpVLyylndWdahAKDmrnDB981tJs72JD5mOJG7tEayYYkVNpCxhrpe27_5h7DXE41JtpZF1BA7boI6NRLulnPMO146ctSpr_IUt7Gm0Skeid-sy3gbwr5dAVc3EX8diGVeIKTw/file\n",
            "Resolving ucd4662b36ec1081f1006c93f263.dl.dropboxusercontent.com (ucd4662b36ec1081f1006c93f263.dl.dropboxusercontent.com)... 162.125.4.15, 2620:100:6018:15::a27d:30f\n",
            "Connecting to ucd4662b36ec1081f1006c93f263.dl.dropboxusercontent.com (ucd4662b36ec1081f1006c93f263.dl.dropboxusercontent.com)|162.125.4.15|:443... connected.\n",
            "HTTP request sent, awaiting response... 200 OK\n",
            "Length: 1753813 (1.7M) [text/plain]\n",
            "Saving to: ‘out.edit-huwikisource?dl=0’\n",
            "\n",
            "out.edit-huwikisour 100%[===================>]   1.67M  6.20MB/s    in 0.3s    \n",
            "\n",
            "2023-01-08 13:05:13 (6.20 MB/s) - ‘out.edit-huwikisource?dl=0’ saved [1753813/1753813]\n",
            "\n",
            "--2023-01-08 13:05:13--  http://out.edit-huwikisource/\n",
            "Resolving out.edit-huwikisource (out.edit-huwikisource)... failed: Name or service not known.\n",
            "wget: unable to resolve host address ‘out.edit-huwikisource’\n",
            "FINISHED --2023-01-08 13:05:13--\n",
            "Total wall clock time: 1.2s\n",
            "Downloaded: 1 files, 1.7M in 0.3s (6.20 MB/s)\n"
          ]
        }
      ]
    },
    {
      "cell_type": "code",
      "execution_count": 2,
      "metadata": {
        "id": "9J72X4hBbLt7"
      },
      "outputs": [],
      "source": [
        "with open('/content/out.edit-huwikisource?dl=0') as f:\n",
        "    f = f.read()"
      ]
    },
    {
      "cell_type": "code",
      "execution_count": 3,
      "metadata": {
        "colab": {
          "base_uri": "https://localhost:8080/"
        },
        "id": "himRjWJ6bLt7",
        "outputId": "5ca6c261-c707-4fc7-bfa8-d6021ed979ad"
      },
      "outputs": [
        {
          "output_type": "stream",
          "name": "stdout",
          "text": [
            "% bip positive\n",
            "1\t1\t1\t1149411943\n",
            "2\t1\t1\t1149565895\n",
            "2\t1\t1\t1149566104\n",
            "3\t1\t1\t1149689298\n",
            "4\t2\t1\t1149360374\n",
            "\n"
          ]
        }
      ],
      "source": [
        "print(f[:100])"
      ]
    },
    {
      "cell_type": "code",
      "source": [],
      "metadata": {
        "id": "rKb4SBlRcIdK"
      },
      "execution_count": null,
      "outputs": []
    },
    {
      "cell_type": "code",
      "execution_count": 4,
      "metadata": {
        "id": "IRGReO7lbLt8"
      },
      "outputs": [],
      "source": [
        "s = f.split('\\n')"
      ]
    },
    {
      "cell_type": "code",
      "execution_count": 6,
      "metadata": {
        "colab": {
          "base_uri": "https://localhost:8080/",
          "height": 37
        },
        "id": "7feiu3xobLt8",
        "outputId": "6a130174-f6e8-4578-c73f-d9f2ce5347b8"
      },
      "outputs": [
        {
          "output_type": "execute_result",
          "data": {
            "text/plain": [
              "'% bip positive'"
            ],
            "application/vnd.google.colaboratory.intrinsic+json": {
              "type": "string"
            }
          },
          "metadata": {},
          "execution_count": 6
        }
      ],
      "source": [
        "s[0]"
      ]
    },
    {
      "cell_type": "code",
      "execution_count": 7,
      "metadata": {
        "colab": {
          "base_uri": "https://localhost:8080/",
          "height": 37
        },
        "id": "Zoxo4cXqbLt8",
        "outputId": "920940e6-566f-4686-c9bc-f68168d4d727"
      },
      "outputs": [
        {
          "output_type": "execute_result",
          "data": {
            "text/plain": [
              "'1\\t1\\t1\\t1149411943'"
            ],
            "application/vnd.google.colaboratory.intrinsic+json": {
              "type": "string"
            }
          },
          "metadata": {},
          "execution_count": 7
        }
      ],
      "source": [
        "s[1]"
      ]
    },
    {
      "cell_type": "code",
      "source": [
        "s[-2]"
      ],
      "metadata": {
        "colab": {
          "base_uri": "https://localhost:8080/",
          "height": 37
        },
        "id": "FfDvme7Tb9ac",
        "outputId": "d466f063-79e2-4ad7-cf1f-4799357bb6ee"
      },
      "execution_count": 11,
      "outputs": [
        {
          "output_type": "execute_result",
          "data": {
            "text/plain": [
              "'331\\t35748\\t1\\t1500526365'"
            ],
            "application/vnd.google.colaboratory.intrinsic+json": {
              "type": "string"
            }
          },
          "metadata": {},
          "execution_count": 11
        }
      ]
    },
    {
      "cell_type": "code",
      "source": [
        "len(s)"
      ],
      "metadata": {
        "colab": {
          "base_uri": "https://localhost:8080/"
        },
        "id": "Ek0davl_cG5t",
        "outputId": "6c8b39e5-1e7c-4c6e-d7b8-8ba26fb7091c"
      },
      "execution_count": 9,
      "outputs": [
        {
          "output_type": "execute_result",
          "data": {
            "text/plain": [
              "82238"
            ]
          },
          "metadata": {},
          "execution_count": 9
        }
      ]
    },
    {
      "cell_type": "code",
      "execution_count": 5,
      "metadata": {
        "colab": {
          "base_uri": "https://localhost:8080/"
        },
        "id": "L09xu7VxbLt8",
        "outputId": "dcdadf22-449f-49f3-b9eb-e58e6e8263d3"
      },
      "outputs": [
        {
          "output_type": "stream",
          "name": "stderr",
          "text": [
            "100%|██████████| 82236/82236 [00:00<00:00, 246688.30it/s]\n"
          ]
        }
      ],
      "source": [
        "two_collumns = []\n",
        "for i in tqdm(s[1:-1]):\n",
        "    a = i.split()\n",
        "    #print(a)\n",
        "    two_collumns.append(tuple(sorted((int(a[0]), int(a[1])))))"
      ]
    },
    {
      "cell_type": "code",
      "execution_count": 13,
      "metadata": {
        "colab": {
          "base_uri": "https://localhost:8080/",
          "height": 37
        },
        "id": "ylZclCb7bLt9",
        "outputId": "31dddddf-ae92-4c5a-d704-ec868291131d"
      },
      "outputs": [
        {
          "output_type": "execute_result",
          "data": {
            "text/plain": [
              "'331\\t35748\\t1\\t1500526365'"
            ],
            "application/vnd.google.colaboratory.intrinsic+json": {
              "type": "string"
            }
          },
          "metadata": {},
          "execution_count": 13
        }
      ],
      "source": [
        "s[-2]"
      ]
    },
    {
      "cell_type": "code",
      "execution_count": 14,
      "metadata": {
        "colab": {
          "base_uri": "https://localhost:8080/"
        },
        "id": "A0O5nZdJbLt9",
        "outputId": "57d38593-baf2-4efc-d90b-fd40257e3d7d"
      },
      "outputs": [
        {
          "output_type": "execute_result",
          "data": {
            "text/plain": [
              "82236"
            ]
          },
          "metadata": {},
          "execution_count": 14
        }
      ],
      "source": [
        "len(two_collumns)"
      ]
    },
    {
      "cell_type": "code",
      "execution_count": 15,
      "metadata": {
        "colab": {
          "base_uri": "https://localhost:8080/"
        },
        "id": "0YOKVHG_bLt9",
        "outputId": "cdc7f167-c6d2-4886-d02a-be37f6dedb7d"
      },
      "outputs": [
        {
          "output_type": "execute_result",
          "data": {
            "text/plain": [
              "(331, 35748)"
            ]
          },
          "metadata": {},
          "execution_count": 15
        }
      ],
      "source": [
        "two_collumns[-1]"
      ]
    },
    {
      "cell_type": "code",
      "execution_count": 6,
      "metadata": {
        "id": "-X_RU1bNbLt9"
      },
      "outputs": [],
      "source": [
        "unique = set(two_collumns)"
      ]
    },
    {
      "cell_type": "code",
      "execution_count": 7,
      "metadata": {
        "colab": {
          "base_uri": "https://localhost:8080/"
        },
        "id": "HqZjlcdPbLt-",
        "outputId": "9711b812-809e-4cb1-b5b3-4201511f8068"
      },
      "outputs": [
        {
          "output_type": "execute_result",
          "data": {
            "text/plain": [
              "54607"
            ]
          },
          "metadata": {},
          "execution_count": 7
        }
      ],
      "source": [
        "len(unique)"
      ]
    },
    {
      "cell_type": "code",
      "execution_count": null,
      "metadata": {
        "id": "x8oPWqFIbLt-"
      },
      "outputs": [],
      "source": [
        "two_collumns"
      ]
    },
    {
      "cell_type": "code",
      "execution_count": 8,
      "metadata": {
        "id": "zTdUWQ2ybLt_"
      },
      "outputs": [],
      "source": [
        "data = sorted(unique)"
      ]
    },
    {
      "cell_type": "code",
      "execution_count": null,
      "metadata": {
        "id": "QjwkSLd7bLt_"
      },
      "outputs": [],
      "source": [
        "data"
      ]
    },
    {
      "cell_type": "markdown",
      "metadata": {
        "id": "AslvJQy6bLt_"
      },
      "source": [
        "# START\n"
      ]
    },
    {
      "cell_type": "markdown",
      "metadata": {
        "id": "jeF4_5CQbLuA"
      },
      "source": [
        "graph"
      ]
    },
    {
      "cell_type": "code",
      "execution_count": 41,
      "metadata": {
        "id": "FWWi72nqbLuA"
      },
      "outputs": [],
      "source": [
        "D = nx.DiGraph()\n",
        "D.add_edges_from(data)"
      ]
    },
    {
      "cell_type": "code",
      "execution_count": 42,
      "metadata": {
        "colab": {
          "base_uri": "https://localhost:8080/"
        },
        "id": "p7lBKWnZbLuB",
        "outputId": "29cac6f8-d917-4b59-8e98-dfc5cc6403c7"
      },
      "outputs": [
        {
          "output_type": "execute_result",
          "data": {
            "text/plain": [
              "35588"
            ]
          },
          "metadata": {},
          "execution_count": 42
        }
      ],
      "source": [
        "len(D.nodes)"
      ]
    },
    {
      "cell_type": "code",
      "execution_count": 43,
      "metadata": {
        "colab": {
          "base_uri": "https://localhost:8080/"
        },
        "id": "w4PUCfOQbLuB",
        "outputId": "e7d257b2-f1fb-4bb9-ab31-85cb9a81ba57"
      },
      "outputs": [
        {
          "output_type": "execute_result",
          "data": {
            "text/plain": [
              "54607"
            ]
          },
          "metadata": {},
          "execution_count": 43
        }
      ],
      "source": [
        "len(D.edges)"
      ]
    },
    {
      "cell_type": "code",
      "source": [
        "import random\n",
        "\n",
        "def sample_nodes(graph, sample_size):\n",
        "    # Get a list of all the nodes in the graph\n",
        "    nodes = list(graph.nodes)\n",
        "    # Use the sample function to select a random sample of the nodes\n",
        "    sample = random.sample(nodes, sample_size)\n",
        "    return sample"
      ],
      "metadata": {
        "id": "G3CsO1_v-R9K"
      },
      "execution_count": 12,
      "outputs": []
    },
    {
      "cell_type": "code",
      "source": [
        "Q = sample_nodes(D, 15000)"
      ],
      "metadata": {
        "id": "TP33SNI1-Tof"
      },
      "execution_count": 13,
      "outputs": []
    },
    {
      "cell_type": "code",
      "source": [],
      "metadata": {
        "id": "QSCI0qzD-cZ4"
      },
      "execution_count": null,
      "outputs": []
    },
    {
      "cell_type": "code",
      "source": [
        "Z = D.subgraph(Q)"
      ],
      "metadata": {
        "id": "t9a_8TXm-dmv"
      },
      "execution_count": 15,
      "outputs": []
    },
    {
      "cell_type": "code",
      "source": [
        "Z.edges"
      ],
      "metadata": {
        "id": "3-0z27WZ-c_p"
      },
      "execution_count": null,
      "outputs": []
    },
    {
      "cell_type": "code",
      "execution_count": null,
      "metadata": {
        "scrolled": true,
        "id": "CJlYYApobLuB"
      },
      "outputs": [],
      "source": [
        "#len(nx.shortest_path(D,66).keys())"
      ]
    },
    {
      "cell_type": "code",
      "execution_count": null,
      "metadata": {
        "id": "ZslpQ4xcbLuB"
      },
      "outputs": [],
      "source": [
        "#nx.shortest_path(D,1)"
      ]
    },
    {
      "cell_type": "markdown",
      "metadata": {
        "id": "2R8DGu8DbLuB"
      },
      "source": [
        "La plus grande composante connexe du graph est :"
      ]
    },
    {
      "cell_type": "code",
      "execution_count": 49,
      "metadata": {
        "id": "j_D0A8XtbLuC"
      },
      "outputs": [],
      "source": [
        "# Trouver la plus grande composante connexe du graph\n",
        "largest_cc = max(nx.connected_components(D.to_undirected()), key=len)"
      ]
    },
    {
      "cell_type": "markdown",
      "metadata": {
        "id": "8fvm-NfhbLuC"
      },
      "source": [
        "make a subgraph"
      ]
    },
    {
      "cell_type": "code",
      "execution_count": 50,
      "metadata": {
        "id": "P-BpLLq3bLuC"
      },
      "outputs": [],
      "source": [
        "W = D.subgraph(largest_cc)"
      ]
    },
    {
      "cell_type": "code",
      "execution_count": 51,
      "metadata": {
        "colab": {
          "base_uri": "https://localhost:8080/"
        },
        "id": "u5VXNxc4bLuC",
        "outputId": "ce5182ff-dade-46fc-ee77-3aef51c6a0e8"
      },
      "outputs": [
        {
          "output_type": "execute_result",
          "data": {
            "text/plain": [
              "35586"
            ]
          },
          "metadata": {},
          "execution_count": 51
        }
      ],
      "source": [
        "len(W.nodes())"
      ]
    },
    {
      "cell_type": "code",
      "source": [
        "len(W.edges())"
      ],
      "metadata": {
        "colab": {
          "base_uri": "https://localhost:8080/"
        },
        "id": "DCZBqr36_BlY",
        "outputId": "92302df6-0bda-4622-88c2-791d3d2b82fd"
      },
      "execution_count": 52,
      "outputs": [
        {
          "output_type": "execute_result",
          "data": {
            "text/plain": [
              "54606"
            ]
          },
          "metadata": {},
          "execution_count": 52
        }
      ]
    },
    {
      "cell_type": "markdown",
      "metadata": {
        "id": "2S4ryUZlbLuC"
      },
      "source": [
        "relable"
      ]
    },
    {
      "cell_type": "code",
      "execution_count": 53,
      "metadata": {
        "id": "3Le0-QQEbLuC"
      },
      "outputs": [],
      "source": [
        "mapping = dict(zip(W, range(0, len(W.nodes()))))\n",
        "N = nx.relabel_nodes(W, mapping)  # nodes are integers 0 through 1707-1"
      ]
    },
    {
      "cell_type": "code",
      "execution_count": 54,
      "metadata": {
        "id": "mdcVzwxnbLuD"
      },
      "outputs": [],
      "source": [
        "N = N.to_undirected()"
      ]
    },
    {
      "cell_type": "markdown",
      "metadata": {
        "id": "PDWkb48qbLuE"
      },
      "source": [
        "make a txt"
      ]
    },
    {
      "cell_type": "code",
      "execution_count": null,
      "metadata": {
        "id": "I5KUOyZvbLuF"
      },
      "outputs": [],
      "source": [
        "N.edges"
      ]
    },
    {
      "cell_type": "code",
      "execution_count": 62,
      "metadata": {
        "id": "g-lNwcIEbLuF"
      },
      "outputs": [],
      "source": [
        "df = pd.DataFrame()\n",
        "df['node'] = [i[0] for i in list(N.edges)]\n",
        "df['edge'] = [i[1] for i in list(N.edges)]"
      ]
    },
    {
      "cell_type": "code",
      "execution_count": 63,
      "metadata": {
        "colab": {
          "base_uri": "https://localhost:8080/",
          "height": 419
        },
        "id": "rS1el0RhbLuG",
        "outputId": "17dac512-c5f9-4cdd-9254-a2a881bbdee7"
      },
      "outputs": [
        {
          "output_type": "execute_result",
          "data": {
            "text/plain": [
              "        node   edge\n",
              "0          0      0\n",
              "1          0      1\n",
              "2          0      2\n",
              "3          0      3\n",
              "4          0      4\n",
              "...      ...    ...\n",
              "54601  30730  34268\n",
              "54602  31069  34265\n",
              "54603  31806  34273\n",
              "54604  34271  34811\n",
              "54605  34275  34929\n",
              "\n",
              "[54606 rows x 2 columns]"
            ],
            "text/html": [
              "\n",
              "  <div id=\"df-0de69a65-2b20-4bad-ac6a-f14cc72dd727\">\n",
              "    <div class=\"colab-df-container\">\n",
              "      <div>\n",
              "<style scoped>\n",
              "    .dataframe tbody tr th:only-of-type {\n",
              "        vertical-align: middle;\n",
              "    }\n",
              "\n",
              "    .dataframe tbody tr th {\n",
              "        vertical-align: top;\n",
              "    }\n",
              "\n",
              "    .dataframe thead th {\n",
              "        text-align: right;\n",
              "    }\n",
              "</style>\n",
              "<table border=\"1\" class=\"dataframe\">\n",
              "  <thead>\n",
              "    <tr style=\"text-align: right;\">\n",
              "      <th></th>\n",
              "      <th>node</th>\n",
              "      <th>edge</th>\n",
              "    </tr>\n",
              "  </thead>\n",
              "  <tbody>\n",
              "    <tr>\n",
              "      <th>0</th>\n",
              "      <td>0</td>\n",
              "      <td>0</td>\n",
              "    </tr>\n",
              "    <tr>\n",
              "      <th>1</th>\n",
              "      <td>0</td>\n",
              "      <td>1</td>\n",
              "    </tr>\n",
              "    <tr>\n",
              "      <th>2</th>\n",
              "      <td>0</td>\n",
              "      <td>2</td>\n",
              "    </tr>\n",
              "    <tr>\n",
              "      <th>3</th>\n",
              "      <td>0</td>\n",
              "      <td>3</td>\n",
              "    </tr>\n",
              "    <tr>\n",
              "      <th>4</th>\n",
              "      <td>0</td>\n",
              "      <td>4</td>\n",
              "    </tr>\n",
              "    <tr>\n",
              "      <th>...</th>\n",
              "      <td>...</td>\n",
              "      <td>...</td>\n",
              "    </tr>\n",
              "    <tr>\n",
              "      <th>54601</th>\n",
              "      <td>30730</td>\n",
              "      <td>34268</td>\n",
              "    </tr>\n",
              "    <tr>\n",
              "      <th>54602</th>\n",
              "      <td>31069</td>\n",
              "      <td>34265</td>\n",
              "    </tr>\n",
              "    <tr>\n",
              "      <th>54603</th>\n",
              "      <td>31806</td>\n",
              "      <td>34273</td>\n",
              "    </tr>\n",
              "    <tr>\n",
              "      <th>54604</th>\n",
              "      <td>34271</td>\n",
              "      <td>34811</td>\n",
              "    </tr>\n",
              "    <tr>\n",
              "      <th>54605</th>\n",
              "      <td>34275</td>\n",
              "      <td>34929</td>\n",
              "    </tr>\n",
              "  </tbody>\n",
              "</table>\n",
              "<p>54606 rows × 2 columns</p>\n",
              "</div>\n",
              "      <button class=\"colab-df-convert\" onclick=\"convertToInteractive('df-0de69a65-2b20-4bad-ac6a-f14cc72dd727')\"\n",
              "              title=\"Convert this dataframe to an interactive table.\"\n",
              "              style=\"display:none;\">\n",
              "        \n",
              "  <svg xmlns=\"http://www.w3.org/2000/svg\" height=\"24px\"viewBox=\"0 0 24 24\"\n",
              "       width=\"24px\">\n",
              "    <path d=\"M0 0h24v24H0V0z\" fill=\"none\"/>\n",
              "    <path d=\"M18.56 5.44l.94 2.06.94-2.06 2.06-.94-2.06-.94-.94-2.06-.94 2.06-2.06.94zm-11 1L8.5 8.5l.94-2.06 2.06-.94-2.06-.94L8.5 2.5l-.94 2.06-2.06.94zm10 10l.94 2.06.94-2.06 2.06-.94-2.06-.94-.94-2.06-.94 2.06-2.06.94z\"/><path d=\"M17.41 7.96l-1.37-1.37c-.4-.4-.92-.59-1.43-.59-.52 0-1.04.2-1.43.59L10.3 9.45l-7.72 7.72c-.78.78-.78 2.05 0 2.83L4 21.41c.39.39.9.59 1.41.59.51 0 1.02-.2 1.41-.59l7.78-7.78 2.81-2.81c.8-.78.8-2.07 0-2.86zM5.41 20L4 18.59l7.72-7.72 1.47 1.35L5.41 20z\"/>\n",
              "  </svg>\n",
              "      </button>\n",
              "      \n",
              "  <style>\n",
              "    .colab-df-container {\n",
              "      display:flex;\n",
              "      flex-wrap:wrap;\n",
              "      gap: 12px;\n",
              "    }\n",
              "\n",
              "    .colab-df-convert {\n",
              "      background-color: #E8F0FE;\n",
              "      border: none;\n",
              "      border-radius: 50%;\n",
              "      cursor: pointer;\n",
              "      display: none;\n",
              "      fill: #1967D2;\n",
              "      height: 32px;\n",
              "      padding: 0 0 0 0;\n",
              "      width: 32px;\n",
              "    }\n",
              "\n",
              "    .colab-df-convert:hover {\n",
              "      background-color: #E2EBFA;\n",
              "      box-shadow: 0px 1px 2px rgba(60, 64, 67, 0.3), 0px 1px 3px 1px rgba(60, 64, 67, 0.15);\n",
              "      fill: #174EA6;\n",
              "    }\n",
              "\n",
              "    [theme=dark] .colab-df-convert {\n",
              "      background-color: #3B4455;\n",
              "      fill: #D2E3FC;\n",
              "    }\n",
              "\n",
              "    [theme=dark] .colab-df-convert:hover {\n",
              "      background-color: #434B5C;\n",
              "      box-shadow: 0px 1px 3px 1px rgba(0, 0, 0, 0.15);\n",
              "      filter: drop-shadow(0px 1px 2px rgba(0, 0, 0, 0.3));\n",
              "      fill: #FFFFFF;\n",
              "    }\n",
              "  </style>\n",
              "\n",
              "      <script>\n",
              "        const buttonEl =\n",
              "          document.querySelector('#df-0de69a65-2b20-4bad-ac6a-f14cc72dd727 button.colab-df-convert');\n",
              "        buttonEl.style.display =\n",
              "          google.colab.kernel.accessAllowed ? 'block' : 'none';\n",
              "\n",
              "        async function convertToInteractive(key) {\n",
              "          const element = document.querySelector('#df-0de69a65-2b20-4bad-ac6a-f14cc72dd727');\n",
              "          const dataTable =\n",
              "            await google.colab.kernel.invokeFunction('convertToInteractive',\n",
              "                                                     [key], {});\n",
              "          if (!dataTable) return;\n",
              "\n",
              "          const docLinkHtml = 'Like what you see? Visit the ' +\n",
              "            '<a target=\"_blank\" href=https://colab.research.google.com/notebooks/data_table.ipynb>data table notebook</a>'\n",
              "            + ' to learn more about interactive tables.';\n",
              "          element.innerHTML = '';\n",
              "          dataTable['output_type'] = 'display_data';\n",
              "          await google.colab.output.renderOutput(dataTable, element);\n",
              "          const docLink = document.createElement('div');\n",
              "          docLink.innerHTML = docLinkHtml;\n",
              "          element.appendChild(docLink);\n",
              "        }\n",
              "      </script>\n",
              "    </div>\n",
              "  </div>\n",
              "  "
            ]
          },
          "metadata": {},
          "execution_count": 63
        }
      ],
      "source": [
        "df"
      ]
    },
    {
      "cell_type": "markdown",
      "metadata": {
        "id": "BjJoplEDbLuH"
      },
      "source": [
        "Combien y a-t-il de sommets et d’aretes dans les donnees filtrees ? com- bien dans les donnees originales ?"
      ]
    },
    {
      "cell_type": "markdown",
      "metadata": {
        "id": "XuQYkWiobLuH"
      },
      "source": [
        "sommets = nodes"
      ]
    },
    {
      "cell_type": "code",
      "source": [
        "len(N.nodes())"
      ],
      "metadata": {
        "colab": {
          "base_uri": "https://localhost:8080/"
        },
        "id": "pcIwJe_5_NDi",
        "outputId": "f27bf33f-96a7-4921-be07-5510f18b5670"
      },
      "execution_count": 30,
      "outputs": [
        {
          "output_type": "execute_result",
          "data": {
            "text/plain": [
              "11658"
            ]
          },
          "metadata": {},
          "execution_count": 30
        }
      ]
    },
    {
      "cell_type": "code",
      "execution_count": 31,
      "metadata": {
        "colab": {
          "base_uri": "https://localhost:8080/"
        },
        "id": "gn_YDAOLbLuH",
        "outputId": "44f9a1bd-59d4-4620-8f87-48a757a85ffe"
      },
      "outputs": [
        {
          "output_type": "execute_result",
          "data": {
            "text/plain": [
              "128"
            ]
          },
          "metadata": {},
          "execution_count": 31
        }
      ],
      "source": [
        "len(df['node'].unique())"
      ]
    },
    {
      "cell_type": "markdown",
      "metadata": {
        "id": "uztpkw3zbLuH"
      },
      "source": [
        "aretes = edges"
      ]
    },
    {
      "cell_type": "markdown",
      "metadata": {
        "id": "XOVyHOjabLuI"
      },
      "source": [
        "9059"
      ]
    },
    {
      "cell_type": "markdown",
      "metadata": {
        "id": "r5xiJXqDbLuI"
      },
      "source": [
        "Calculez la densite et le degre moyen du reseau."
      ]
    },
    {
      "cell_type": "markdown",
      "metadata": {
        "id": "B5Pj3jRSbLuJ"
      },
      "source": [
        "For an undirected graph, the density is calculated as 2*m/(n*(n-1)) where m is the number of edges and n is the number of nodes. The average degree is calculated as 2*m/n ."
      ]
    },
    {
      "cell_type": "markdown",
      "metadata": {
        "id": "FrZ9Vr5_bLuK"
      },
      "source": [
        "density"
      ]
    },
    {
      "cell_type": "code",
      "execution_count": 64,
      "metadata": {
        "id": "cKXEZyVzbLuK"
      },
      "outputs": [],
      "source": [
        "n = len(N.nodes())\n",
        "m = len(N.edges())"
      ]
    },
    {
      "cell_type": "code",
      "source": [
        "n, m"
      ],
      "metadata": {
        "colab": {
          "base_uri": "https://localhost:8080/"
        },
        "id": "hpg75KNu-7Ea",
        "outputId": "56d68be9-3ceb-41a3-a240-5e00a44659cc"
      },
      "execution_count": 65,
      "outputs": [
        {
          "output_type": "execute_result",
          "data": {
            "text/plain": [
              "(35586, 54606)"
            ]
          },
          "metadata": {},
          "execution_count": 65
        }
      ]
    },
    {
      "cell_type": "code",
      "source": [],
      "metadata": {
        "id": "YVcLx50k-727"
      },
      "execution_count": null,
      "outputs": []
    },
    {
      "cell_type": "code",
      "execution_count": 66,
      "metadata": {
        "colab": {
          "base_uri": "https://localhost:8080/"
        },
        "id": "GsDtYBrIbLuK",
        "outputId": "91ea9fff-bf46-49e1-b3e2-d52385152ef9"
      },
      "outputs": [
        {
          "output_type": "execute_result",
          "data": {
            "text/plain": [
              "8.624307161034392e-05"
            ]
          },
          "metadata": {},
          "execution_count": 66
        }
      ],
      "source": [
        "density = 2*m/(n*(n-1))\n",
        "density"
      ]
    },
    {
      "cell_type": "markdown",
      "metadata": {
        "id": "3R4XL4hMbLuK"
      },
      "source": [
        "average_degree"
      ]
    },
    {
      "cell_type": "code",
      "execution_count": 67,
      "metadata": {
        "colab": {
          "base_uri": "https://localhost:8080/"
        },
        "id": "VSKX2EyYbLuL",
        "outputId": "08573952-792b-4b25-b5a2-284097f4cafd"
      },
      "outputs": [
        {
          "output_type": "execute_result",
          "data": {
            "text/plain": [
              "3.0689597032540887"
            ]
          },
          "metadata": {},
          "execution_count": 67
        }
      ],
      "source": [
        "average_degree = 2*m/n\n",
        "average_degree"
      ]
    },
    {
      "cell_type": "markdown",
      "metadata": {
        "id": "xoD-m86NbLuL"
      },
      "source": [
        "# 2 Distances"
      ]
    },
    {
      "cell_type": "markdown",
      "metadata": {
        "id": "OONuyKwxbLuL"
      },
      "source": [
        "Question 5. Calculez la distance moyenne entre deux sommets du reseau moreno.\n"
      ]
    },
    {
      "cell_type": "markdown",
      "metadata": {
        "id": "vc-0q2EDbLuL"
      },
      "source": [
        "La distance moyenne entre deux sommets est :"
      ]
    },
    {
      "cell_type": "code",
      "execution_count": 37,
      "metadata": {
        "colab": {
          "base_uri": "https://localhost:8080/"
        },
        "id": "9lPfGHcPbLuL",
        "outputId": "cea63f07-a22c-4ae2-b3e1-49888aee2cd4"
      },
      "outputs": [
        {
          "output_type": "execute_result",
          "data": {
            "text/plain": [
              "2.8429588883829675"
            ]
          },
          "metadata": {},
          "execution_count": 37
        }
      ],
      "source": [
        "average_shortest_path_length = nx.average_shortest_path_length(N)\n",
        "average_shortest_path_length"
      ]
    },
    {
      "cell_type": "markdown",
      "metadata": {
        "id": "hjHtgnYybLuM"
      },
      "source": [
        "Calculez le diametre du reseau"
      ]
    },
    {
      "cell_type": "code",
      "execution_count": 38,
      "metadata": {
        "colab": {
          "base_uri": "https://localhost:8080/"
        },
        "id": "ybG-DxWvbLuM",
        "outputId": "8db23842-8726-448a-ae11-ea74958c68ce"
      },
      "outputs": [
        {
          "output_type": "execute_result",
          "data": {
            "text/plain": [
              "9"
            ]
          },
          "metadata": {},
          "execution_count": 38
        }
      ],
      "source": [
        "diameter = nx.diameter(N)\n",
        "diameter"
      ]
    },
    {
      "cell_type": "markdown",
      "metadata": {
        "id": "_iMgOzSFbLuM"
      },
      "source": [
        "# 3 Distribution des degres"
      ]
    },
    {
      "cell_type": "markdown",
      "metadata": {
        "id": "4_MpCQFobLuM"
      },
      "source": [
        "Question 7. Calculez la distribution des degres du reseau moreno et tracez la avec une echelle lin-lin puis avec une echelle log-log.\n"
      ]
    },
    {
      "cell_type": "code",
      "execution_count": 68,
      "metadata": {
        "id": "rN2mw-jCbLuM"
      },
      "outputs": [],
      "source": [
        "degree_sequence = [d for n, d in N.degree()]"
      ]
    },
    {
      "cell_type": "code",
      "execution_count": 69,
      "metadata": {
        "colab": {
          "base_uri": "https://localhost:8080/",
          "height": 295
        },
        "id": "k-7QMnFQbLuM",
        "outputId": "477f8389-aacc-4922-ffbb-55c24ee60c9f"
      },
      "outputs": [
        {
          "output_type": "display_data",
          "data": {
            "text/plain": [
              "<Figure size 432x288 with 1 Axes>"
            ],
            "image/png": "[encoded data removed]"
          },
          "metadata": {
            "needs_background": "light"
          }
        }
      ],
      "source": [
        "plt.plot(degree_sequence, 'b-', marker='o')\n",
        "plt.title(\"Distribution des degrés du réseau\")\n",
        "plt.ylabel(\"Degré\")\n",
        "plt.xlabel(\"Nœud\")\n",
        "plt.show()"
      ]
    },
    {
      "cell_type": "code",
      "source": [
        "plt.semilogx(degree_sequence, 'b-', marker='o')\n",
        "plt.title(\"Distribution des degrés du réseau (échelle log-log)\")\n",
        "plt.ylabel(\"Degré (échelle logarithmique)\")\n",
        "plt.xlabel(\"Nœud (échelle logarithmique)\")\n",
        "plt.show()"
      ],
      "metadata": {
        "colab": {
          "base_uri": "https://localhost:8080/",
          "height": 300
        },
        "id": "u8P3oNwoBuRT",
        "outputId": "3d107be1-5146-44c7-9360-c06f1751a3ad"
      },
      "execution_count": 70,
      "outputs": [
        {
          "output_type": "display_data",
          "data": {
            "text/plain": [
              "<Figure size 432x288 with 1 Axes>"
            ],
            "image/png": "[encoded data removed]"
          },
          "metadata": {
            "needs_background": "light"
          }
        }
      ]
    },
    {
      "cell_type": "code",
      "execution_count": null,
      "metadata": {
        "id": "P-C2HG8IbLuM",
        "outputId": "e2991d9d-173c-4376-96f9-c23b73f82504"
      },
      "outputs": [
        {
          "data": {
            "image/png": "[encoded data removed]",
            "text/plain": [
              "<Figure size 432x288 with 1 Axes>"
            ]
          },
          "metadata": {
            "needs_background": "light"
          },
          "output_type": "display_data"
        }
      ],
      "source": [
        "\n",
        "#\n",
        "plt.semilogx(degree_sequence, 'b-', marker='o')\n",
        "plt.title(\"Distribution des degrés du réseau (échelle log-log)\")\n",
        "plt.ylabel(\"Degré (échelle logarithmique)\")\n",
        "plt.xlabel(\"Nœud (échelle logarithmique)\")\n",
        "plt.show()"
      ]
    },
    {
      "cell_type": "code",
      "execution_count": null,
      "metadata": {
        "id": "Gpd-BsVXbLuM",
        "outputId": "aa960998-bb62-47c9-edf5-53afd641abdb"
      },
      "outputs": [
        {
          "data": {
            "image/png": "[encoded data removed]",
            "text/plain": [
              "<Figure size 432x288 with 1 Axes>"
            ]
          },
          "metadata": {
            "needs_background": "light"
          },
          "output_type": "display_data"
        }
      ],
      "source": [
        "#\n",
        "plt.loglog(degree_sequence, 'b-', marker='o')\n",
        "plt.title(\"Distribution des degrés du réseau (échelle log-log)\")\n",
        "plt.ylabel(\"Degré (échelle logarithmique)\")\n",
        "plt.xlabel(\"Nœud (échelle logarithmique)\")\n",
        "plt.show()"
      ]
    },
    {
      "cell_type": "code",
      "source": [
        "plt.loglog(degree_sequence, 'b-', marker='o')\n",
        "plt.title(\"Distribution des degrés du réseau (échelle log-log)\")\n",
        "plt.ylabel(\"Degré (échelle logarithmique)\")\n",
        "plt.xlabel(\"Nœud (échelle logarithmique)\")\n",
        "plt.show()"
      ],
      "metadata": {
        "colab": {
          "base_uri": "https://localhost:8080/",
          "height": 300
        },
        "id": "2zTTvTpeB0uV",
        "outputId": "246107ef-6bb5-4b62-9931-349061a0bdcc"
      },
      "execution_count": 71,
      "outputs": [
        {
          "output_type": "display_data",
          "data": {
            "text/plain": [
              "<Figure size 432x288 with 1 Axes>"
            ],
            "image/png": "[encoded data removed]"
          },
          "metadata": {
            "needs_background": "light"
          }
        }
      ]
    },
    {
      "cell_type": "markdown",
      "metadata": {
        "id": "3Ub-Iy3XbLuN"
      },
      "source": [
        "# 4 Densite locale"
      ]
    },
    {
      "cell_type": "markdown",
      "metadata": {
        "id": "D0AdxOXWbLuN"
      },
      "source": [
        "Calculez le nombre de triangles, le coefficient de clustering global et le coefficient de clustering local du reseau"
      ]
    },
    {
      "cell_type": "code",
      "execution_count": null,
      "metadata": {
        "id": "ACZqkxOSbLuN",
        "outputId": "1899b0ff-4afd-4a21-af33-b0429924a0e9"
      },
      "outputs": [
        {
          "name": "stdout",
          "output_type": "stream",
          "text": [
            "Nombre de triangles: 33493.0\n",
            "Coefficient de clustering global: 0.0592384412258376\n",
            "Coefficients de clustering locaux: {0: 0.13804713804713806, 1: 0.11248185776487664, 2: 1.0, 3: 0.050005761032377, 4: 0.10052677787532924, 5: 0.04359921756139969, 6: 0.4722222222222222, 7: 0.027671319573854648, 8: 0.26666666666666666, 9: 0.0034187221773363118, 10: 0.14492753623188406, 11: 0.10220673635307782, 12: 0.19444444444444445, 13: 0.08221288515406162, 14: 0.11806543385490754, 15: 0.16666666666666666, 16: 0.05568627450980392, 17: 0.08695652173913043, 18: 0, 19: 0.06666666666666667, 20: 0.047593865679534636, 21: 0.1282051282051282, 22: 0.2927927927927928, 23: 0.18181818181818182, 24: 0.10480769230769231, 25: 0.19158200290275762, 26: 0.07665505226480836, 27: 0.040726817042606514, 28: 0.16339869281045752, 29: 0.05263157894736842, 30: 0.04478897502153316, 31: 0.09132231404958678, 32: 0.12682926829268293, 33: 0.31666666666666665, 34: 0.07093223254213966, 35: 0.09578947368421052, 36: 0.09156429156429156, 37: 0.05551919720767888, 38: 0.0695970695970696, 39: 0.030303030303030304, 40: 0.07971014492753623, 41: 0.13170647282796816, 42: 0.022893458566064426, 43: 0.12681159420289856, 44: 0.03263803680981595, 45: 0.05106339779706614, 46: 0.17094017094017094, 47: 0.07142857142857142, 48: 0.07792207792207792, 49: 0.12087912087912088, 50: 0.14453781512605043, 51: 0.02145178312069632, 52: 0.007723160948967401, 53: 0.37777777777777777, 54: 0.06326811793882613, 55: 0.11967418546365914, 56: 0.1619047619047619, 57: 0.10582010582010581, 58: 0.37777777777777777, 59: 0.08374384236453201, 60: 0.1396011396011396, 61: 0.5238095238095238, 62: 0.06434418427565201, 63: 0.3090909090909091, 64: 0.04684684684684685, 65: 0.09502262443438914, 66: 0.29523809523809524, 67: 0.16260162601626016, 68: 0.11942959001782531, 69: 0.23636363636363636, 70: 0.06666666666666667, 71: 0.42857142857142855, 72: 0.15384615384615385, 73: 0.27472527472527475, 74: 0.08846153846153847, 75: 0.03383366141732284, 76: 0.06951871657754011, 77: 0.36363636363636365, 78: 0.3090909090909091, 79: 0.03571428571428571, 80: 0.08888888888888889, 81: 0.2, 82: 0.028846153846153848, 83: 0.06719367588932806, 84: 0.04504504504504504, 85: 0.044444444444444446, 86: 0.06666666666666667, 87: 0.13333333333333333, 88: 0.02834008097165992, 89: 0.3333333333333333, 90: 0, 91: 0.3333333333333333, 92: 0.024484536082474227, 93: 0.16666666666666666, 94: 0.10183042289080581, 95: 0.09523809523809523, 96: 0.3238095238095238, 97: 1.0, 98: 0.08088235294117647, 99: 1.0, 100: 0.13054187192118227, 101: 0.07862679955703211, 102: 1.0, 103: 1.0, 104: 0.05405405405405406, 105: 0.15151515151515152, 106: 1.0, 107: 0.10967741935483871, 108: 0.16437177280550774, 109: 0.5714285714285714, 110: 0, 111: 0, 112: 0.22727272727272727, 113: 0.6, 114: 0.04945201817695803, 115: 1.0, 116: 0.28888888888888886, 117: 0.12105263157894737, 118: 0.16666666666666666, 119: 0.06885245901639345, 120: 0.05555555555555555, 121: 0.2727272727272727, 122: 0.2857142857142857, 123: 0.3333333333333333, 124: 0.07692307692307693, 125: 0.16666666666666666, 126: 0.3888888888888889, 127: 0.20512820512820512, 128: 1.0, 129: 0.1038961038961039, 130: 0.5, 131: 0.12681159420289856, 132: 0.0696969696969697, 133: 0, 134: 1.0, 135: 0.07058001397624039, 136: 0.12727272727272726, 137: 0.13333333333333333, 138: 0.05698005698005698, 139: 0.24242424242424243, 140: 0.2826086956521739, 141: 0.38095238095238093, 142: 0.10902255639097744, 143: 0.06666666666666667, 144: 0.2, 145: 0, 146: 0.17857142857142858, 147: 0, 148: 0.3333333333333333, 149: 0.3333333333333333, 150: 0.10714285714285714, 151: 0.06842105263157895, 152: 1.0, 153: 0.09057971014492754, 154: 0.08503401360544217, 155: 0.26666666666666666, 156: 0.08245877061469266, 157: 0.21794871794871795, 158: 0.16428571428571428, 159: 0, 160: 0.10256410256410256, 161: 0.26666666666666666, 162: 0.4, 163: 0.1402116402116402, 164: 0.12350692785475394, 165: 0.5, 166: 0.2, 167: 0.09090909090909091, 168: 0.09803921568627451, 169: 0.13333333333333333, 170: 1.0, 171: 0, 172: 0.15019762845849802, 173: 0, 174: 0.08333333333333333, 175: 0.2, 176: 0.3333333333333333, 177: 0.1567489114658926, 178: 0.08262108262108261, 179: 0.3333333333333333, 180: 0.06390977443609022, 181: 0.19444444444444445, 182: 0, 183: 0, 184: 0.14285714285714285, 185: 0.07272727272727272, 186: 0.07509881422924901, 187: 0.11819727891156463, 188: 0.0905608755129959, 189: 0.044444444444444446, 190: 0, 191: 0.6666666666666666, 192: 0.1344155844155844, 193: 0.24761904761904763, 194: 0.05555555555555555, 195: 0.06403940886699508, 196: 0.11764705882352941, 197: 0.06666666666666667, 198: 0, 199: 0, 200: 0, 201: 0, 202: 0.15726817042606517, 203: 1.0, 204: 0.17142857142857143, 205: 0, 206: 0.08333333333333333, 207: 0.10961538461538461, 208: 0.09523809523809523, 209: 0.04884404388714734, 210: 0.1, 211: 0.16911250873515024, 212: 0.14627659574468085, 213: 0, 214: 0.03420523138832998, 215: 0.13765822784810128, 216: 0.034710269650028686, 217: 0.09365079365079365, 218: 0.08416130917592052, 219: 0.2731829573934837, 220: 0.44871794871794873, 221: 0.1717687074829932, 222: 1.0, 223: 0.06697946416428668, 224: 0, 225: 0.18181818181818182, 226: 0.6666666666666666, 227: 0.2773109243697479, 228: 0.13911290322580644, 229: 0.4222222222222222, 230: 0.10316066725197541, 231: 0.2, 232: 0.11843711843711843, 233: 0.061128526645768025, 234: 0.11470985155195682, 235: 0.11633986928104575, 236: 0.19658119658119658, 237: 0.15714285714285714, 238: 0.14204545454545456, 239: 0.18797814207650274, 240: 0.11428571428571428, 241: 0.22067363530778164, 242: 0.4, 243: 0, 244: 0.05630252100840336, 245: 0.11032863849765258, 246: 0.2692307692307692, 247: 0.2059800664451827, 248: 0.10817307692307693, 249: 0.0618705035971223, 250: 0.08170731707317073, 251: 0.6, 252: 0.02435522740091268, 253: 0.1853061224489796, 254: 0.2857142857142857, 255: 0.21959183673469387, 256: 0.06646471846044191, 257: 0.47619047619047616, 258: 0.18095238095238095, 259: 0.5, 260: 0.2777777777777778, 261: 0.32105263157894737, 262: 0.015944321417273016, 263: 0.16176470588235295, 264: 0.11146881287726358, 265: 0.2857142857142857, 266: 0.1500302480338778, 267: 0.2548780487804878, 268: 0.11923076923076924, 269: 0.02502579979360165, 270: 0.045112781954887216, 271: 0.14193548387096774, 272: 0.10227272727272728, 273: 0.8333333333333334, 274: 0.4, 275: 1.0, 276: 0.22807017543859648, 277: 0.06071715997496199, 278: 0.16596194503171247, 279: 0.10714285714285714, 280: 0.1111111111111111, 281: 0.6666666666666666, 282: 0.13318112633181126, 283: 0.17273954116059378, 284: 0.32105263157894737, 285: 0.10482180293501048, 286: 0.1, 287: 0.14427860696517414, 288: 0.06923076923076923, 289: 0.31152204836415365, 290: 0.10348101265822784, 291: 0.14285714285714285, 292: 0.1080701754385965, 293: 0.16748768472906403, 294: 0.03527514142783674, 295: 0.11586452762923351, 296: 0.08787897809302618, 297: 0.23034330011074197, 298: 0.053268765133171914, 299: 0.10606060606060606, 300: 0.2215909090909091, 301: 0, 302: 0.39316239316239315, 303: 0.3138138138138138, 304: 0.24420677361853832, 305: 0.5, 306: 0.3611111111111111, 307: 0.2857142857142857, 308: 0.13333333333333333, 309: 1.0, 310: 0.4642857142857143, 311: 0.26666666666666666, 312: 0, 313: 0.06666666666666667, 314: 0.10909090909090909, 315: 0.3333333333333333, 316: 0.22727272727272727, 317: 0.07386363636363637, 318: 0.045454545454545456, 319: 0.05128205128205128, 320: 0, 321: 0.10606060606060606, 322: 0, 323: 0.3333333333333333, 324: 0, 325: 0, 326: 0, 327: 0, 328: 0, 329: 0.1111111111111111, 330: 0.03569023569023569, 331: 0.19047619047619047, 332: 0, 333: 0.08187134502923976, 334: 0, 335: 0.5333333333333333, 336: 0.3333333333333333, 337: 0, 338: 0.10140056022408964, 339: 0.13054187192118227, 340: 0.3, 341: 0, 342: 0.3090909090909091, 343: 0.046031746031746035, 344: 0.12313725490196079, 345: 0.2222222222222222, 346: 0.3333333333333333, 347: 0, 348: 0.16666666666666666, 349: 0.2, 350: 0.1, 351: 0, 352: 0.13654618473895583, 353: 0, 354: 0, 355: 0.06479140328697851, 356: 0.047619047619047616, 357: 0.13333333333333333, 358: 0.19444444444444445, 359: 0.1871345029239766, 360: 0.05478750640040963, 361: 0.11904761904761904, 362: 0.05263157894736842, 363: 0, 364: 0.04622345979812043, 365: 0.5, 366: 0, 367: 0.16666666666666666, 368: 0.058823529411764705, 369: 0, 370: 1.0, 371: 0.6666666666666666, 372: 0.1388888888888889, 373: 0.09523809523809523, 374: 0.3333333333333333, 375: 0, 376: 0.17647058823529413, 377: 0.05665024630541872, 378: 0, 379: 0.058823529411764705, 380: 0, 381: 0, 382: 0.040719196192490745, 383: 0.1, 384: 0.09090909090909091, 385: 0, 386: 0, 387: 0.4835164835164835, 388: 0.09523809523809523, 389: 0.3142857142857143, 390: 0.25757575757575757, 391: 1.0, 392: 0.1, 393: 0.06592292089249494, 394: 0.23333333333333334, 395: 0.17142857142857143, 396: 0.3333333333333333, 397: 1.0, 398: 0, 399: 0.5, 400: 0.11233766233766233, 401: 0.11851851851851852, 402: 0.2647058823529412, 403: 0.04590892262125139, 404: 0.32051282051282054, 405: 0.2222222222222222, 406: 0, 407: 0.3333333333333333, 408: 0.14285714285714285, 409: 0, 410: 0, 411: 0, 412: 0.14285714285714285, 413: 0.12477718360071301, 414: 0.1, 415: 0.36666666666666664, 416: 0.4090909090909091, 417: 0.06666666666666667, 418: 0.2222222222222222, 419: 0.10476190476190476, 420: 0.0865546218487395, 421: 0.16911764705882354, 422: 0.3, 423: 0, 424: 0.3333333333333333, 425: 0.2, 426: 0.1895424836601307, 427: 0.17794486215538846, 428: 0.6, 429: 1.0, 430: 0.25735294117647056, 431: 0.11508771929824561, 432: 0, 433: 0.6, 434: 0.2, 435: 0.20476190476190476, 436: 0.2, 437: 0.1, 438: 0.17777777777777778, 439: 0.2789473684210526, 440: 0.1, 441: 0.18681318681318682, 442: 0.15656565656565657, 443: 0.6666666666666666, 444: 0.3157894736842105, 445: 1.0, 446: 0, 447: 0.358974358974359, 448: 0.2, 449: 0, 450: 0.6666666666666666, 451: 0.17391304347826086, 452: 0, 453: 0.15555555555555556, 454: 0.0700280112044818, 455: 0.31666666666666665, 456: 0.35294117647058826, 457: 0.08888888888888889, 458: 0.3, 459: 0.6388888888888888, 460: 0.11170212765957446, 461: 0.2, 462: 0, 463: 0.7, 464: 0.18452380952380953, 465: 0, 466: 0, 467: 0.15126050420168066, 468: 0.35714285714285715, 469: 0.5, 470: 0.09102564102564102, 471: 0.08944658944658945, 472: 0.15555555555555556, 473: 0.6, 474: 0.09941520467836257, 475: 0.18681318681318682, 476: 0.3333333333333333, 477: 0.05413105413105413, 478: 0.27205882352941174, 479: 0, 480: 0.21714285714285714, 481: 0.08298368298368299, 482: 0.2, 483: 0, 484: 0, 485: 0.42857142857142855, 486: 0, 487: 0, 488: 0, 489: 0.10909090909090909, 490: 0, 491: 0, 492: 1.0, 493: 0.10714285714285714, 494: 0.3333333333333333, 495: 1.0, 496: 0.26666666666666666, 497: 0, 498: 0, 499: 0.07897793263646923, 500: 1.0, 501: 0.10909090909090909, 502: 0.5333333333333333, 503: 0.3333333333333333, 504: 0.3333333333333333, 505: 0, 506: 0.19047619047619047, 507: 0.12615384615384614, 508: 0, 509: 0, 510: 1.0, 511: 0, 512: 0.1111111111111111, 513: 0.125, 514: 0.047619047619047616, 515: 0.034408602150537634, 516: 0, 517: 0.47619047619047616, 518: 0.05714285714285714, 519: 0, 520: 0.054945054945054944, 521: 0.038461538461538464, 522: 0.5, 523: 0.04736842105263158, 524: 0.14102564102564102, 525: 0.09090909090909091, 526: 0.0761904761904762, 527: 0.3333333333333333, 528: 0.3333333333333333, 529: 0, 530: 0.26666666666666666, 531: 0.2777777777777778, 532: 0, 533: 0.19696969696969696, 534: 0, 535: 0, 536: 0, 537: 0, 538: 1.0, 539: 0.15555555555555556, 540: 0.029239766081871343, 541: 0.18181818181818182, 542: 0.3333333333333333, 543: 0.13636363636363635, 544: 0.06190476190476191, 545: 0.19047619047619047, 546: 0.06593406593406594, 547: 0, 548: 0, 549: 0, 550: 0.2, 551: 0.2, 552: 0.26373626373626374, 553: 0.17142857142857143, 554: 0, 555: 0.08888888888888889, 556: 0.6666666666666666, 557: 0.1, 558: 0.06666666666666667, 559: 0.6666666666666666, 560: 0.3333333333333333, 561: 0.1, 562: 0, 563: 0.125, 564: 0.1, 565: 1.0, 566: 0, 567: 0, 568: 0.3333333333333333, 569: 0.08888888888888889, 570: 0, 571: 0.3333333333333333, 572: 0.16666666666666666, 573: 0.16666666666666666, 574: 0.042735042735042736, 575: 0.17857142857142858, 576: 0.022222222222222223, 577: 0.3333333333333333, 578: 0.3333333333333333, 579: 0.3111111111111111, 580: 0, 581: 0.15555555555555556, 582: 0.4, 583: 0.16666666666666666, 584: 0, 585: 0, 586: 0.3333333333333333, 587: 0.14545454545454545, 588: 0, 589: 0.05, 590: 0, 591: 1.0, 592: 0, 593: 0.14285714285714285, 594: 0, 595: 0.3, 596: 0, 597: 0.6071428571428571, 598: 0.38095238095238093, 599: 0, 600: 0.12727272727272726, 601: 0.6666666666666666, 602: 0, 603: 0, 604: 0.13636363636363635, 605: 0.3333333333333333, 606: 0.35947712418300654, 607: 0.08888888888888889, 608: 0.25757575757575757, 609: 0.3333333333333333, 610: 0.054354178842782, 611: 0.14184397163120568, 612: 0.10945273631840796, 613: 0.38095238095238093, 614: 0, 615: 0.45054945054945056, 616: 0.5, 617: 0.20923076923076922, 618: 0, 619: 0.6666666666666666, 620: 1.0, 621: 0.1, 622: 0.012541993281075027, 623: 0.08888888888888889, 624: 0.3333333333333333, 625: 0, 626: 0.16666666666666666, 627: 0, 628: 0.06666666666666667, 629: 0.08888888888888889, 630: 0.08974358974358974, 631: 0.024875621890547265, 632: 0, 633: 0.12121212121212122, 634: 0.05128205128205128, 635: 0.05555555555555555, 636: 0.1006060606060606, 637: 0.32941176470588235, 638: 0.3465909090909091, 639: 0.36088709677419356, 640: 0.3493761140819964, 641: 0, 642: 0.1111111111111111, 643: 0, 644: 1.0, 645: 0, 646: 1.0, 647: 0, 648: 1.0, 649: 0.6666666666666666, 650: 0, 651: 0.24367816091954023, 652: 0.16025641025641027, 653: 0.03333333333333333, 654: 0.2134387351778656, 655: 0.0641025641025641, 656: 0.06666666666666667, 657: 0.1, 658: 0.17142857142857143, 659: 0.4, 660: 0.20797720797720798, 661: 0.1294997662459093, 662: 0.17786561264822134, 663: 0, 664: 0.3333333333333333, 665: 0.23809523809523808, 666: 0.08187134502923976, 667: 0.1541501976284585, 668: 0.28888888888888886, 669: 0.1365079365079365, 670: 0, 671: 0.03983656792645557, 672: 0.1827956989247312, 673: 0.2777777777777778, 674: 0, 675: 0.054945054945054944, 676: 0.08333333333333333, 677: 0.09079516974253816, 678: 0.10714285714285714, 679: 0, 680: 0.14166666666666666, 681: 0, 682: 0.2857142857142857, 683: 0.2545454545454545, 684: 0.18937198067632852, 685: 1.0, 686: 0.3, 687: 0.0953989703989704, 688: 1.0, 689: 0.04329004329004329, 690: 0.3333333333333333, 691: 0.06594594594594595, 692: 0.35555555555555557, 693: 0.07526881720430108, 694: 0.05405405405405406, 695: 0.19227053140096617, 696: 0.13538461538461538, 697: 0.12727272727272726, 698: 0.22631578947368422, 699: 0, 700: 0.3333333333333333, 701: 0.19696969696969696, 702: 0.2222222222222222, 703: 0.12666666666666668, 704: 0.18, 705: 0, 706: 0, 707: 0.04395604395604396, 708: 0.10909090909090909, 709: 0, 710: 0, 711: 0, 712: 0, 713: 0.24242424242424243, 714: 0, 715: 0.06060606060606061, 716: 0.047619047619047616, 717: 0, 718: 0.3333333333333333, 719: 0.03571428571428571, 720: 0.3333333333333333, 721: 0.023391812865497075, 722: 0, 723: 0, 724: 1.0, 725: 0, 726: 0.14444444444444443, 727: 0.15579710144927536, 728: 0.06664388243335612, 729: 0.04457658946615398, 730: 0, 731: 0, 732: 0.14285714285714285, 733: 0.2, 734: 0, 735: 0, 736: 0, 737: 0.3333333333333333, 738: 0.06432748538011696, 739: 0.06666666666666667, 740: 0.07368421052631578, 741: 0.01282051282051282, 742: 0, 743: 0, 744: 0.1, 745: 0, 746: 0.16666666666666666, 747: 0, 748: 0.06666666666666667, 749: 0.0641025641025641, 750: 0.06060606060606061, 751: 0.16666666666666666, 752: 0.1, 753: 0, 754: 1.0, 755: 0.16666666666666666, 756: 0.25, 757: 0, 758: 0.4, 759: 0, 760: 0, 761: 1.0, 762: 0, 763: 0.19047619047619047, 764: 0.6666666666666666, 765: 0, 766: 0, 767: 0.1, 768: 1.0, 769: 0, 770: 0.13333333333333333, 771: 0, 772: 0, 773: 0.3333333333333333, 774: 0, 775: 0, 776: 0, 777: 0.16666666666666666, 778: 0, 779: 0.16666666666666666, 780: 0, 781: 0, 782: 0, 783: 0.2, 784: 0, 785: 1.0, 786: 0, 787: 1.0, 788: 0, 789: 0.17857142857142858, 790: 0, 791: 0, 792: 0, 793: 1.0, 794: 0, 795: 0.5, 796: 0.22333333333333333, 797: 0.5, 798: 0, 799: 0, 800: 0.4, 801: 0.2222222222222222, 802: 1.0, 803: 0, 804: 0, 805: 0, 806: 0, 807: 0.6666666666666666, 808: 0.25, 809: 0, 810: 0, 811: 0.3006535947712418, 812: 0, 813: 0.2, 814: 0, 815: 0.1437908496732026, 816: 0, 817: 0, 818: 0, 819: 0, 820: 0.12298387096774194, 821: 0, 822: 0, 823: 0, 824: 0, 825: 0.5, 826: 0, 827: 0, 828: 0, 829: 0, 830: 0, 831: 0.3333333333333333, 832: 0, 833: 0.09523809523809523, 834: 0.6666666666666666, 835: 0.3111111111111111, 836: 0.8333333333333334, 837: 0.6, 838: 0.5, 839: 0.2777777777777778, 840: 0, 841: 0, 842: 0, 843: 0, 844: 0, 845: 0, 846: 0, 847: 0, 848: 0, 849: 0.10606060606060606, 850: 0, 851: 1.0, 852: 1.0, 853: 0.16666666666666666, 854: 0.20833333333333334, 855: 0, 856: 0, 857: 0, 858: 0, 859: 0.13333333333333333, 860: 0, 861: 0.25, 862: 0.3333333333333333, 863: 0, 864: 0.6666666666666666, 865: 1.0, 866: 0.6666666666666666, 867: 0, 868: 0.3333333333333333, 869: 0, 870: 0, 871: 0.3, 872: 0, 873: 0.23809523809523808, 874: 0, 875: 0, 876: 0.3333333333333333, 877: 0.6666666666666666, 878: 0.6666666666666666, 879: 0, 880: 0.11428571428571428, 881: 0, 882: 0.16666666666666666, 883: 0.2857142857142857, 884: 0.3, 885: 1.0, 886: 1.0, 887: 1.0, 888: 0.2857142857142857, 889: 0.2087912087912088, 890: 0, 891: 0.23076923076923078, 892: 0.5333333333333333, 893: 0.3333333333333333, 894: 0.16666666666666666, 895: 0.23809523809523808, 896: 0, 897: 0.16666666666666666, 898: 0.1111111111111111, 899: 0, 900: 0, 901: 0, 902: 0, 903: 0.6666666666666666, 904: 0.6666666666666666, 905: 0.11538461538461539, 906: 0, 907: 0.14285714285714285, 908: 0.09523809523809523, 909: 0, 910: 1.0, 911: 0.03333333333333333, 912: 0.13060109289617486, 913: 0, 914: 1.0, 915: 0.10606060606060606, 916: 0, 917: 0, 918: 0, 919: 0, 920: 0, 921: 0, 922: 0, 923: 0, 924: 0, 925: 0.12727272727272726, 926: 0, 927: 0.2, 928: 0.3, 929: 0.06842105263157895, 930: 0, 931: 0.24175824175824176, 932: 0.3333333333333333, 933: 0, 934: 0, 935: 0.4, 936: 0, 937: 0, 938: 1.0, 939: 0.15441176470588236, 940: 0.08791208791208792, 941: 0.5, 942: 1.0, 943: 0, 944: 1.0, 945: 0, 946: 0.3333333333333333, 947: 0, 948: 1.0, 949: 1.0, 950: 0, 951: 0.07142857142857142, 952: 0.3, 953: 0, 954: 0, 955: 1.0, 956: 0.16666666666666666, 957: 0.3111111111111111, 958: 0, 959: 0, 960: 0, 961: 0.3333333333333333, 962: 0, 963: 0, 964: 0.6666666666666666, 965: 0.0873015873015873, 966: 0, 967: 0, 968: 0.3888888888888889, 969: 0.6666666666666666, 970: 0, 971: 0, 972: 0, 973: 0.42857142857142855, 974: 0, 975: 0, 976: 0.07805399625768511, 977: 0, 978: 0, 979: 0.1, 980: 0, 981: 0.6666666666666666, 982: 0.05704365079365079, 983: 0, 984: 0, 985: 0, 986: 0, 987: 0, 988: 0.16993464052287582, 989: 0, 990: 0.3333333333333333, 991: 0.2857142857142857, 992: 0.26666666666666666, 993: 0.12557077625570776, 994: 0, 995: 0.07549361207897794, 996: 0.3333333333333333, 997: 0, 998: 0.14619883040935672, 999: 0.21052631578947367, 1000: 0.11067193675889328, 1001: 0, 1002: 0.3, 1003: 0, 1004: 0, 1005: 0.4, 1006: 0.6666666666666666, 1007: 0.26666666666666666, 1008: 0, 1009: 0, 1010: 0, 1011: 0.3333333333333333, 1012: 0, 1013: 0, 1014: 0.3333333333333333, 1015: 0, 1016: 0, 1017: 0, 1018: 0.3333333333333333, 1019: 0, 1020: 0.4, 1021: 0, 1022: 0, 1023: 0, 1024: 1.0, 1025: 0, 1026: 0, 1027: 0, 1028: 0, 1029: 0, 1030: 0, 1031: 0, 1032: 0.42857142857142855, 1033: 1.0, 1034: 0.15833333333333333, 1035: 0, 1036: 0, 1037: 0, 1038: 0.6, 1039: 0, 1040: 0, 1041: 0, 1042: 0, 1043: 1.0, 1044: 0, 1045: 1.0, 1046: 0.2909090909090909, 1047: 0.5, 1048: 0.24216524216524216, 1049: 0.3333333333333333, 1050: 0, 1051: 0, 1052: 0, 1053: 0, 1054: 0.33088235294117646, 1055: 0, 1056: 0.3333333333333333, 1057: 0, 1058: 0, 1059: 0, 1060: 0, 1061: 0, 1062: 0, 1063: 0, 1064: 0.32142857142857145, 1065: 0, 1066: 0, 1067: 0, 1068: 0.21818181818181817, 1069: 0.16666666666666666, 1070: 0.3333333333333333, 1071: 0, 1072: 0, 1073: 0.4, 1074: 0, 1075: 0, 1076: 0.5, 1077: 0, 1078: 0, 1079: 0.07142857142857142, 1080: 0.3333333333333333, 1081: 0.3333333333333333, 1082: 0, 1083: 0, 1084: 0.16666666666666666, 1085: 0, 1086: 0, 1087: 0.21818181818181817, 1088: 0, 1089: 0, 1090: 0, 1091: 0, 1092: 0, 1093: 0, 1094: 0, 1095: 0, 1096: 0, 1097: 0.16666666666666666, 1098: 0, 1099: 0.3333333333333333, 1100: 0.2, 1101: 0.21428571428571427, 1102: 0, 1103: 0, 1104: 0.3333333333333333, 1105: 0, 1106: 0, 1107: 0, 1108: 0.3333333333333333, 1109: 0, 1110: 0, 1111: 0, 1112: 0, 1113: 0, 1114: 0.26666666666666666, 1115: 0, 1116: 0.08888888888888889, 1117: 0, 1118: 0, 1119: 0.20476190476190476, 1120: 0, 1121: 0, 1122: 0.5, 1123: 0.3333333333333333, 1124: 0, 1125: 0.2, 1126: 0, 1127: 0, 1128: 0.07692307692307693, 1129: 0, 1130: 0, 1131: 0, 1132: 0, 1133: 0, 1134: 0.3333333333333333, 1135: 0, 1136: 0, 1137: 0, 1138: 0, 1139: 0.3333333333333333, 1140: 0, 1141: 0, 1142: 0, 1143: 0.2, 1144: 0, 1145: 0.08888888888888889, 1146: 0, 1147: 0, 1148: 0, 1149: 0, 1150: 0, 1151: 0.3333333333333333, 1152: 0, 1153: 0, 1154: 0, 1155: 0.1, 1156: 0.04320502749410841, 1157: 0, 1158: 1.0, 1159: 0, 1160: 0, 1161: 0.11666666666666667, 1162: 0, 1163: 1.0, 1164: 0.2692307692307692, 1165: 0, 1166: 0, 1167: 0.23809523809523808, 1168: 0.17287234042553193, 1169: 0, 1170: 0.3333333333333333, 1171: 0, 1172: 0, 1173: 0, 1174: 0, 1175: 0, 1176: 0, 1177: 0, 1178: 0, 1179: 0, 1180: 0, 1181: 0, 1182: 0, 1183: 0, 1184: 0, 1185: 0, 1186: 0.06666666666666667, 1187: 0, 1188: 1.0, 1189: 0.2, 1190: 0.3333333333333333, 1191: 0.25, 1192: 0.16666666666666666, 1193: 0.5, 1194: 0, 1195: 0, 1196: 1.0, 1197: 0, 1198: 0, 1199: 1.0, 1200: 0, 1201: 1.0, 1202: 0.3333333333333333, 1203: 0, 1204: 0, 1205: 0.6, 1206: 0, 1207: 0, 1208: 0.31666666666666665, 1209: 0, 1210: 0.5, 1211: 0, 1212: 0.21428571428571427, 1213: 0.3333333333333333, 1214: 0, 1215: 0.2, 1216: 0.16666666666666666, 1217: 0.10256410256410256, 1218: 0.4, 1219: 0.2, 1220: 0, 1221: 0.3, 1222: 0.1875, 1223: 0.3333333333333333, 1224: 0, 1225: 0, 1226: 0.2727272727272727, 1227: 0, 1228: 0, 1229: 0.1, 1230: 0.21212121212121213, 1231: 0, 1232: 0, 1233: 0, 1234: 0.27472527472527475, 1235: 0.6666666666666666, 1236: 0, 1237: 0.21428571428571427, 1238: 0.26666666666666666, 1239: 0, 1240: 0.2012820512820513, 1241: 0.036923076923076927, 1242: 0.19444444444444445, 1243: 0, 1244: 0.24367816091954023, 1245: 0, 1246: 0.4835164835164835, 1247: 0.10099573257467995, 1248: 0.2, 1249: 0.3333333333333333, 1250: 0, 1251: 0.21794871794871795, 1252: 0, 1253: 0.3333333333333333, 1254: 0.4, 1255: 0.3333333333333333, 1256: 1.0, 1257: 0.2857142857142857, 1258: 0, 1259: 0.3333333333333333, 1260: 1.0, 1261: 0.30303030303030304, 1262: 0.6666666666666666, 1263: 0, 1264: 0.13333333333333333, 1265: 0, 1266: 1.0, 1267: 0.06060606060606061, 1268: 0, 1269: 0, 1270: 0, 1271: 0, 1272: 0, 1273: 0, 1274: 0.1388888888888889, 1275: 0, 1276: 0, 1277: 0.2, 1278: 0, 1279: 0, 1280: 0, 1281: 0, 1282: 0, 1283: 0.16666666666666666, 1284: 0, 1285: 1.0, 1286: 0, 1287: 0, 1288: 0, 1289: 0.21818181818181817, 1290: 0.047619047619047616, 1291: 0, 1292: 0, 1293: 0, 1294: 0.1, 1295: 0, 1296: 0, 1297: 0, 1298: 0.6666666666666666, 1299: 0.5, 1300: 0.6666666666666666, 1301: 0, 1302: 0, 1303: 0, 1304: 0, 1305: 0, 1306: 0, 1307: 0, 1308: 0, 1309: 0, 1310: 0.3333333333333333, 1311: 0.3333333333333333, 1312: 0, 1313: 0, 1314: 0, 1315: 1.0, 1316: 0.08959311424100157, 1317: 0, 1318: 0, 1319: 0, 1320: 0.16483516483516483, 1321: 0, 1322: 0, 1323: 0, 1324: 1.0, 1325: 0.26666666666666666, 1326: 0, 1327: 0.3333333333333333, 1328: 0, 1329: 1.0, 1330: 0.3333333333333333, 1331: 0, 1332: 0, 1333: 0, 1334: 0, 1335: 0.42857142857142855, 1336: 0, 1337: 0, 1338: 0, 1339: 0, 1340: 0.07142857142857142, 1341: 0.5, 1342: 0, 1343: 0, 1344: 0, 1345: 0, 1346: 0, 1347: 0.27472527472527475, 1348: 0, 1349: 0.2, 1350: 0.1, 1351: 0, 1352: 0, 1353: 0.6666666666666666, 1354: 0, 1355: 1.0, 1356: 0, 1357: 0, 1358: 0, 1359: 0, 1360: 0.8333333333333334, 1361: 0.6666666666666666, 1362: 0, 1363: 0.10909090909090909, 1364: 0, 1365: 0, 1366: 0, 1367: 0.2857142857142857, 1368: 0.7, 1369: 0, 1370: 0, 1371: 0.3333333333333333, 1372: 0.01818181818181818, 1373: 1.0, 1374: 0, 1375: 0, 1376: 0, 1377: 0, 1378: 0.16666666666666666, 1379: 0, 1380: 0, 1381: 0, 1382: 0, 1383: 0, 1384: 0, 1385: 0, 1386: 0, 1387: 0, 1388: 1.0, 1389: 0.3626373626373626, 1390: 0, 1391: 0, 1392: 0, 1393: 0.4, 1394: 0, 1395: 0, 1396: 0, 1397: 0, 1398: 1.0, 1399: 0, 1400: 0, 1401: 0, 1402: 0.3333333333333333, 1403: 0, 1404: 0, 1405: 0, 1406: 0.35555555555555557, 1407: 0, 1408: 0, 1409: 0, 1410: 0, 1411: 0, 1412: 0, 1413: 0, 1414: 0.05128205128205128, 1415: 0, 1416: 0.14285714285714285, 1417: 0.03571428571428571, 1418: 0, 1419: 0.6666666666666666, 1420: 0, 1421: 0.058333333333333334, 1422: 0, 1423: 0, 1424: 0, 1425: 0, 1426: 0, 1427: 0, 1428: 0, 1429: 0.13333333333333333, 1430: 0.07142857142857142, 1431: 0, 1432: 0.16666666666666666, 1433: 0.06666666666666667, 1434: 0.3333333333333333, 1435: 0.16666666666666666, 1436: 0.3333333333333333, 1437: 0.030969030969030968, 1438: 0, 1439: 0, 1440: 0, 1441: 0, 1442: 0.16666666666666666, 1443: 0, 1444: 0, 1445: 0.26666666666666666, 1446: 0, 1447: 0.06666666666666667, 1448: 0.06060606060606061, 1449: 0, 1450: 0.08333333333333333, 1451: 0, 1452: 0.06666666666666667, 1453: 0, 1454: 0, 1455: 0.09652509652509653, 1456: 0, 1457: 0.25825825825825827, 1458: 0.13333333333333333, 1459: 0, 1460: 0.24, 1461: 0, 1462: 0, 1463: 0, 1464: 0, 1465: 1.0, 1466: 0, 1467: 0.3333333333333333, 1468: 0.1, 1469: 0.1, 1470: 1.0, 1471: 1.0, 1472: 0.1111111111111111, 1473: 0, 1474: 0.3333333333333333, 1475: 0, 1476: 0, 1477: 0.4, 1478: 0, 1479: 0.06666666666666667, 1480: 0, 1481: 0, 1482: 0.1, 1483: 0.01098901098901099, 1484: 0.09523809523809523, 1485: 0.20952380952380953, 1486: 0, 1487: 0, 1488: 0.16666666666666666, 1489: 0.16666666666666666, 1490: 0.21794871794871795, 1491: 0, 1492: 0.6666666666666666, 1493: 0.25975975975975973, 1494: 0.2, 1495: 0, 1496: 0.14461538461538462, 1497: 0, 1498: 0.16666666666666666, 1499: 0.09090909090909091, 1500: 0, 1501: 0, 1502: 0.26666666666666666, 1503: 0.35714285714285715, 1504: 0.16666666666666666, 1505: 0.08072707832130446, 1506: 0, 1507: 0.5, 1508: 0.22826086956521738, 1509: 0.23636363636363636, 1510: 0, 1511: 0.13333333333333333, 1512: 0.2222222222222222, 1513: 0.8333333333333334, 1514: 0.1111111111111111, 1515: 0.29284750337381915, 1516: 0, 1517: 0.11944444444444445, 1518: 0.1365414710485133, 1519: 0.3333333333333333, 1520: 0.11623143881208398, 1521: 0, 1522: 0.0545790934320074, 1523: 0, 1524: 0, 1525: 0.5, 1526: 0, 1527: 0.10714285714285714, 1528: 0.16666666666666666, 1529: 0.054187192118226604, 1530: 0.17857142857142858, 1531: 0, 1532: 0, 1533: 0, 1534: 0, 1535: 0.1388888888888889, 1536: 0, 1537: 1.0, 1538: 0.1388888888888889, 1539: 0, 1540: 0.04678362573099415, 1541: 0, 1542: 0.14285714285714285, 1543: 0, 1544: 0.06461538461538462, 1545: 0.06628787878787878, 1546: 0.09523809523809523, 1547: 0.25, 1548: 0.8333333333333334, 1549: 0.3888888888888889, 1550: 0.4666666666666667, 1551: 0.14624505928853754, 1552: 0.05297532656023222, 1553: 0.1607843137254902, 1554: 0.05847953216374269, 1555: 0.3, 1556: 0, 1557: 0.022222222222222223, 1558: 0, 1559: 0, 1560: 0.3333333333333333, 1561: 0.3333333333333333, 1562: 0, 1563: 0, 1564: 0.07692307692307693, 1565: 1.0, 1566: 0.17857142857142858, 1567: 0.058712121212121215, 1568: 0, 1569: 0.0718954248366013, 1570: 0.13333333333333333, 1571: 0, 1572: 0.3333333333333333, 1573: 0, 1574: 0, 1575: 1.0, 1576: 0.3333333333333333, 1577: 0.13333333333333333, 1578: 1.0, 1579: 0.3, 1580: 0, 1581: 0.03571428571428571, 1582: 0.11666666666666667, 1583: 0.3333333333333333, 1584: 1.0, 1585: 1.0, 1586: 0, 1587: 0, 1588: 0, 1589: 0.07575757575757576, 1590: 0.11462450592885376, 1591: 0, 1592: 0, 1593: 0.29846153846153844, 1594: 0, 1595: 0.02666666666666667, 1596: 0, 1597: 0.16666666666666666, 1598: 0.1536723163841808, 1599: 0.22510822510822512, 1600: 0.24777183600713013, 1601: 0.16363636363636364, 1602: 0.396011396011396, 1603: 0.4166666666666667, 1604: 0, 1605: 0.025, 1606: 0.047619047619047616, 1607: 0.05172413793103448, 1608: 0, 1609: 0.2, 1610: 0.01818181818181818, 1611: 0.01818181818181818, 1612: 0.09523809523809523, 1613: 0, 1614: 0, 1615: 0.16666666666666666, 1616: 0, 1617: 0, 1618: 0, 1619: 0, 1620: 0.32051282051282054, 1621: 0.06593406593406594, 1622: 0.09309010503040353, 1623: 0.030303030303030304, 1624: 0.14285714285714285, 1625: 0.36363636363636365, 1626: 0, 1627: 0, 1628: 0, 1629: 0, 1630: 0, 1631: 0, 1632: 0, 1633: 0.09090909090909091, 1634: 0.07575757575757576, 1635: 0, 1636: 0.23809523809523808, 1637: 0.3333333333333333, 1638: 0, 1639: 0.2, 1640: 0, 1641: 0, 1642: 0, 1643: 0, 1644: 0.2, 1645: 0, 1646: 0.14954577218728163, 1647: 0.1695906432748538, 1648: 0.1111111111111111, 1649: 0.25735294117647056, 1650: 0.14901960784313725, 1651: 0.7252747252747253, 1652: 0, 1653: 1.0, 1654: 1.0, 1655: 0, 1656: 0, 1657: 0.8928571428571429, 1658: 0.6666666666666666, 1659: 0, 1660: 0, 1661: 0.3333333333333333, 1662: 0, 1663: 0.26666666666666666, 1664: 0.10606060606060606, 1665: 0, 1666: 0.3333333333333333, 1667: 0.04666666666666667, 1668: 0.047619047619047616, 1669: 0.03676470588235294, 1670: 0, 1671: 0.14285714285714285, 1672: 0.2, 1673: 0.21428571428571427, 1674: 0.10782241014799154, 1675: 0, 1676: 0.1111111111111111, 1677: 0.24242424242424243, 1678: 0, 1679: 0, 1680: 0, 1681: 0, 1682: 0.17753623188405798, 1683: 1.0, 1684: 0.1482153660012099, 1685: 0.3333333333333333, 1686: 0.5714285714285714, 1687: 0, 1688: 0.18454106280193236, 1689: 0.2572463768115942, 1690: 0, 1691: 0.3717948717948718, 1692: 0.5824175824175825, 1693: 0.5897435897435898, 1694: 0.5333333333333333, 1695: 0.6212121212121212, 1696: 0.08735632183908046, 1697: 0.4, 1698: 0.19444444444444445, 1699: 0.4, 1700: 0, 1701: 0.19634146341463415, 1702: 0, 1703: 1.0, 1704: 0.15151515151515152, 1705: 0.37362637362637363, 1706: 0.21428571428571427, 1707: 0.37777777777777777, 1708: 0.5333333333333333, 1709: 0, 1710: 0.3333333333333333, 1711: 0.20588235294117646, 1712: 0.6, 1713: 0.6666666666666666, 1714: 0, 1715: 0, 1716: 0, 1717: 0, 1718: 0.1294871794871795, 1719: 0, 1720: 0, 1721: 0, 1722: 0, 1723: 0, 1724: 0.14102564102564102, 1725: 0, 1726: 0.09523809523809523, 1727: 0.04395604395604396, 1728: 0.16666666666666666, 1729: 0, 1730: 0, 1731: 0, 1732: 0.3333333333333333, 1733: 0.16666666666666666, 1734: 0.23809523809523808, 1735: 0.14285714285714285, 1736: 0.2, 1737: 0.027777777777777776, 1738: 0, 1739: 0.16666666666666666, 1740: 0.10909090909090909, 1741: 0.09166666666666666, 1742: 0.047619047619047616, 1743: 0.19047619047619047, 1744: 0, 1745: 0, 1746: 0, 1747: 0, 1748: 0.14564564564564564, 1749: 0, 1750: 0.12631578947368421, 1751: 0, 1752: 0, 1753: 0.16666666666666666, 1754: 0.047619047619047616, 1755: 0, 1756: 0.03260869565217391, 1757: 0.14545454545454545, 1758: 0, 1759: 0.24242424242424243, 1760: 0.14102564102564102, 1761: 0.07894736842105263, 1762: 0, 1763: 0.03571428571428571, 1764: 0.18681318681318682, 1765: 0.12087912087912088, 1766: 0.1956989247311828, 1767: 0.10714285714285714, 1768: 0.3238095238095238, 1769: 0, 1770: 0.16666666666666666, 1771: 0.08902439024390243, 1772: 0, 1773: 0.1, 1774: 0, 1775: 0, 1776: 0, 1777: 0.39285714285714285, 1778: 1.0, 1779: 0, 1780: 0.3333333333333333, 1781: 1.0, 1782: 0.028205128205128206, 1783: 0.3, 1784: 0, 1785: 0, 1786: 0.1282051282051282, 1787: 0, 1788: 0, 1789: 0.022222222222222223, 1790: 0, 1791: 0, 1792: 0, 1793: 0, 1794: 0, 1795: 0, 1796: 0.26666666666666666, 1797: 0.10256410256410256, 1798: 0, 1799: 0.19047619047619047, 1800: 0.24444444444444444, 1801: 0, 1802: 0, 1803: 0.14285714285714285, 1804: 0.3090909090909091, 1805: 0.16666666666666666, 1806: 0, 1807: 0, 1808: 1.0, 1809: 0.14285714285714285, 1810: 0.030303030303030304, 1811: 0.03676470588235294, 1812: 0, 1813: 0.3333333333333333, 1814: 0, 1815: 0, 1816: 0, 1817: 0.14285714285714285, 1818: 0, 1819: 0.3333333333333333, 1820: 0.03636363636363636, 1821: 0, 1822: 0, 1823: 0, 1824: 0.3333333333333333, 1825: 0, 1826: 0, 1827: 0, 1828: 0, 1829: 0, 1830: 0, 1831: 0, 1832: 0.4, 1833: 0, 1834: 0, 1835: 0.1, 1836: 0.3333333333333333, 1837: 0, 1838: 0.15151515151515152, 1839: 0.16666666666666666, 1840: 0, 1841: 0, 1842: 0, 1843: 0, 1844: 0, 1845: 0.22727272727272727, 1846: 0, 1847: 0.3333333333333333, 1848: 0, 1849: 0, 1850: 0, 1851: 0.2, 1852: 0.09090909090909091, 1853: 0, 1854: 0, 1855: 0.2, 1856: 1.0, 1857: 0.5, 1858: 0, 1859: 0, 1860: 0.13450292397660818, 1861: 0.03571428571428571, 1862: 0, 1863: 0, 1864: 0, 1865: 0, 1866: 0, 1867: 0.16666666666666666, 1868: 0, 1869: 0, 1870: 0, 1871: 0.1, 1872: 0.27816091954022987, 1873: 0, 1874: 0.1, 1875: 0, 1876: 0.044444444444444446, 1877: 0.16666666666666666, 1878: 0.05128205128205128, 1879: 0, 1880: 0.06666666666666667, 1881: 0, 1882: 0, 1883: 0.16666666666666666, 1884: 0.21818181818181817, 1885: 0.6666666666666666, 1886: 0.09881422924901186, 1887: 0.24210526315789474, 1888: 0, 1889: 0, 1890: 0.3333333333333333, 1891: 0, 1892: 0.16025641025641027, 1893: 0.5, 1894: 0.1, 1895: 0.3333333333333333, 1896: 0.10714285714285714, 1897: 0, 1898: 0, 1899: 0.1878048780487805, 1900: 0.13333333333333333, 1901: 0, 1902: 0.09956709956709957, 1903: 0, 1904: 0, 1905: 0, 1906: 0.061142217245240764, 1907: 0.25201612903225806, 1908: 0.4, 1909: 1.0, 1910: 0.17857142857142858, 1911: 1.0, 1912: 1.0, 1913: 0.3, 1914: 0.47619047619047616, 1915: 1.0, 1916: 0.6666666666666666, 1917: 0.3333333333333333, 1918: 0.3333333333333333, 1919: 1.0, 1920: 0.6666666666666666, 1921: 0, 1922: 0, 1923: 0, 1924: 0, 1925: 0, 1926: 0.1, 1927: 0.2, 1928: 0.027777777777777776, 1929: 0, 1930: 0.008333333333333333, 1931: 0, 1932: 0.07142857142857142, 1933: 0.1111111111111111, 1934: 0, 1935: 0, 1936: 0.6666666666666666, 1937: 0.25735294117647056, 1938: 0, 1939: 0.10606060606060606, 1940: 0, 1941: 0, 1942: 0, 1943: 0, 1944: 0, 1945: 0, 1946: 0, 1947: 0, 1948: 0, 1949: 0, 1950: 1.0, 1951: 0, 1952: 0, 1953: 0, 1954: 0.05714285714285714, 1955: 0.09090909090909091, 1956: 0.38095238095238093, 1957: 0, 1958: 0.19047619047619047, 1959: 0.26666666666666666, 1960: 0, 1961: 0, 1962: 0, 1963: 0, 1964: 0, 1965: 0, 1966: 0, 1967: 0, 1968: 0, 1969: 0.16666666666666666, 1970: 0, 1971: 0, 1972: 0, 1973: 0, 1974: 0, 1975: 0, 1976: 0, 1977: 0, 1978: 0, 1979: 0, 1980: 0, 1981: 0, 1982: 0, 1983: 0, 1984: 0, 1985: 0, 1986: 0, 1987: 0, 1988: 0, 1989: 0, 1990: 0.022058823529411766, 1991: 0.07575757575757576, 1992: 1.0, 1993: 0, 1994: 0.054945054945054944, 1995: 0, 1996: 0, 1997: 0.29411764705882354, 1998: 0.028985507246376812, 1999: 0.13333333333333333, 2000: 0.3333333333333333, 2001: 0, 2002: 0, 2003: 0, 2004: 1.0, 2005: 0, 2006: 0, 2007: 0, 2008: 0, 2009: 0, 2010: 0.3333333333333333, 2011: 0, 2012: 0, 2013: 1.0, 2014: 0.30039525691699603, 2015: 0.25296442687747034, 2016: 0.25, 2017: 0, 2018: 0.16666666666666666, 2019: 0.175, 2020: 0.21428571428571427, 2021: 0, 2022: 0.3, 2023: 0.21428571428571427, 2024: 0, 2025: 0, 2026: 0, 2027: 0, 2028: 0, 2029: 0, 2030: 0, 2031: 0, 2032: 0, 2033: 0, 2034: 0.16666666666666666, 2035: 0, 2036: 0, 2037: 0, 2038: 0, 2039: 0.16666666666666666, 2040: 0, 2041: 0, 2042: 0.16666666666666666, 2043: 0, 2044: 0.06666666666666667, 2045: 0.3333333333333333, 2046: 0.1, 2047: 0.054945054945054944, 2048: 0.1896551724137931, 2049: 0.1849894291754757, 2050: 0.10588235294117647, 2051: 0.3333333333333333, 2052: 0.047619047619047616, 2053: 0.3761904761904762, 2054: 0.15, 2055: 1.0, 2056: 0.0718954248366013, 2057: 0.18181818181818182, 2058: 0.13333333333333333, 2059: 0.10714285714285714, 2060: 0.8, 2061: 0.3333333333333333, 2062: 0.6666666666666666, 2063: 1.0, 2064: 0, 2065: 0, 2066: 1.0, 2067: 0.4642857142857143, 2068: 0, 2069: 0.048484848484848485, 2070: 0.3, 2071: 0.03864734299516908, 2072: 0, 2073: 0.17777777777777778, 2074: 0.3333333333333333, 2075: 0.23550724637681159, 2076: 0.25, 2077: 0.2727272727272727, 2078: 0, 2079: 0, 2080: 0, 2081: 0, 2082: 0.3333333333333333, 2083: 1.0, 2084: 0.6, 2085: 0.06628787878787878, 2086: 0, 2087: 0, 2088: 0, 2089: 0, 2090: 0, 2091: 0, 2092: 0, 2093: 0, 2094: 0, 2095: 0.10476190476190476, 2096: 0, 2097: 0.4722222222222222, 2098: 0.07692307692307693, 2099: 0, 2100: 0, 2101: 0, 2102: 0, 2103: 0, 2104: 0, 2105: 0.2518939393939394, 2106: 0.6666666666666666, 2107: 0, 2108: 0.10989010989010989, 2109: 0, 2110: 0.6666666666666666, 2111: 0.10412299091544375, 2112: 0, 2113: 0.3111111111111111, 2114: 0.3333333333333333, 2115: 0, 2116: 0, 2117: 0, 2118: 0.16666666666666666, 2119: 0, 2120: 0, 2121: 0, 2122: 0, 2123: 0.2, 2124: 0.17857142857142858, 2125: 0.21212121212121213, 2126: 0.5714285714285714, 2127: 0, 2128: 0, 2129: 0, 2130: 0.14285714285714285, 2131: 0, 2132: 0, 2133: 0, 2134: 0.2, 2135: 0, 2136: 0, 2137: 0, 2138: 0, 2139: 0.06666666666666667, 2140: 0, 2141: 0.2, 2142: 0, 2143: 0, 2144: 0.16666666666666666, 2145: 0, 2146: 0.45161290322580644, 2147: 0.46236559139784944, 2148: 0.45320197044334976, 2149: 0.5311827956989247, 2150: 0.5517241379310345, 2151: 0.5020161290322581, 2152: 0.535632183908046, 2153: 0.5602564102564103, 2154: 0.4962121212121212, 2155: 0.4274193548387097, 2156: 0, 2157: 0.3333333333333333, 2158: 0.16666666666666666, 2159: 0, 2160: 0, 2161: 0, 2162: 0, 2163: 0, 2164: 0, 2165: 0, 2166: 0.03571428571428571, 2167: 0, 2168: 0, 2169: 0, 2170: 0, 2171: 0, 2172: 0, 2173: 0.3333333333333333, 2174: 0.2, 2175: 0, 2176: 0, 2177: 0.1, 2178: 0.26666666666666666, 2179: 0.07142857142857142, 2180: 0, 2181: 0, 2182: 0.027777777777777776, 2183: 0, 2184: 0.03571428571428571, 2185: 0, 2186: 0.06829573934837092, 2187: 0, 2188: 0, 2189: 0, 2190: 0, 2191: 0, 2192: 0.06666666666666667, 2193: 0, 2194: 0, 2195: 0, 2196: 0, 2197: 0.6666666666666666, 2198: 0, 2199: 0, 2200: 0, 2201: 0.07142857142857142, 2202: 0.02564102564102564, 2203: 0, 2204: 0, 2205: 0.05555555555555555, 2206: 0.09941520467836257, 2207: 0, 2208: 0.3333333333333333, 2209: 0.2, 2210: 0, 2211: 0, 2212: 0, 2213: 0, 2214: 0.1111111111111111, 2215: 0.11538461538461539, 2216: 0.1282051282051282, 2217: 0.16666666666666666, 2218: 0, 2219: 0, 2220: 0.5, 2221: 0, 2222: 0, 2223: 0, 2224: 0, 2225: 0, 2226: 0, 2227: 0, 2228: 0, 2229: 0, 2230: 0, 2231: 0, 2232: 0.19444444444444445, 2233: 0.06461538461538462, 2234: 0.3333333333333333, 2235: 0.04395604395604396, 2236: 0, 2237: 0, 2238: 0.01818181818181818, 2239: 0, 2240: 0, 2241: 0, 2242: 0, 2243: 0, 2244: 0.14285714285714285, 2245: 0, 2246: 0, 2247: 0.16666666666666666, 2248: 0, 2249: 0.3333333333333333, 2250: 0.42857142857142855, 2251: 0.09666666666666666, 2252: 1.0, 2253: 0.3333333333333333, 2254: 0.3329268292682927, 2255: 1.0, 2256: 0.044444444444444446, 2257: 0, 2258: 0.3940256045519203, 2259: 0.41354723707664887, 2260: 0.4596774193548387, 2261: 0.14130434782608695, 2262: 0.1164983164983165, 2263: 0.3611111111111111, 2264: 0.6, 2265: 0, 2266: 0, 2267: 0, 2268: 0, 2269: 0, 2270: 0.10526315789473684, 2271: 0, 2272: 0.15555555555555556, 2273: 0, 2274: 1.0, 2275: 0, 2276: 0, 2277: 1.0, 2278: 0, 2279: 0, 2280: 0, 2281: 0.10714285714285714, 2282: 0.23809523809523808, 2283: 0.1, 2284: 0, 2285: 0.4, 2286: 0.1, 2287: 0, 2288: 0, 2289: 0, 2290: 0, 2291: 0, 2292: 0.3333333333333333, 2293: 1.0, 2294: 0.6666666666666666, 2295: 0.027777777777777776, 2296: 0, 2297: 0.14285714285714285, 2298: 0.3333333333333333, 2299: 0, 2300: 0, 2301: 0, 2302: 1.0, 2303: 1.0, 2304: 0, 2305: 0, 2306: 0, 2307: 0, 2308: 0, 2309: 0.10714285714285714, 2310: 0, 2311: 0, 2312: 0, 2313: 0.3333333333333333, 2314: 0, 2315: 0.3333333333333333, 2316: 0, 2317: 0.06666666666666667, 2318: 0, 2319: 0.14545454545454545, 2320: 0.2, 2321: 0.16666666666666666, 2322: 0, 2323: 0, 2324: 0.08333333333333333, 2325: 0.3333333333333333, 2326: 0, 2327: 0.14210526315789473, 2328: 0, 2329: 0, 2330: 0.39285714285714285, 2331: 0.36363636363636365, 2332: 0, 2333: 0.3, 2334: 0.03571428571428571, 2335: 0, 2336: 0.5, 2337: 0.4909090909090909, 2338: 0.24166666666666667, 2339: 0.35294117647058826, 2340: 0.34065934065934067, 2341: 0.14285714285714285, 2342: 0.5, 2343: 0.14545454545454545, 2344: 1.0, 2345: 0.2015810276679842, 2346: 0, 2347: 0.07105538140020899, 2348: 0.2573099415204678, 2349: 0, 2350: 0.8333333333333334, 2351: 0.17989417989417988, 2352: 0, 2353: 0.6, 2354: 0.1, 2355: 0.2, 2356: 0, 2357: 0, 2358: 0, 2359: 0, 2360: 0.3333333333333333, 2361: 0, 2362: 0, 2363: 0, 2364: 0, 2365: 0, 2366: 0.1, 2367: 0, 2368: 0, 2369: 0, 2370: 0, 2371: 0, 2372: 0.20512820512820512, 2373: 0, 2374: 0.1, 2375: 0.5, 2376: 0.4, 2377: 0.42857142857142855, 2378: 0, 2379: 0.2987012987012987, 2380: 0.11932773109243698, 2381: 0, 2382: 0, 2383: 0, 2384: 0.16666666666666666, 2385: 0, 2386: 0, 2387: 0, 2388: 0, 2389: 0, 2390: 0, 2391: 0.25735294117647056, 2392: 0.3333333333333333, 2393: 1.0, 2394: 1.0, 2395: 0, 2396: 0, 2397: 0.12727272727272726, 2398: 0.6666666666666666, 2399: 0.21818181818181817, 2400: 0, 2401: 0.06436781609195402, 2402: 1.0, 2403: 0, 2404: 0.3333333333333333, 2405: 0.6025641025641025, 2406: 0.7121212121212122, 2407: 0.6444444444444445, 2408: 0.8095238095238095, 2409: 0, 2410: 0, 2411: 0.3333333333333333, 2412: 1.0, 2413: 0, 2414: 0, 2415: 0.5, 2416: 0.6666666666666666, 2417: 0.1, 2418: 0, 2419: 0.3333333333333333, 2420: 0.18181818181818182, 2421: 0, 2422: 0.6, 2423: 0.3, 2424: 0.4, 2425: 0.19047619047619047, 2426: 0.2571428571428571, 2427: 0.13333333333333333, 2428: 0, 2429: 1.0, 2430: 0.41818181818181815, 2431: 0, 2432: 0, 2433: 0, 2434: 0.17857142857142858, 2435: 0, 2436: 0.26666666666666666, 2437: 0, 2438: 0, 2439: 0.5, 2440: 0.14285714285714285, 2441: 0.19047619047619047, 2442: 0.6, 2443: 0.1619047619047619, 2444: 0.21428571428571427, 2445: 0.027777777777777776, 2446: 0, 2447: 0.10338680926916222, 2448: 0.1, 2449: 0, 2450: 0.3333333333333333, 2451: 0, 2452: 0, 2453: 0, 2454: 0.2, 2455: 0, 2456: 0.21171171171171171, 2457: 0.16666666666666666, 2458: 0.1, 2459: 0.15789473684210525, 2460: 0.12473118279569892, 2461: 0, 2462: 0, 2463: 0, 2464: 0, 2465: 0, 2466: 0, 2467: 0, 2468: 0.2, 2469: 0.023391812865497075, 2470: 0.05555555555555555, 2471: 0, 2472: 0, 2473: 0, 2474: 0, 2475: 0, 2476: 0, 2477: 0.2, 2478: 0.1, 2479: 0, 2480: 0, 2481: 0, 2482: 0, 2483: 0.06666666666666667, 2484: 0.06666666666666667, 2485: 0.1, 2486: 0, 2487: 0, 2488: 0, 2489: 0, 2490: 0, 2491: 0, 2492: 0, 2493: 0, 2494: 0, 2495: 0, 2496: 0, 2497: 0, 2498: 0, 2499: 0, 2500: 0, 2501: 0.02564102564102564, 2502: 0.3333333333333333, 2503: 1.0, 2504: 0.13793103448275862, 2505: 0.09090909090909091, 2506: 0.5, 2507: 0, 2508: 0, 2509: 0, 2510: 0, 2511: 0.19444444444444445, 2512: 0.027777777777777776, 2513: 0, 2514: 0.027777777777777776, 2515: 0, 2516: 0, 2517: 0.13333333333333333, 2518: 0, 2519: 0.3055555555555556, 2520: 0.16363636363636364, 2521: 0.13756613756613756, 2522: 0, 2523: 0, 2524: 1.0, 2525: 0.3333333333333333, 2526: 0.3333333333333333, 2527: 0, 2528: 0, 2529: 0, 2530: 0, 2531: 0, 2532: 0, 2533: 0, 2534: 0, 2535: 0, 2536: 0, 2537: 0.1, 2538: 0.1, 2539: 0.17857142857142858, 2540: 0, 2541: 0, 2542: 0, 2543: 0, 2544: 1.0, 2545: 0.3333333333333333, 2546: 0, 2547: 0, 2548: 0, 2549: 0, 2550: 0.20333333333333334, 2551: 0, 2552: 0, 2553: 0, 2554: 0, 2555: 0, 2556: 0.3333333333333333, 2557: 0, 2558: 0.6666666666666666, 2559: 0, 2560: 0, 2561: 0, 2562: 0, 2563: 0, 2564: 0, 2565: 0.10714285714285714, 2566: 0, 2567: 0, 2568: 0, 2569: 0, 2570: 0.16666666666666666, 2571: 0, 2572: 0.2857142857142857, 2573: 0.2909090909090909, 2574: 0.3333333333333333, 2575: 0.14761904761904762, 2576: 0, 2577: 0, 2578: 0.7, 2579: 0, 2580: 0, 2581: 0, 2582: 0, 2583: 0, 2584: 0, 2585: 0.1, 2586: 0, 2587: 0, 2588: 0, 2589: 0.1111111111111111, 2590: 0, 2591: 0.16666666666666666, 2592: 0.16666666666666666, 2593: 0.14545454545454545, 2594: 0, 2595: 0, 2596: 0.15, 2597: 0, 2598: 0, 2599: 0, 2600: 0, 2601: 0, 2602: 0, 2603: 0, 2604: 0, 2605: 1.0, 2606: 0, 2607: 0, 2608: 0.13333333333333333, 2609: 0, 2610: 0, 2611: 0, 2612: 0, 2613: 0, 2614: 0, 2615: 0, 2616: 0, 2617: 0, 2618: 0, 2619: 0, 2620: 0.26666666666666666, 2621: 0.07272727272727272, 2622: 0, 2623: 0, 2624: 0, 2625: 0, 2626: 0, 2627: 0, 2628: 0, 2629: 0, 2630: 0, 2631: 0, 2632: 0, 2633: 0, 2634: 0, 2635: 0, 2636: 0, 2637: 0, 2638: 0, 2639: 0, 2640: 0, 2641: 0, 2642: 0, 2643: 0.3333333333333333, 2644: 1.0, 2645: 0, 2646: 0, 2647: 0, 2648: 0.17777777777777778, 2649: 0, 2650: 0, 2651: 0, 2652: 0, 2653: 0, 2654: 0, 2655: 1.0, 2656: 0, 2657: 0, 2658: 0, 2659: 0, 2660: 0, 2661: 0.2, 2662: 0, 2663: 0, 2664: 0.3333333333333333, 2665: 1.0, 2666: 0, 2667: 0, 2668: 0, 2669: 0.23809523809523808, 2670: 0, 2671: 0.23636363636363636, 2672: 0, 2673: 0, 2674: 0, 2675: 0, 2676: 0, 2677: 0, 2678: 0, 2679: 0.13333333333333333, 2680: 0.3333333333333333, 2681: 0, 2682: 0, 2683: 0, 2684: 0, 2685: 0, 2686: 0, 2687: 1.0, 2688: 1.0, 2689: 0, 2690: 0, 2691: 0, 2692: 0, 2693: 0, 2694: 0.10909090909090909, 2695: 1.0, 2696: 0, 2697: 1.0, 2698: 0, 2699: 0, 2700: 0.3333333333333333, 2701: 0, 2702: 0, 2703: 0, 2704: 0, 2705: 0, 2706: 0, 2707: 0, 2708: 1.0, 2709: 0, 2710: 0, 2711: 0, 2712: 0, 2713: 1.0, 2714: 0, 2715: 0, 2716: 0.3333333333333333, 2717: 0, 2718: 0, 2719: 0, 2720: 0, 2721: 0.2206896551724138, 2722: 0, 2723: 0, 2724: 0, 2725: 0, 2726: 0, 2727: 0, 2728: 0, 2729: 1.0, 2730: 0, 2731: 1.0, 2732: 0, 2733: 0.7, 2734: 0.16666666666666666, 2735: 0, 2736: 0.2857142857142857, 2737: 0, 2738: 0, 2739: 0.26666666666666666, 2740: 0, 2741: 0, 2742: 0, 2743: 0, 2744: 0, 2745: 0, 2746: 0, 2747: 1.0, 2748: 0, 2749: 0, 2750: 0, 2751: 1.0, 2752: 1.0, 2753: 0, 2754: 0, 2755: 0, 2756: 0, 2757: 0, 2758: 0, 2759: 0, 2760: 0, 2761: 0, 2762: 0, 2763: 0, 2764: 0.2, 2765: 0, 2766: 0.2, 2767: 0.3333333333333333, 2768: 0.3333333333333333, 2769: 0, 2770: 0.13636363636363635, 2771: 0, 2772: 0, 2773: 0, 2774: 0, 2775: 0, 2776: 0, 2777: 0, 2778: 0, 2779: 0, 2780: 0, 2781: 0, 2782: 0, 2783: 0, 2784: 0, 2785: 0, 2786: 0, 2787: 0, 2788: 0.3333333333333333, 2789: 0.6666666666666666, 2790: 0.3333333333333333, 2791: 0, 2792: 0, 2793: 0.3333333333333333, 2794: 0.8666666666666667, 2795: 0.12280701754385964, 2796: 0, 2797: 0, 2798: 1.0, 2799: 0, 2800: 0.1111111111111111, 2801: 0.38095238095238093, 2802: 0.3974358974358974, 2803: 1.0, 2804: 0, 2805: 0, 2806: 0.3333333333333333, 2807: 1.0, 2808: 1.0, 2809: 0, 2810: 0, 2811: 0.16666666666666666, 2812: 0, 2813: 0, 2814: 0.1, 2815: 1.0, 2816: 0, 2817: 0.25, 2818: 0, 2819: 0.8, 2820: 0.14285714285714285, 2821: 0.3333333333333333, 2822: 1.0, 2823: 0.4642857142857143, 2824: 0.2, 2825: 0.25, 2826: 0, 2827: 0.3137254901960784, 2828: 0.4222222222222222, 2829: 0.2878787878787879, 2830: 0.13333333333333333, 2831: 0.27450980392156865, 2832: 0.275, 2833: 0, 2834: 0.19047619047619047, 2835: 0.6666666666666666, 2836: 0, 2837: 0, 2838: 0.14039408866995073, 2839: 0.15384615384615385, 2840: 0.6666666666666666, 2841: 0.06183574879227053, 2842: 0.3333333333333333, 2843: 0.32142857142857145, 2844: 0.10541310541310542, 2845: 0.4666666666666667, 2846: 0.5907258064516129, 2847: 0.2953846153846154, 2848: 0.4458128078817734, 2849: 0.5467980295566502, 2850: 0.3333333333333333, 2851: 0.5428571428571428, 2852: 0.23076923076923078, 2853: 0.6344086021505376, 2854: 0.15263157894736842, 2855: 0.24358974358974358, 2856: 0.28063241106719367, 2857: 0, 2858: 1.0, 2859: 0.5, 2860: 0.5, 2861: 1.0, 2862: 0, 2863: 0, 2864: 0, 2865: 0.5, 2866: 0.3333333333333333, 2867: 0.5, 2868: 0.25, 2869: 0.051470588235294115, 2870: 0.42857142857142855, 2871: 0, 2872: 0.14545454545454545, 2873: 0.022222222222222223, 2874: 0, 2875: 0, 2876: 0.16666666666666666, 2877: 0, 2878: 0, 2879: 0, 2880: 0, 2881: 0, 2882: 0.3333333333333333, 2883: 0.39285714285714285, 2884: 0.13333333333333333, 2885: 1.0, 2886: 0.5384615384615384, 2887: 0.9, 2888: 0.3333333333333333, 2889: 0, 2890: 1.0, 2891: 0, 2892: 0.21428571428571427, 2893: 0.3333333333333333, 2894: 1.0, 2895: 0, 2896: 0.1471861471861472, 2897: 0, 2898: 0.5, 2899: 0, 2900: 1.0, 2901: 0, 2902: 0.5714285714285714, 2903: 1.0, 2904: 0.3142857142857143, 2905: 0.26666666666666666, 2906: 1.0, 2907: 1.0, 2908: 0.4666666666666667, 2909: 0.5, 2910: 0.3333333333333333, 2911: 1.0, 2912: 0, 2913: 1.0, 2914: 0.3090909090909091, 2915: 1.0, 2916: 0.21818181818181817, 2917: 0, 2918: 0.42857142857142855, 2919: 0, 2920: 0, 2921: 0.7222222222222222, 2922: 0, 2923: 0, 2924: 0, 2925: 0.19230769230769232, 2926: 0.8333333333333334, 2927: 0.22727272727272727, 2928: 0.6666666666666666, 2929: 0, 2930: 0, 2931: 0, 2932: 0, 2933: 0.12727272727272726, 2934: 0.3333333333333333, 2935: 0.0784313725490196, 2936: 0.1, 2937: 0.19047619047619047, 2938: 0.6666666666666666, 2939: 0.2, 2940: 1.0, 2941: 0, 2942: 0, 2943: 0, 2944: 0, 2945: 0, 2946: 0, 2947: 0, 2948: 0, 2949: 0.4666666666666667, 2950: 0, 2951: 0, 2952: 0, 2953: 0.07575757575757576, 2954: 0, 2955: 0, 2956: 0, 2957: 0.5, 2958: 0.3333333333333333, 2959: 0.13333333333333333, 2960: 0.3006535947712418, 2961: 0.23809523809523808, 2962: 0, 2963: 0, 2964: 0.2857142857142857, 2965: 0.1388888888888889, 2966: 0, 2967: 0, 2968: 0, 2969: 0, 2970: 0, 2971: 0, 2972: 0, 2973: 0, 2974: 0, 2975: 0, 2976: 0, 2977: 0, 2978: 0, 2979: 0, 2980: 0, 2981: 0, 2982: 0, 2983: 0, 2984: 0, 2985: 0, 2986: 0, 2987: 0, 2988: 0, 2989: 0, 2990: 0, 2991: 1.0, 2992: 0, 2993: 0, 2994: 0.044444444444444446, 2995: 0, 2996: 0, 2997: 0, 2998: 0, 2999: 0, 3000: 1.0, 3001: 1.0, 3002: 1.0, 3003: 0, 3004: 0, 3005: 0.14492753623188406, 3006: 1.0, 3007: 0, 3008: 0.31868131868131866, 3009: 0, 3010: 0, 3011: 0, 3012: 0, 3013: 0, 3014: 0, 3015: 1.0, 3016: 0, 3017: 0, 3018: 0, 3019: 1.0, 3020: 0, 3021: 0, 3022: 0, 3023: 0, 3024: 0, 3025: 0, 3026: 0, 3027: 0.6666666666666666, 3028: 0, 3029: 0, 3030: 0, 3031: 0, 3032: 0.2, 3033: 0, 3034: 0, 3035: 0.13333333333333333, 3036: 0, 3037: 0.14285714285714285, 3038: 0, 3039: 0, 3040: 0.2, 3041: 0.11538461538461539, 3042: 1.0, 3043: 1.0, 3044: 0, 3045: 0, 3046: 0.3333333333333333, 3047: 0, 3048: 1.0, 3049: 0, 3050: 0, 3051: 0, 3052: 0, 3053: 0, 3054: 0.6666666666666666, 3055: 1.0, 3056: 0, 3057: 0.2426470588235294, 3058: 0.45454545454545453, 3059: 0.8, 3060: 0.8, 3061: 0.3333333333333333, 3062: 0, 3063: 0.07142857142857142, 3064: 0.6666666666666666, 3065: 0, 3066: 0, 3067: 0.08791208791208792, 3068: 0, 3069: 0, 3070: 0, 3071: 0, 3072: 0, 3073: 0, 3074: 0, 3075: 0, 3076: 0.5, 3077: 0.6666666666666666, 3078: 1.0, 3079: 0, 3080: 0, 3081: 0, 3082: 0, 3083: 0, 3084: 0.04395604395604396, 3085: 0, 3086: 0.3333333333333333, 3087: 0, 3088: 0, 3089: 0.1111111111111111, 3090: 0, 3091: 0, 3092: 0, 3093: 0.14285714285714285, 3094: 0.19444444444444445, 3095: 0, 3096: 0.3333333333333333, 3097: 0, 3098: 0, 3099: 0.015151515151515152, 3100: 0, 3101: 0, 3102: 0, 3103: 0, 3104: 0, 3105: 0, 3106: 0, 3107: 0, 3108: 0, 3109: 0, 3110: 0, 3111: 0, 3112: 0, 3113: 0, 3114: 0, 3115: 0, 3116: 0, 3117: 0, 3118: 0, 3119: 0.26666666666666666, 3120: 1.0, 3121: 0.16666666666666666, 3122: 0, 3123: 0, 3124: 0, 3125: 0.07142857142857142, 3126: 0.07816091954022988, 3127: 0, 3128: 0, 3129: 0, 3130: 0, 3131: 0.3333333333333333, 3132: 0, 3133: 0, 3134: 1.0, 3135: 0, 3136: 0, 3137: 0, 3138: 0.05555555555555555, 3139: 0, 3140: 0, 3141: 0, 3142: 0.2916666666666667, 3143: 0, 3144: 0, 3145: 0, 3146: 0.14035087719298245, 3147: 0.2761904761904762, 3148: 0.5, 3149: 0, 3150: 0, 3151: 0, 3152: 0.16666666666666666, 3153: 1.0, 3154: 0, 3155: 0, 3156: 0.3333333333333333, 3157: 1.0, 3158: 1.0, 3159: 1.0, 3160: 0, 3161: 0, 3162: 0.6666666666666666, 3163: 0, 3164: 0.6666666666666666, 3165: 0.3333333333333333, 3166: 0.26666666666666666, 3167: 0.13333333333333333, 3168: 0, 3169: 0, 3170: 0.09523809523809523, 3171: 1.0, 3172: 0.24444444444444444, 3173: 0.5, 3174: 0, 3175: 0.6, 3176: 0, 3177: 0, 3178: 0.47619047619047616, 3179: 0.2, 3180: 0.6666666666666666, 3181: 0.14285714285714285, 3182: 1.0, 3183: 1.0, 3184: 0.3333333333333333, 3185: 0, 3186: 0.26666666666666666, 3187: 0.1111111111111111, 3188: 0.059113300492610835, 3189: 0.16666666666666666, 3190: 0.5, 3191: 0.13333333333333333, 3192: 0, 3193: 0, 3194: 0.3333333333333333, 3195: 0, 3196: 0.10606060606060606, 3197: 1.0, 3198: 0.8333333333333334, 3199: 0.16666666666666666, 3200: 0, 3201: 0, 3202: 0.47619047619047616, 3203: 0, 3204: 0, 3205: 0, 3206: 0, 3207: 0.6666666666666666, 3208: 0.2727272727272727, 3209: 0.32967032967032966, 3210: 0.3333333333333333, 3211: 0.1, 3212: 0.10909090909090909, 3213: 0.23809523809523808, 3214: 0, 3215: 0.3333333333333333, 3216: 1.0, 3217: 1.0, 3218: 0.6666666666666666, 3219: 0.8333333333333334, 3220: 1.0, 3221: 0, 3222: 0.25, 3223: 0, 3224: 1.0, 3225: 0.16666666666666666, 3226: 0.6666666666666666, 3227: 0.2, 3228: 1.0, 3229: 0.26666666666666666, 3230: 0.6666666666666666, 3231: 0, 3232: 0.5, 3233: 0.5454545454545454, 3234: 0.18681318681318682, 3235: 0.7142857142857143, 3236: 0, 3237: 0, 3238: 1.0, 3239: 0.5, 3240: 0, 3241: 0, 3242: 0, 3243: 0.4642857142857143, 3244: 1.0, 3245: 0.6666666666666666, 3246: 0, 3247: 0.3333333333333333, 3248: 0.3333333333333333, 3249: 0, 3250: 0, 3251: 0, 3252: 0.2857142857142857, 3253: 0.4, 3254: 0.16666666666666666, 3255: 0, 3256: 0.6190476190476191, 3257: 0.3, 3258: 0, 3259: 0, 3260: 0, 3261: 0, 3262: 0, 3263: 0, 3264: 0, 3265: 0, 3266: 0, 3267: 0, 3268: 0, 3269: 0, 3270: 0, 3271: 0, 3272: 0, 3273: 1.0, 3274: 1.0, 3275: 0, 3276: 0.19047619047619047, 3277: 0, 3278: 0.3333333333333333, 3279: 0.14102564102564102, 3280: 0, 3281: 1.0, 3282: 0, 3283: 0.09523809523809523, 3284: 0, 3285: 1.0, 3286: 0, 3287: 0, 3288: 0, 3289: 0.3333333333333333, 3290: 0, 3291: 0.6, 3292: 0.3333333333333333, 3293: 0, 3294: 0, 3295: 0.8666666666666667, 3296: 0.8666666666666667, 3297: 1.0, 3298: 0, 3299: 0, 3300: 1.0, 3301: 0, 3302: 0, 3303: 0, 3304: 0, 3305: 0, 3306: 0, 3307: 0, 3308: 0, 3309: 0.15555555555555556, 3310: 0.1111111111111111, 3311: 0, 3312: 0.19310344827586207, 3313: 0.3333333333333333, 3314: 0, 3315: 0, 3316: 1.0, 3317: 0, 3318: 0, 3319: 1.0, 3320: 1.0, 3321: 0, 3322: 0, 3323: 0.4, 3324: 0, 3325: 0.3333333333333333, 3326: 0.3333333333333333, 3327: 0, 3328: 0, 3329: 1.0, 3330: 0, 3331: 0.42857142857142855, 3332: 0.4, 3333: 0.3333333333333333, 3334: 0.5357142857142857, 3335: 0.5333333333333333, 3336: 0.6, 3337: 0.7, 3338: 0.6666666666666666, 3339: 0, 3340: 0, 3341: 0, 3342: 0, 3343: 0.26666666666666666, 3344: 0.5, 3345: 0.5, 3346: 0.8333333333333334, 3347: 0.6, 3348: 0.6666666666666666, 3349: 0, 3350: 0.6190476190476191, 3351: 0, 3352: 0, 3353: 0, 3354: 0, 3355: 0, 3356: 0, 3357: 0, 3358: 0, 3359: 0, 3360: 0, 3361: 0, 3362: 0, 3363: 0, 3364: 0.6666666666666666, 3365: 0.39285714285714285, 3366: 0.12631578947368421, 3367: 0.16666666666666666, 3368: 0, 3369: 0, 3370: 0, 3371: 0, 3372: 0, 3373: 0.14285714285714285, 3374: 1.0, 3375: 1.0, 3376: 0.16666666666666666, 3377: 0, 3378: 0.16666666666666666, 3379: 0, 3380: 0.3333333333333333, 3381: 0, 3382: 0, 3383: 0, 3384: 0, 3385: 0, 3386: 0, 3387: 0, 3388: 0, 3389: 0.16666666666666666, 3390: 0.4, 3391: 0.6785714285714286, 3392: 0.5, 3393: 0.38181818181818183, 3394: 0, 3395: 0.13333333333333333, 3396: 0.3333333333333333, 3397: 0, 3398: 1.0, 3399: 0.5, 3400: 0, 3401: 0, 3402: 0.3333333333333333, 3403: 0.07142857142857142, 3404: 0, 3405: 0, 3406: 0, 3407: 0, 3408: 0, 3409: 0.3333333333333333, 3410: 0, 3411: 0, 3412: 0, 3413: 0, 3414: 0, 3415: 0, 3416: 0, 3417: 0, 3418: 0, 3419: 0, 3420: 0.6666666666666666, 3421: 0, 3422: 0, 3423: 0, 3424: 0, 3425: 0, 3426: 0.3333333333333333, 3427: 0, 3428: 0, 3429: 0.3333333333333333, 3430: 0, 3431: 0, 3432: 0, 3433: 0, 3434: 0.3333333333333333, 3435: 0.1, 3436: 0, 3437: 0, 3438: 0, 3439: 0, 3440: 0, 3441: 0, 3442: 0, 3443: 0.3333333333333333, 3444: 0.16666666666666666, 3445: 1.0, 3446: 0.2, 3447: 0, 3448: 0, 3449: 0, 3450: 0, 3451: 0, 3452: 0, 3453: 0, 3454: 0, 3455: 0.3333333333333333, 3456: 0, 3457: 0, 3458: 0, 3459: 0, 3460: 0.3333333333333333, 3461: 0, 3462: 0, 3463: 0.6666666666666666, 3464: 0, 3465: 0, 3466: 0, 3467: 0, 3468: 1.0, 3469: 0, 3470: 0, 3471: 0, 3472: 0, 3473: 0.2, 3474: 0, 3475: 0, 3476: 0, 3477: 0, 3478: 0.09090909090909091, 3479: 0.6666666666666666, 3480: 0, 3481: 0, 3482: 0.3333333333333333, 3483: 0.3333333333333333, 3484: 0, 3485: 1.0, 3486: 0.13157894736842105, 3487: 0.24444444444444444, 3488: 0.03188405797101449, 3489: 0.32142857142857145, 3490: 0.1388888888888889, 3491: 0.38095238095238093, 3492: 0.5151515151515151, 3493: 0.3076923076923077, 3494: 0.1, 3495: 0, 3496: 1.0, 3497: 0, 3498: 0, 3499: 0.17777777777777778, 3500: 1.0, 3501: 0, 3502: 0.25, 3503: 1.0, 3504: 0, 3505: 0, 3506: 0.3333333333333333, 3507: 0, 3508: 0.3333333333333333, 3509: 0, 3510: 1.0, 3511: 0, 3512: 0, 3513: 0.3333333333333333, 3514: 0, 3515: 0.13333333333333333, 3516: 0, 3517: 1.0, 3518: 0, 3519: 0, 3520: 0.3333333333333333, 3521: 0, 3522: 0, 3523: 0, 3524: 1.0, 3525: 0.2, 3526: 0, 3527: 0.06666666666666667, 3528: 0.23809523809523808, 3529: 0, 3530: 0.3333333333333333, 3531: 0, 3532: 0, 3533: 0, 3534: 0, 3535: 0.6666666666666666, 3536: 0.2, 3537: 0, 3538: 0.13333333333333333, 3539: 0, 3540: 0, 3541: 0, 3542: 0, 3543: 0, 3544: 1.0, 3545: 0, 3546: 0, 3547: 0, 3548: 0, 3549: 0, 3550: 0, 3551: 0, 3552: 0, 3553: 0, 3554: 0, 3555: 0.3333333333333333, 3556: 0, 3557: 0, 3558: 0, 3559: 0, 3560: 1.0, 3561: 0, 3562: 0.3333333333333333, 3563: 0, 3564: 0, 3565: 0, 3566: 0, 3567: 0.26666666666666666, 3568: 0, 3569: 0, 3570: 0, 3571: 0.3333333333333333, 3572: 0, 3573: 0, 3574: 0, 3575: 0, 3576: 0, 3577: 0, 3578: 0.07142857142857142, 3579: 0.3333333333333333, 3580: 0, 3581: 0.06666666666666667, 3582: 0, 3583: 0, 3584: 0.3333333333333333, 3585: 1.0, 3586: 0, 3587: 0, 3588: 0, 3589: 0.16666666666666666, 3590: 0, 3591: 0, 3592: 1.0, 3593: 1.0, 3594: 0, 3595: 0.3333333333333333, 3596: 0, 3597: 0, 3598: 0, 3599: 0, 3600: 1.0, 3601: 0.7333333333333333, 3602: 0.6666666666666666, 3603: 0.8333333333333334, 3604: 0, 3605: 0.8333333333333334, 3606: 0.21428571428571427, 3607: 0, 3608: 0, 3609: 0.13333333333333333, 3610: 0.6666666666666666, 3611: 1.0, 3612: 0, 3613: 0, 3614: 0.6666666666666666, 3615: 0.21818181818181817, 3616: 0, 3617: 0.7142857142857143, 3618: 1.0, 3619: 0.23809523809523808, 3620: 1.0, 3621: 1.0, 3622: 0.9, 3623: 0, 3624: 0, 3625: 0, 3626: 1.0, 3627: 0, 3628: 0, 3629: 0, 3630: 0.3333333333333333, 3631: 0, 3632: 0.16666666666666666, 3633: 0, 3634: 0, 3635: 0, 3636: 0, 3637: 1.0, 3638: 1.0, 3639: 0.16483516483516483, 3640: 0.5333333333333333, 3641: 0.8, 3642: 0.3939393939393939, 3643: 0.8, 3644: 0.6190476190476191, 3645: 1.0, 3646: 1.0, 3647: 1.0, 3648: 1.0, 3649: 0.47619047619047616, 3650: 1.0, 3651: 1.0, 3652: 1.0, 3653: 0.5, 3654: 1.0, 3655: 1.0, 3656: 1.0, 3657: 0.7333333333333333, 3658: 0.8, 3659: 0.41818181818181815, 3660: 0, 3661: 0, 3662: 0.9, 3663: 0.7, 3664: 0.4666666666666667, 3665: 1.0, 3666: 1.0, 3667: 0.3333333333333333, 3668: 0.3333333333333333, 3669: 0.6666666666666666, 3670: 1.0, 3671: 0.13333333333333333, 3672: 0.8333333333333334, 3673: 0.7333333333333333, 3674: 0, 3675: 1.0, 3676: 0.75, 3677: 0, 3678: 0, 3679: 0.6, 3680: 0.4090909090909091, 3681: 0.5, 3682: 0.3333333333333333, 3683: 0.3333333333333333, 3684: 0, 3685: 0.3333333333333333, 3686: 0, 3687: 0, 3688: 1.0, 3689: 0, 3690: 0, 3691: 0.6666666666666666, 3692: 1.0, 3693: 0, 3694: 0, 3695: 0.4222222222222222, 3696: 0, 3697: 0.7, 3698: 1.0, 3699: 0, 3700: 1.0, 3701: 0.5, 3702: 0.6666666666666666, 3703: 1.0, 3704: 0, 3705: 0, 3706: 0, 3707: 0, 3708: 0, 3709: 0, 3710: 0, 3711: 0, 3712: 0.16666666666666666, 3713: 0.2, 3714: 0, 3715: 0.3, 3716: 0, 3717: 0, 3718: 0.21578947368421053, 3719: 0.22058823529411764, 3720: 0.5194805194805194, 3721: 0.3333333333333333, 3722: 0.23157894736842105, 3723: 0.6, 3724: 1.0, 3725: 1.0, 3726: 0.27205882352941174, 3727: 0.18181818181818182, 3728: 0.3, 3729: 1.0, 3730: 1.0, 3731: 1.0, 3732: 1.0, 3733: 0.5, 3734: 1.0, 3735: 0.6666666666666666, 3736: 0, 3737: 0.3333333333333333, 3738: 0, 3739: 0.2857142857142857, 3740: 0, 3741: 0, 3742: 0.13333333333333333, 3743: 0.1388888888888889, 3744: 0, 3745: 0.1, 3746: 1.0, 3747: 0.6666666666666666, 3748: 1.0, 3749: 0.8333333333333334, 3750: 1.0, 3751: 0.6666666666666666, 3752: 0.20075757575757575, 3753: 0.4, 3754: 0, 3755: 1.0, 3756: 0.4666666666666667, 3757: 0.5, 3758: 0, 3759: 0.6666666666666666, 3760: 0.6666666666666666, 3761: 0.5, 3762: 0, 3763: 0.42857142857142855, 3764: 0.16996047430830039, 3765: 0.21212121212121213, 3766: 0.4, 3767: 0, 3768: 0, 3769: 0, 3770: 0, 3771: 0, 3772: 0, 3773: 0, 3774: 0, 3775: 0, 3776: 0, 3777: 0.5, 3778: 0, 3779: 1.0, 3780: 0, 3781: 0, 3782: 0, 3783: 0, 3784: 0, 3785: 0, 3786: 0, 3787: 0, 3788: 0, 3789: 0, 3790: 0, 3791: 0, 3792: 0.13333333333333333, 3793: 0, 3794: 0, 3795: 0, 3796: 0.32142857142857145, 3797: 0.03171247357293869, 3798: 0.26666666666666666, 3799: 0, 3800: 0, 3801: 0, 3802: 1.0, 3803: 1.0, 3804: 1.0, 3805: 0, 3806: 1.0, 3807: 0, 3808: 0, 3809: 0, 3810: 0, 3811: 0, 3812: 0, 3813: 0.05555555555555555, 3814: 0, 3815: 0, 3816: 0.2, 3817: 0.21666666666666667, 3818: 0, 3819: 0.2857142857142857, 3820: 0, 3821: 0, 3822: 0, 3823: 0, 3824: 0, 3825: 0.3333333333333333, 3826: 0, 3827: 0, 3828: 0, 3829: 0, 3830: 1.0, 3831: 0, 3832: 1.0, 3833: 0, 3834: 0.3333333333333333, 3835: 0, 3836: 0, 3837: 1.0, 3838: 0.6666666666666666, 3839: 0.7, 3840: 0, 3841: 0, 3842: 1.0, 3843: 0, 3844: 0.19047619047619047, 3845: 0, 3846: 0, 3847: 0, 3848: 1.0, 3849: 0, 3850: 0.6, 3851: 1.0, 3852: 0.3, 3853: 1.0, 3854: 0, 3855: 0.6, 3856: 0, 3857: 0, 3858: 0.6, 3859: 0, 3860: 0, 3861: 1.0, 3862: 0.3333333333333333, 3863: 0, 3864: 0, 3865: 0, 3866: 0, 3867: 0.4666666666666667, 3868: 0, 3869: 0, 3870: 0, 3871: 0.2, 3872: 1.0, 3873: 1.0, 3874: 0, 3875: 0, 3876: 0, 3877: 0, 3878: 0, 3879: 0, 3880: 0, 3881: 1.0, 3882: 0, 3883: 0, 3884: 0.6666666666666666, 3885: 0, 3886: 0, 3887: 0.3333333333333333, 3888: 0.4666666666666667, 3889: 1.0, 3890: 0, 3891: 1.0, 3892: 1.0, 3893: 0.3333333333333333, 3894: 0.07386363636363637, 3895: 0, 3896: 0, 3897: 1.0, 3898: 0, 3899: 0.6666666666666666, 3900: 0.10476190476190476, 3901: 0.16666666666666666, 3902: 0.5238095238095238, 3903: 0, 3904: 0, 3905: 0.06666666666666667, 3906: 1.0, 3907: 0.3333333333333333, 3908: 0, 3909: 0, 3910: 0.4, 3911: 0.10294117647058823, 3912: 0, 3913: 0.3333333333333333, 3914: 1.0, 3915: 0, 3916: 0, 3917: 0.3333333333333333, 3918: 0, 3919: 0.3333333333333333, 3920: 0, 3921: 0.10804597701149425, 3922: 0, 3923: 0, 3924: 1.0, 3925: 0, 3926: 0, 3927: 0.2, 3928: 1.0, 3929: 0.42857142857142855, 3930: 0.5, 3931: 0.5777777777777777, 3932: 0.5454545454545454, 3933: 0.6388888888888888, 3934: 0.6388888888888888, 3935: 0.5714285714285714, 3936: 0.26666666666666666, 3937: 1.0, 3938: 0, 3939: 0, 3940: 0, 3941: 0, 3942: 0, 3943: 0, 3944: 0, 3945: 0, 3946: 0, 3947: 0, 3948: 0, 3949: 0.10714285714285714, 3950: 0.0064516129032258064, 3951: 0, 3952: 0, 3953: 0, 3954: 0, 3955: 0.3333333333333333, 3956: 0.09523809523809523, 3957: 0, 3958: 0.3, 3959: 0, 3960: 0, 3961: 0, 3962: 1.0, 3963: 0, 3964: 0.6666666666666666, 3965: 1.0, 3966: 0, 3967: 0, 3968: 0, 3969: 0.2, 3970: 0.3, 3971: 0, 3972: 0.02197802197802198, 3973: 1.0, 3974: 0, 3975: 0, 3976: 0.22795698924731184, 3977: 0.21149425287356322, 3978: 0.23655913978494625, 3979: 0.24242424242424243, 3980: 0.24242424242424243, 3981: 0.24242424242424243, 3982: 0.24621212121212122, 3983: 0.24242424242424243, 3984: 0.24621212121212122, 3985: 0.2798573975044563, 3986: 0, 3987: 0, 3988: 0, 3989: 0.16666666666666666, 3990: 0, 3991: 0, 3992: 0, 3993: 0, 3994: 0, 3995: 0, 3996: 0, 3997: 0, 3998: 0, 3999: 0, 4000: 0, 4001: 0, 4002: 0.19047619047619047, 4003: 1.0, 4004: 0, 4005: 0, 4006: 0.6666666666666666, 4007: 0.3333333333333333, 4008: 0, 4009: 0, 4010: 0, 4011: 0, 4012: 0, 4013: 0.5, 4014: 0, 4015: 0, 4016: 0, 4017: 0, 4018: 0, 4019: 0.3333333333333333, 4020: 0.26666666666666666, 4021: 1.0, 4022: 0, 4023: 0, 4024: 0.5, 4025: 0, 4026: 0, 4027: 0, 4028: 0, 4029: 0, 4030: 0, 4031: 0.3333333333333333, 4032: 0.6666666666666666, 4033: 0.2, 4034: 0.3333333333333333, 4035: 0, 4036: 0, 4037: 1.0, 4038: 0, 4039: 0.6, 4040: 0, 4041: 0.39285714285714285, 4042: 1.0, 4043: 1.0, 4044: 0.6190476190476191, 4045: 0, 4046: 0.17777777777777778, 4047: 0, 4048: 0, 4049: 0.6666666666666666, 4050: 1.0, 4051: 0.26666666666666666, 4052: 1.0, 4053: 0.03571428571428571, 4054: 0, 4055: 0.16666666666666666, 4056: 0, 4057: 0.3, 4058: 0.3333333333333333, 4059: 0, 4060: 0, 4061: 0, 4062: 0, 4063: 1.0, 4064: 1.0, 4065: 0, 4066: 0.3333333333333333, 4067: 0.6666666666666666, 4068: 0.4666666666666667, 4069: 0, 4070: 0.6666666666666666, 4071: 1.0, 4072: 0.8333333333333334, 4073: 0.6666666666666666, 4074: 0.6666666666666666, 4075: 0, 4076: 0, 4077: 0.42857142857142855, 4078: 0.6666666666666666, 4079: 1.0, 4080: 0, 4081: 0.6666666666666666, 4082: 0.3333333333333333, 4083: 0.35714285714285715, 4084: 0.3333333333333333, 4085: 0, 4086: 0, 4087: 0, 4088: 0, 4089: 0, 4090: 0, 4091: 0, 4092: 0, 4093: 0, 4094: 0, 4095: 1.0, 4096: 0, 4097: 0, 4098: 0, 4099: 1.0, 4100: 0, 4101: 0, 4102: 0, 4103: 0, 4104: 0, 4105: 0, 4106: 0, 4107: 0, 4108: 0, 4109: 1.0, 4110: 0.3333333333333333, 4111: 1.0, 4112: 0, 4113: 0, 4114: 1.0, 4115: 0, 4116: 0.17857142857142858, 4117: 0.16666666666666666, 4118: 0, 4119: 0.047619047619047616, 4120: 0, 4121: 0.6666666666666666, 4122: 0.1, 4123: 0, 4124: 1.0, 4125: 0.3333333333333333, 4126: 0, 4127: 0, 4128: 0.16666666666666666, 4129: 0, 4130: 0, 4131: 0, 4132: 0, 4133: 0, 4134: 1.0, 4135: 0, 4136: 0, 4137: 0, 4138: 0.0915032679738562, 4139: 0, 4140: 0, 4141: 0, 4142: 0, 4143: 0, 4144: 1.0, 4145: 0, 4146: 0, 4147: 0, 4148: 0, 4149: 0.2222222222222222, 4150: 0, 4151: 0.26666666666666666, 4152: 0.8333333333333334, 4153: 0, 4154: 1.0, 4155: 0.5, 4156: 0, 4157: 1.0, 4158: 0.25, 4159: 0.1, 4160: 0, 4161: 1.0, 4162: 0, 4163: 0, 4164: 0, 4165: 0, 4166: 0, 4167: 0.2, 4168: 1.0, 4169: 1.0, 4170: 0, 4171: 0.4, 4172: 1.0, 4173: 0.6666666666666666, 4174: 1.0, 4175: 0, 4176: 0.3333333333333333, 4177: 0, 4178: 0.3333333333333333, 4179: 0.3333333333333333, 4180: 0, 4181: 0, 4182: 0.26666666666666666, 4183: 1.0, 4184: 1.0, 4185: 0.16666666666666666, 4186: 0.3956043956043956, 4187: 0.36363636363636365, 4188: 0.3333333333333333, 4189: 0.16666666666666666, 4190: 0, 4191: 0.3333333333333333, 4192: 0.3333333333333333, 4193: 1.0, 4194: 1.0, 4195: 1.0, 4196: 0.13333333333333333, 4197: 0.4, 4198: 0, 4199: 0.5, 4200: 0, 4201: 0, 4202: 0, 4203: 0, 4204: 0, 4205: 0, 4206: 0, 4207: 0.14285714285714285, 4208: 1.0, 4209: 0.6666666666666666, 4210: 0.2, 4211: 0, 4212: 0, 4213: 1.0, 4214: 1.0, 4215: 0.509090909090909, 4216: 1.0, 4217: 1.0, 4218: 1.0, 4219: 1.0, 4220: 1.0, 4221: 1.0, 4222: 0, 4223: 0, 4224: 0, 4225: 0, 4226: 0, 4227: 0, 4228: 0, 4229: 0, 4230: 0, 4231: 0, 4232: 0, 4233: 0, 4234: 0, 4235: 0, 4236: 0, 4237: 0, 4238: 0, 4239: 0, 4240: 0, 4241: 0, 4242: 0, 4243: 0, 4244: 0, 4245: 0, 4246: 0, 4247: 0, 4248: 0, 4249: 0, 4250: 0, 4251: 0, 4252: 0, 4253: 0, 4254: 1.0, 4255: 0.16666666666666666, 4256: 0, 4257: 0, 4258: 0, 4259: 0, 4260: 0, 4261: 0, 4262: 0, 4263: 0, 4264: 0, 4265: 0, 4266: 0.4166666666666667, 4267: 0, 4268: 0, 4269: 0.3333333333333333, 4270: 0.5, 4271: 0.5, 4272: 0.6666666666666666, 4273: 0, 4274: 0, 4275: 0, 4276: 0, 4277: 0, 4278: 0, 4279: 0, 4280: 0, 4281: 0, 4282: 0, 4283: 0, 4284: 0, 4285: 0, 4286: 0, 4287: 0.1111111111111111, 4288: 0, 4289: 0, 4290: 0, 4291: 0, 4292: 0, 4293: 0, 4294: 0, 4295: 0, 4296: 0, 4297: 0, 4298: 0, 4299: 0, 4300: 0, 4301: 0, 4302: 0, 4303: 0, 4304: 0, 4305: 0, 4306: 0, 4307: 0, 4308: 0, 4309: 0, 4310: 1.0, 4311: 0, 4312: 0, 4313: 0, 4314: 0, 4315: 0, 4316: 0, 4317: 0, 4318: 0, 4319: 0, 4320: 0, 4321: 0, 4322: 0, 4323: 0, 4324: 0, 4325: 0, 4326: 0, 4327: 0, 4328: 0, 4329: 0, 4330: 0, 4331: 0, 4332: 0, 4333: 0, 4334: 0, 4335: 0, 4336: 0, 4337: 0, 4338: 0, 4339: 0, 4340: 0, 4341: 0, 4342: 0, 4343: 0, 4344: 0, 4345: 0, 4346: 0, 4347: 0.6666666666666666, 4348: 0, 4349: 0, 4350: 0, 4351: 0.26666666666666666, 4352: 0, 4353: 0, 4354: 0, 4355: 0, 4356: 0, 4357: 1.0, 4358: 1.0, 4359: 0, 4360: 0, 4361: 0, 4362: 0.027777777777777776, 4363: 0, 4364: 0, 4365: 0.10714285714285714, 4366: 0, 4367: 0, 4368: 0, 4369: 0, 4370: 1.0, 4371: 0, 4372: 0, 4373: 0, 4374: 0, 4375: 0, 4376: 0.09090909090909091, 4377: 0.38095238095238093, 4378: 0, 4379: 1.0, 4380: 0, 4381: 0, 4382: 0.3333333333333333, 4383: 0, 4384: 0, 4385: 0.06666666666666667, 4386: 0.2222222222222222, 4387: 0, 4388: 0, 4389: 0, 4390: 0.16666666666666666, 4391: 0, 4392: 0, 4393: 0, 4394: 0, 4395: 0, 4396: 0, 4397: 0, 4398: 0, 4399: 0, 4400: 0, 4401: 0, 4402: 0, 4403: 0, 4404: 0, 4405: 0.6666666666666666, 4406: 0.3333333333333333, 4407: 0, 4408: 0, 4409: 0, 4410: 0, 4411: 0.3333333333333333, 4412: 0, 4413: 0.3333333333333333, 4414: 0.3333333333333333, 4415: 0.3333333333333333, 4416: 0.3333333333333333, 4417: 0.3333333333333333, 4418: 0.3333333333333333, 4419: 1.0, 4420: 0, 4421: 0, 4422: 0, 4423: 0, 4424: 0, 4425: 0, 4426: 0.3333333333333333, 4427: 0, 4428: 0, 4429: 0.28888888888888886, 4430: 0.6666666666666666, 4431: 0.6666666666666666, 4432: 1.0, 4433: 0.4642857142857143, 4434: 0.6666666666666666, 4435: 0.6666666666666666, 4436: 0.7, 4437: 0.8333333333333334, 4438: 0.6666666666666666, 4439: 0.4666666666666667, 4440: 0.6666666666666666, 4441: 0.6666666666666666, 4442: 0.6666666666666666, 4443: 0, 4444: 0, 4445: 0, 4446: 1.0, 4447: 0, 4448: 0, 4449: 0.16666666666666666, 4450: 0, 4451: 1.0, 4452: 0, 4453: 0, 4454: 0, 4455: 0, 4456: 0, 4457: 0, 4458: 0, 4459: 0, 4460: 0.3333333333333333, 4461: 0, 4462: 0, 4463: 1.0, 4464: 0, 4465: 0, 4466: 0, 4467: 0.6666666666666666, 4468: 0.3333333333333333, 4469: 0, 4470: 0, 4471: 0, 4472: 0, 4473: 0.9, 4474: 0, 4475: 0, 4476: 1.0, 4477: 0, 4478: 0, 4479: 0.5, 4480: 1.0, 4481: 0, 4482: 0.13333333333333333, 4483: 0, 4484: 0.13333333333333333, 4485: 0, 4486: 0.6666666666666666, 4487: 0.09523809523809523, 4488: 0.2, 4489: 0.3333333333333333, 4490: 0.23809523809523808, 4491: 1.0, 4492: 0, 4493: 0.6666666666666666, 4494: 0.5, 4495: 0, 4496: 0, 4497: 0, 4498: 0, 4499: 0, 4500: 0, 4501: 0, 4502: 0, 4503: 0, 4504: 1.0, 4505: 0.2, 4506: 0.25757575757575757, 4507: 0.16666666666666666, 4508: 0, 4509: 0, 4510: 0, 4511: 0, 4512: 0, 4513: 0.6666666666666666, 4514: 0.4, 4515: 1.0, 4516: 0, 4517: 0, 4518: 0, 4519: 0, 4520: 0, 4521: 0.1, 4522: 1.0, 4523: 0, 4524: 0.09523809523809523, 4525: 0.26666666666666666, 4526: 0.3611111111111111, 4527: 0, 4528: 0.6, 4529: 0, 4530: 0, 4531: 0, 4532: 0, 4533: 0, 4534: 0, 4535: 0.06060606060606061, 4536: 0, 4537: 0, 4538: 0, 4539: 0.3, 4540: 0, 4541: 0.16666666666666666, 4542: 0.3, 4543: 0, 4544: 0, 4545: 0, 4546: 0, 4547: 0, 4548: 0, 4549: 0, 4550: 0, 4551: 0.13333333333333333, 4552: 0.3333333333333333, 4553: 0, 4554: 0, 4555: 0.42857142857142855, 4556: 0, 4557: 0, 4558: 0, 4559: 0.5333333333333333, 4560: 0.6666666666666666, 4561: 1.0, 4562: 0.6666666666666666, 4563: 0.6666666666666666, 4564: 0.6666666666666666, 4565: 1.0, 4566: 0, 4567: 0, 4568: 0, 4569: 1.0, 4570: 0, 4571: 0, 4572: 0, 4573: 0.6666666666666666, 4574: 0, 4575: 0, 4576: 0, 4577: 0.3333333333333333, 4578: 0, 4579: 0, 4580: 0, 4581: 0, 4582: 1.0, 4583: 0, 4584: 0, 4585: 0, 4586: 0.3333333333333333, 4587: 0, 4588: 0.2, 4589: 0, 4590: 0.3, 4591: 0, 4592: 0, 4593: 1.0, 4594: 1.0, 4595: 0.4, 4596: 0, 4597: 0.3333333333333333, 4598: 1.0, 4599: 0, 4600: 1.0, 4601: 0.23076923076923078, 4602: 0.6666666666666666, 4603: 0.2, 4604: 1.0, 4605: 0.16666666666666666, 4606: 1.0, 4607: 0, 4608: 0.3333333333333333, 4609: 0.5, 4610: 0, 4611: 0.6666666666666666, 4612: 0.6666666666666666, 4613: 0.3333333333333333, 4614: 0.16666666666666666, 4615: 0, 4616: 0, 4617: 0, 4618: 1.0, 4619: 0, 4620: 0.3333333333333333, 4621: 1.0, 4622: 0.6666666666666666, 4623: 0.6666666666666666, 4624: 0.2, 4625: 0.24444444444444444, 4626: 0, 4627: 1.0, 4628: 0, 4629: 0, 4630: 0.3181818181818182, 4631: 0, 4632: 0, 4633: 0.16666666666666666, 4634: 1.0, 4635: 0, 4636: 0.3333333333333333, 4637: 0.23529411764705882, 4638: 0.5, 4639: 0, 4640: 1.0, 4641: 0.5, 4642: 0, 4643: 0, 4644: 1.0, 4645: 0, 4646: 0, 4647: 0, 4648: 1.0, 4649: 0, 4650: 0, 4651: 0, 4652: 0, 4653: 0, 4654: 0, 4655: 1.0, 4656: 1.0, 4657: 0, 4658: 0, 4659: 0, 4660: 1.0, 4661: 0.5, 4662: 0.3333333333333333, 4663: 0.10714285714285714, 4664: 0, 4665: 0, 4666: 0, 4667: 0.13333333333333333, 4668: 0, 4669: 0, 4670: 0, 4671: 0, 4672: 0, 4673: 0, 4674: 0, 4675: 0, 4676: 0.13333333333333333, 4677: 0.6666666666666666, 4678: 0, 4679: 0.2, 4680: 0, 4681: 0, 4682: 0, 4683: 0, 4684: 0, 4685: 0.13333333333333333, 4686: 0, 4687: 0.3333333333333333, 4688: 0, 4689: 0, 4690: 0.6666666666666666, 4691: 0.3, 4692: 0.6666666666666666, 4693: 0.3333333333333333, 4694: 0.3333333333333333, 4695: 1.0, 4696: 0, 4697: 1.0, 4698: 0, 4699: 0, 4700: 0, 4701: 0, 4702: 0, 4703: 0, 4704: 0, 4705: 0, 4706: 0, 4707: 0, 4708: 0, 4709: 1.0, 4710: 0, 4711: 0, 4712: 0, 4713: 0, 4714: 0, 4715: 0, 4716: 0, 4717: 0, 4718: 1.0, 4719: 0.6666666666666666, 4720: 0, 4721: 0, 4722: 0, 4723: 0, 4724: 0.6666666666666666, 4725: 0, 4726: 1.0, 4727: 0.6666666666666666, 4728: 0, 4729: 0, 4730: 0, 4731: 0.6666666666666666, 4732: 0, 4733: 1.0, 4734: 0, 4735: 0.047619047619047616, 4736: 1.0, 4737: 0, 4738: 0, 4739: 0.3333333333333333, 4740: 0, 4741: 0.3333333333333333, 4742: 0.6666666666666666, 4743: 1.0, 4744: 0, 4745: 0, 4746: 0, 4747: 0, 4748: 1.0, 4749: 0, 4750: 1.0, 4751: 0, 4752: 1.0, 4753: 1.0, 4754: 0, 4755: 0, 4756: 0, 4757: 0, 4758: 0, 4759: 1.0, 4760: 0, 4761: 0.1, 4762: 0, 4763: 0, 4764: 0, 4765: 0, 4766: 0, 4767: 0, 4768: 0.3333333333333333, 4769: 0, 4770: 0, 4771: 0.3333333333333333, 4772: 0, 4773: 0, 4774: 0, 4775: 1.0, 4776: 1.0, 4777: 0.3333333333333333, 4778: 0.16666666666666666, 4779: 0, 4780: 0, 4781: 0, 4782: 0.9333333333333333, 4783: 0.3333333333333333, 4784: 1.0, 4785: 0, 4786: 0.3333333333333333, 4787: 0, 4788: 0, 4789: 0, 4790: 0, 4791: 0, 4792: 0.3333333333333333, 4793: 0, 4794: 0, 4795: 0, 4796: 0, 4797: 0, 4798: 1.0, 4799: 0, 4800: 0, 4801: 0.16666666666666666, 4802: 0, 4803: 0.3333333333333333, 4804: 0, 4805: 0, 4806: 0, 4807: 0, 4808: 0, 4809: 0.7, 4810: 1.0, 4811: 0, 4812: 0, 4813: 0, 4814: 0, 4815: 0.3333333333333333, 4816: 0.047619047619047616, 4817: 0, 4818: 0, 4819: 0, 4820: 0.6666666666666666, 4821: 0, 4822: 0, 4823: 0, 4824: 0, 4825: 1.0, 4826: 0, 4827: 0, 4828: 0, 4829: 0, 4830: 0, 4831: 0, 4832: 0, 4833: 0, 4834: 0, 4835: 0, 4836: 0, 4837: 0, 4838: 0, 4839: 0.13636363636363635, 4840: 0, 4841: 0, 4842: 0, 4843: 0, 4844: 0, 4845: 0, 4846: 0.4666666666666667, 4847: 0, 4848: 0, 4849: 0, 4850: 0, 4851: 0, 4852: 0, 4853: 0, 4854: 0, 4855: 0, 4856: 0, 4857: 0, 4858: 0, 4859: 0, 4860: 0, 4861: 0.21818181818181817, 4862: 0, 4863: 0, 4864: 0, 4865: 0.3, 4866: 0, 4867: 0.3333333333333333, 4868: 0, 4869: 0, 4870: 0, 4871: 0, 4872: 0, 4873: 0, 4874: 0, 4875: 0, 4876: 0, 4877: 0, 4878: 0, 4879: 0, 4880: 0, 4881: 0, 4882: 0, 4883: 0, 4884: 0, 4885: 0, 4886: 0, 4887: 0, 4888: 0, 4889: 0, 4890: 0.16666666666666666, 4891: 1.0, 4892: 0, 4893: 0, 4894: 0, 4895: 0.1, 4896: 0, 4897: 0.3333333333333333, 4898: 0, 4899: 0, 4900: 0, 4901: 0, 4902: 0.3333333333333333, 4903: 0, 4904: 0, 4905: 0.3333333333333333, 4906: 0, 4907: 0, 4908: 0, 4909: 0, 4910: 0, 4911: 0, 4912: 0.21428571428571427, 4913: 0, 4914: 0, 4915: 0, 4916: 0, 4917: 0, 4918: 0, 4919: 1.0, 4920: 1.0, 4921: 1.0, 4922: 1.0, 4923: 1.0, 4924: 0, 4925: 0, 4926: 0, 4927: 0, 4928: 0, 4929: 0.14285714285714285, 4930: 0, 4931: 0, 4932: 0, 4933: 0, 4934: 0, 4935: 0, 4936: 0, 4937: 0, 4938: 0, 4939: 0, 4940: 0.3333333333333333, 4941: 0, 4942: 0, 4943: 0, 4944: 0.3333333333333333, 4945: 0, 4946: 0, 4947: 0.3, 4948: 0.3333333333333333, 4949: 0, 4950: 0, 4951: 0, 4952: 0.4, 4953: 0.3333333333333333, 4954: 0.06666666666666667, 4955: 0, 4956: 0.09523809523809523, 4957: 0, 4958: 0, 4959: 1.0, 4960: 0.2, 4961: 0, 4962: 1.0, 4963: 0, 4964: 0, 4965: 1.0, 4966: 0, 4967: 0, 4968: 0, 4969: 0.3333333333333333, 4970: 0, 4971: 0, 4972: 0.19444444444444445, 4973: 0, 4974: 0, 4975: 0, 4976: 0.16666666666666666, 4977: 0.16666666666666666, 4978: 0.6666666666666666, 4979: 0, 4980: 0.16666666666666666, 4981: 0, 4982: 0, 4983: 0, 4984: 0, 4985: 0, 4986: 0, 4987: 0, 4988: 0, 4989: 0, 4990: 0, 4991: 0, 4992: 0, 4993: 0, 4994: 0, 4995: 0, 4996: 0, 4997: 0, 4998: 0, 4999: 0, 5000: 0, 5001: 0, 5002: 0, 5003: 0, 5004: 0, 5005: 0, 5006: 0, 5007: 0.16666666666666666, 5008: 1.0, 5009: 0.3333333333333333, 5010: 0.19444444444444445, 5011: 1.0, 5012: 0, 5013: 0, 5014: 0.6666666666666666, 5015: 0, 5016: 0.35714285714285715, 5017: 0.3333333333333333, 5018: 1.0, 5019: 0, 5020: 0, 5021: 0, 5022: 0, 5023: 0.2857142857142857, 5024: 0, 5025: 0, 5026: 0, 5027: 0, 5028: 0, 5029: 0, 5030: 0, 5031: 0, 5032: 0, 5033: 0, 5034: 1.0, 5035: 0, 5036: 1.0, 5037: 0, 5038: 0, 5039: 0, 5040: 0, 5041: 0, 5042: 0, 5043: 0, 5044: 0, 5045: 0, 5046: 0, 5047: 0, 5048: 0, 5049: 0, 5050: 0, 5051: 0, 5052: 0, 5053: 0, 5054: 0, 5055: 0, 5056: 0, 5057: 0, 5058: 0, 5059: 0, 5060: 0, 5061: 0, 5062: 0, 5063: 0, 5064: 0, 5065: 0, 5066: 0.13333333333333333, 5067: 0, 5068: 0, 5069: 0, 5070: 0, 5071: 0, 5072: 0, 5073: 0, 5074: 0, 5075: 0, 5076: 0, 5077: 0, 5078: 0, 5079: 0, 5080: 0, 5081: 0, 5082: 0, 5083: 0, 5084: 0, 5085: 0, 5086: 0, 5087: 0, 5088: 0.3333333333333333, 5089: 0.2222222222222222, 5090: 0.02564102564102564, 5091: 0, 5092: 0, 5093: 0, 5094: 0, 5095: 0, 5096: 0, 5097: 0, 5098: 0, 5099: 0, 5100: 1.0, 5101: 0, 5102: 0, 5103: 1.0, 5104: 0.09523809523809523, 5105: 0, 5106: 0, 5107: 0, 5108: 0, 5109: 0, 5110: 0, 5111: 0.07692307692307693, 5112: 0, 5113: 0.3333333333333333, 5114: 0, 5115: 0, 5116: 0.16666666666666666, 5117: 0, 5118: 0, 5119: 0.6666666666666666, 5120: 0, 5121: 0, 5122: 0, 5123: 0, 5124: 0.10909090909090909, 5125: 0.3333333333333333, 5126: 0, 5127: 0, 5128: 1.0, 5129: 0, 5130: 0.3333333333333333, 5131: 0, 5132: 0, 5133: 0.5, 5134: 1.0, 5135: 0.16666666666666666, 5136: 0.3, 5137: 1.0, 5138: 0, 5139: 0, 5140: 0, 5141: 0, 5142: 0, 5143: 0.3333333333333333, 5144: 0, 5145: 0.2, 5146: 0, 5147: 0, 5148: 0, 5149: 0, 5150: 0.6, 5151: 0.6, 5152: 1.0, 5153: 0.8095238095238095, 5154: 0, 5155: 0, 5156: 0, 5157: 0, 5158: 0, 5159: 0, 5160: 0.3333333333333333, 5161: 0.3333333333333333, 5162: 0, 5163: 0, 5164: 0, 5165: 0, 5166: 0, 5167: 0, 5168: 0.6666666666666666, 5169: 0.1, 5170: 0.9, 5171: 0, 5172: 0, 5173: 0, 5174: 0.5, 5175: 1.0, 5176: 1.0, 5177: 0.06666666666666667, 5178: 0.1, 5179: 0, 5180: 0.3333333333333333, 5181: 0.2, 5182: 0.16666666666666666, 5183: 0, 5184: 0, 5185: 0, 5186: 0, 5187: 0.19047619047619047, 5188: 0, 5189: 0, 5190: 0, 5191: 0, 5192: 0, 5193: 0, 5194: 0.5, 5195: 0, 5196: 0, 5197: 0, 5198: 0, 5199: 0, 5200: 0, 5201: 0, 5202: 1.0, 5203: 0, 5204: 0, 5205: 0, 5206: 0, 5207: 0.13333333333333333, 5208: 0, 5209: 0.1, 5210: 0.6, 5211: 0.6666666666666666, 5212: 1.0, 5213: 0, 5214: 0, 5215: 0, 5216: 0, 5217: 0, 5218: 0, 5219: 0, 5220: 0, 5221: 0, 5222: 0, 5223: 0, 5224: 0, 5225: 0, 5226: 0, 5227: 0, 5228: 1.0, 5229: 0, 5230: 0, 5231: 0, 5232: 0, 5233: 0, 5234: 1.0, 5235: 0, 5236: 0, 5237: 1.0, 5238: 0, 5239: 1.0, 5240: 0, 5241: 0, 5242: 0.3333333333333333, 5243: 0, 5244: 0, 5245: 0, 5246: 0, 5247: 0, 5248: 0, 5249: 0, 5250: 0, 5251: 1.0, 5252: 0, 5253: 0, 5254: 0.3333333333333333, 5255: 0, 5256: 0, 5257: 0, 5258: 0, 5259: 0, 5260: 1.0, 5261: 0.5333333333333333, 5262: 0.5, 5263: 1.0, 5264: 0, 5265: 1.0, 5266: 1.0, 5267: 1.0, 5268: 0.6666666666666666, 5269: 0, 5270: 1.0, 5271: 0, 5272: 0, 5273: 0, 5274: 0, 5275: 0, 5276: 0, 5277: 0, 5278: 0, 5279: 0, 5280: 0, 5281: 1.0, 5282: 0, 5283: 0, 5284: 0, 5285: 0, 5286: 0, 5287: 0, 5288: 0, 5289: 0, 5290: 0, 5291: 0, 5292: 0, 5293: 0, 5294: 0.3333333333333333, 5295: 1.0, 5296: 0, 5297: 0, 5298: 0, 5299: 0, 5300: 0, 5301: 0, 5302: 0.09523809523809523, 5303: 0, 5304: 0, 5305: 0, 5306: 0, 5307: 0, 5308: 0, 5309: 0, 5310: 0, 5311: 0, 5312: 0, 5313: 0, 5314: 1.0, 5315: 0.16666666666666666, 5316: 1.0, 5317: 0, 5318: 0, 5319: 0, 5320: 0.3333333333333333, 5321: 0, 5322: 0, 5323: 1.0, 5324: 0, 5325: 0, 5326: 0, 5327: 0, 5328: 0, 5329: 0, 5330: 0, 5331: 0, 5332: 0, 5333: 0, 5334: 0, 5335: 0, 5336: 1.0, 5337: 0, 5338: 0.6666666666666666, 5339: 1.0, 5340: 0.3333333333333333, 5341: 0, 5342: 0, 5343: 0, 5344: 0, 5345: 0, 5346: 0.16666666666666666, 5347: 0, 5348: 0, 5349: 0, 5350: 0, 5351: 0, 5352: 0, 5353: 0, 5354: 0, 5355: 0, 5356: 0, 5357: 0.4, 5358: 0, 5359: 1.0, 5360: 0, 5361: 1.0, 5362: 0.3333333333333333, 5363: 0, 5364: 0, 5365: 0, 5366: 0, 5367: 0, 5368: 0, 5369: 0, 5370: 0, 5371: 0, 5372: 0, 5373: 0, 5374: 0, 5375: 0, 5376: 0, 5377: 0, 5378: 0.6666666666666666, 5379: 0.6666666666666666, 5380: 0.6666666666666666, 5381: 0, 5382: 0, 5383: 0, 5384: 0, 5385: 0, 5386: 0.35714285714285715, 5387: 0, 5388: 0, 5389: 0, 5390: 0, 5391: 0, 5392: 0, 5393: 0.14285714285714285, 5394: 0, 5395: 0, 5396: 0, 5397: 0, 5398: 0.6666666666666666, 5399: 0, 5400: 0, 5401: 0, 5402: 0, 5403: 0, 5404: 0, 5405: 0, 5406: 0.3333333333333333, 5407: 0, 5408: 0, 5409: 1.0, 5410: 0, 5411: 0.3333333333333333, 5412: 1.0, 5413: 1.0, 5414: 0.6, 5415: 1.0, 5416: 0, 5417: 0, 5418: 0, 5419: 0, 5420: 0, 5421: 0, 5422: 0, 5423: 0, 5424: 0, 5425: 0, 5426: 0, 5427: 0, 5428: 0, 5429: 0, 5430: 0, 5431: 0, 5432: 0, 5433: 0, 5434: 0, 5435: 0, 5436: 0, 5437: 0, 5438: 0.3333333333333333, 5439: 0, 5440: 0, 5441: 0, 5442: 0, 5443: 0, 5444: 0, 5445: 0, 5446: 0, 5447: 0, 5448: 0, 5449: 0, 5450: 0, 5451: 0, 5452: 0, 5453: 0.3333333333333333, 5454: 0, 5455: 0, 5456: 0, 5457: 0, 5458: 0.3333333333333333, 5459: 0, 5460: 1.0, 5461: 0, 5462: 0.2, 5463: 0, 5464: 0.19444444444444445, 5465: 0, 5466: 0.3333333333333333, 5467: 0, 5468: 0, 5469: 0, 5470: 1.0, 5471: 1.0, 5472: 0, 5473: 0, 5474: 0, 5475: 0, 5476: 0, 5477: 0, 5478: 1.0, 5479: 0, 5480: 0, 5481: 0, 5482: 0.6666666666666666, 5483: 0, 5484: 0, 5485: 0, 5486: 0, 5487: 1.0, 5488: 0, 5489: 0, 5490: 0, 5491: 0, 5492: 0.3333333333333333, 5493: 0, 5494: 1.0, 5495: 0, 5496: 0, 5497: 0, 5498: 0, 5499: 0, 5500: 0, 5501: 0, 5502: 1.0, 5503: 1.0, 5504: 1.0, 5505: 0.5238095238095238, 5506: 0.6, 5507: 0.3333333333333333, 5508: 0.6666666666666666, 5509: 0.2, 5510: 0, 5511: 1.0, 5512: 0, 5513: 1.0, 5514: 0, 5515: 0, 5516: 0, 5517: 0, 5518: 0, 5519: 0, 5520: 0, 5521: 0.16666666666666666, 5522: 0, 5523: 0, 5524: 0, 5525: 0, 5526: 0, 5527: 0, 5528: 0.6666666666666666, 5529: 0, 5530: 0, 5531: 0.3, 5532: 0, 5533: 1.0, 5534: 0, 5535: 0, 5536: 0, 5537: 0, 5538: 0, 5539: 0, 5540: 1.0, 5541: 0, 5542: 0, 5543: 0, 5544: 0, 5545: 0, 5546: 0, 5547: 0, 5548: 0.3, 5549: 0, 5550: 0, 5551: 0, 5552: 0, 5553: 0.2, 5554: 0, 5555: 0, 5556: 0, 5557: 0.6666666666666666, 5558: 1.0, 5559: 1.0, 5560: 0, 5561: 0, 5562: 0, 5563: 0, 5564: 0, 5565: 0, 5566: 0, 5567: 0, 5568: 0, 5569: 0, 5570: 0, 5571: 1.0, 5572: 1.0, 5573: 0, 5574: 0, 5575: 0, 5576: 0, 5577: 0, 5578: 0.34502923976608185, 5579: 0, 5580: 0, 5581: 0, 5582: 0, 5583: 0, 5584: 0, 5585: 0, 5586: 0.3333333333333333, 5587: 0, 5588: 0, 5589: 0, 5590: 0.16666666666666666, 5591: 0, 5592: 0, 5593: 0, 5594: 0, 5595: 0, 5596: 1.0, 5597: 0, 5598: 0.1, 5599: 0, 5600: 0, 5601: 0, 5602: 0, 5603: 0, 5604: 0, 5605: 0, 5606: 1.0, 5607: 0, 5608: 0, 5609: 0, 5610: 0, 5611: 1.0, 5612: 0, 5613: 0, 5614: 1.0, 5615: 0, 5616: 0, 5617: 0.3333333333333333, 5618: 0, 5619: 0, 5620: 0, 5621: 0, 5622: 0.3333333333333333, 5623: 0.16666666666666666, 5624: 0, 5625: 0.3333333333333333, 5626: 0, 5627: 0, 5628: 0, 5629: 0, 5630: 0, 5631: 0, 5632: 0, 5633: 0, 5634: 0, 5635: 0, 5636: 0, 5637: 0, 5638: 0, 5639: 0, 5640: 0, 5641: 0, 5642: 0, 5643: 0, 5644: 0, 5645: 0, 5646: 0, 5647: 0, 5648: 0, 5649: 0, 5650: 0, 5651: 0, 5652: 0, 5653: 0, 5654: 0, 5655: 0, 5656: 0, 5657: 0, 5658: 0, 5659: 0, 5660: 1.0, 5661: 0, 5662: 0, 5663: 0, 5664: 0, 5665: 0, 5666: 0, 5667: 0, 5668: 0, 5669: 0, 5670: 0, 5671: 0, 5672: 0, 5673: 0, 5674: 0, 5675: 0, 5676: 0.19047619047619047, 5677: 0, 5678: 0, 5679: 0, 5680: 0, 5681: 0, 5682: 0, 5683: 0, 5684: 0, 5685: 0, 5686: 0, 5687: 0, 5688: 0, 5689: 0, 5690: 0, 5691: 0, 5692: 0, 5693: 0, 5694: 0, 5695: 0, 5696: 0, 5697: 0, 5698: 0, 5699: 0, 5700: 0, 5701: 0, 5702: 0, 5703: 0, 5704: 0, 5705: 0, 5706: 0, 5707: 0, 5708: 0, 5709: 0, 5710: 0, 5711: 0, 5712: 0, 5713: 0, 5714: 0, 5715: 0, 5716: 0, 5717: 0, 5718: 0, 5719: 0, 5720: 1.0, 5721: 0, 5722: 0.3333333333333333, 5723: 0, 5724: 0, 5725: 0, 5726: 0, 5727: 0, 5728: 0, 5729: 0, 5730: 0, 5731: 0, 5732: 0, 5733: 0, 5734: 0, 5735: 0, 5736: 0, 5737: 0, 5738: 0, 5739: 0, 5740: 0, 5741: 0, 5742: 0, 5743: 1.0, 5744: 0, 5745: 0, 5746: 0, 5747: 0, 5748: 0.6666666666666666, 5749: 0, 5750: 0, 5751: 1.0, 5752: 0, 5753: 0, 5754: 0, 5755: 0, 5756: 1.0, 5757: 0.6666666666666666, 5758: 0, 5759: 0, 5760: 0, 5761: 0, 5762: 0, 5763: 0, 5764: 0, 5765: 0, 5766: 0, 5767: 0, 5768: 0, 5769: 0, 5770: 0, 5771: 0, 5772: 0, 5773: 0, 5774: 0, 5775: 0, 5776: 0, 5777: 0, 5778: 0, 5779: 0, 5780: 0, 5781: 0, 5782: 0, 5783: 0.3333333333333333, 5784: 0, 5785: 0, 5786: 0, 5787: 0, 5788: 0, 5789: 0, 5790: 0, 5791: 0, 5792: 0, 5793: 0, 5794: 0, 5795: 0, 5796: 0, 5797: 0, 5798: 0, 5799: 0, 5800: 0, 5801: 0, 5802: 0, 5803: 0, 5804: 0, 5805: 0, 5806: 0, 5807: 0, 5808: 0.3333333333333333, 5809: 0, 5810: 0, 5811: 0, 5812: 0, 5813: 0, 5814: 0, 5815: 0, 5816: 0, 5817: 0, 5818: 0, 5819: 0, 5820: 0, 5821: 0, 5822: 0, 5823: 0, 5824: 0, 5825: 0, 5826: 0, 5827: 0, 5828: 0, 5829: 0, 5830: 0, 5831: 0, 5832: 0, 5833: 0, 5834: 0, 5835: 1.0, 5836: 0, 5837: 0, 5838: 0, 5839: 0, 5840: 0, 5841: 0, 5842: 0, 5843: 0, 5844: 0, 5845: 0, 5846: 0, 5847: 0, 5848: 0, 5849: 0, 5850: 0, 5851: 0, 5852: 0, 5853: 0, 5854: 0, 5855: 0, 5856: 0, 5857: 0, 5858: 1.0, 5859: 0, 5860: 0, 5861: 0, 5862: 0, 5863: 0, 5864: 0, 5865: 0, 5866: 0, 5867: 0, 5868: 0, 5869: 0, 5870: 0, 5871: 0, 5872: 0, 5873: 0, 5874: 0}\n"
          ]
        }
      ],
      "source": [
        "# Calcul du nombre de triangles\n",
        "triangles = sum(nx.triangles(N).values()) / 3\n",
        "print(\"Nombre de triangles:\", triangles)\n",
        "\n",
        "# Calcul du coefficient de clustering global\n",
        "clustering_coeff = nx.transitivity(N)\n",
        "print(\"Coefficient de clustering global:\", clustering_coeff)\n",
        "\n",
        "# Calcul du coefficient de clustering local pour chaque noeud\n",
        "local_clustering = nx.clustering(N)\n",
        "print(\"Coefficients de clustering locaux:\", local_clustering)"
      ]
    },
    {
      "cell_type": "markdown",
      "metadata": {
        "id": "HlJYL0c0bLuN"
      },
      "source": [
        "Tracez la distribution du coefficient de clustering local de chaque noeud."
      ]
    },
    {
      "cell_type": "code",
      "execution_count": null,
      "metadata": {
        "id": "_3DLS86QbLuN",
        "outputId": "9fdf8a0b-0225-47ee-a5ec-e840160ada5a"
      },
      "outputs": [
        {
          "data": {
            "image/png": "[encoded data removed]",
            "text/plain": [
              "<Figure size 432x288 with 1 Axes>"
            ]
          },
          "metadata": {
            "needs_background": "light"
          },
          "output_type": "display_data"
        }
      ],
      "source": [
        "# Tracé de la distribution des coefficients de clustering locaux\n",
        "plt.hist(local_clustering.values())\n",
        "plt.xlabel('Coefficient de clustering local')\n",
        "plt.ylabel('Nombre de noeuds')\n",
        "plt.show()"
      ]
    },
    {
      "cell_type": "markdown",
      "metadata": {
        "id": "pclY_M3pbLuN"
      },
      "source": [
        "Tracez plutot la distribution cumulative inverse"
      ]
    },
    {
      "cell_type": "code",
      "execution_count": null,
      "metadata": {
        "id": "lyENfNXubLuN",
        "outputId": "68171045-4706-4577-eb98-7ea9dfd60b20"
      },
      "outputs": [
        {
          "data": {
            "image/png": "[encoded data removed]",
            "text/plain": [
              "<Figure size 432x288 with 1 Axes>"
            ]
          },
          "metadata": {
            "needs_background": "light"
          },
          "output_type": "display_data"
        }
      ],
      "source": [
        "# Tracé de la distribution cumulative inverse des coefficients de clustering locaux\n",
        "plt.hist(local_clustering.values(), cumulative=-1, histtype='step')\n",
        "plt.xlabel('Coefficient de clustering local')\n",
        "plt.ylabel('Nombre de noeuds')\n",
        "plt.show()"
      ]
    },
    {
      "cell_type": "markdown",
      "metadata": {
        "id": "dMmFzwcZbLuN"
      },
      "source": [
        "# 5 Comparaison aux modeles classiques"
      ]
    },
    {
      "cell_type": "markdown",
      "metadata": {
        "id": "0MQYbfRibLuO"
      },
      "source": [
        "Suivez la meme methode de traitement des donnees et faites les memes statistiques que pour le reseau original."
      ]
    },
    {
      "cell_type": "code",
      "execution_count": 24,
      "metadata": {
        "id": "X1hG20C8bLuO"
      },
      "outputs": [],
      "source": [
        "def analyse(graph):\n",
        "    # Trouver la plus grande composante connexe du graph\n",
        "    largest_cc = max(nx.connected_components(graph.to_undirected()), key=len)\n",
        "    W = graph.subgraph(largest_cc)\n",
        "    mapping = dict(zip(W, range(0, len(W.nodes()))))\n",
        "    N = nx.relabel_nodes(W, mapping)\n",
        "    N = N.to_undirected()\n",
        "\n",
        "    print(f'Les donnees filtrees: {len(N.nodes)} sommets, {len(N.edges)} aretes')\n",
        "    print(f'Les donnees originales: {len(graph.nodes)} sommets, {len(graph.edges)} aretes')\n",
        "    \n",
        "    n = len(N.nodes)\n",
        "    m = len(N.edges)\n",
        "    density = 2*m/(n*(n-1))\n",
        "    average_degree = 2*m/n\n",
        "    print(f'Density: {density}')\n",
        "    print(f'Average degree: {average_degree}')\n",
        "    \n",
        "    print()\n",
        "    print('** Distribution des degres **')\n",
        "    degree_sequence = [d for n, d in N.degree()]\n",
        "    \n",
        "    plt.plot(degree_sequence, 'b-', marker='o')\n",
        "    plt.title(\"Distribution des degrés du réseau\")\n",
        "    plt.ylabel(\"Degré\")\n",
        "    plt.xlabel(\"Nœud\")\n",
        "    plt.show()\n",
        "    \n",
        "    plt.loglog(degree_sequence, 'b-', marker='o')\n",
        "    plt.title(\"Distribution des degrés du réseau (échelle log-log)\")\n",
        "    plt.ylabel(\"Degré (échelle logarithmique)\")\n",
        "    plt.xlabel(\"Nœud (échelle logarithmique)\")\n",
        "    plt.show()\n",
        "    \n",
        "    print()\n",
        "    print('** Densite locale **')\n",
        "    # Calcul du nombre de triangles\n",
        "    triangles = sum(nx.triangles(N).values()) / 3\n",
        "    print(\"Nombre de triangles:\", triangles)\n",
        "\n",
        "    # Calcul du coefficient de clustering global\n",
        "    clustering_coeff = nx.transitivity(N)\n",
        "    print(\"Coefficient de clustering global:\", clustering_coeff)\n",
        "\n",
        "    # Calcul du coefficient de clustering local pour chaque noeud\n",
        "    local_clustering = nx.clustering(N)\n",
        "    #print(\"Coefficients de clustering locaux:\", local_clustering)\n",
        "\n",
        "    # Tracé de la distribution des coefficients de clustering locaux\n",
        "    plt.hist(local_clustering.values())\n",
        "    plt.xlabel('Coefficient de clustering local')\n",
        "    plt.ylabel('Nombre de noeuds')\n",
        "    plt.show()\n",
        "    \n",
        "    # Tracé de la distribution cumulative inverse des coefficients de clustering locaux\n",
        "    plt.hist(local_clustering.values(), cumulative=-1, histtype='step')\n",
        "    plt.xlabel('Coefficient de clustering local')\n",
        "    plt.ylabel('Nombre de noeuds')\n",
        "    plt.show()\n",
        "    \n",
        "    print()\n",
        "    print('** Distances **')\n",
        "    average_shortest_path_length = nx.average_shortest_path_length(N)\n",
        "    print(f'La distance moyenne entre deux sommets est: {average_shortest_path_length}')\n",
        "    diameter = nx.diameter(N)\n",
        "    print(f'Le diameter du reseau: {diameter}')"
      ]
    },
    {
      "cell_type": "code",
      "execution_count": 25,
      "metadata": {
        "colab": {
          "base_uri": "https://localhost:8080/",
          "height": 1000
        },
        "id": "26jHF5TmbLuP",
        "outputId": "15c387e6-483e-42ec-8af1-d6b0adfb47bf"
      },
      "outputs": [
        {
          "output_type": "stream",
          "name": "stdout",
          "text": [
            "Les donnees filtrees: 35586 sommets, 54606 aretes\n",
            "Les donnees originales: 35588 sommets, 54607 aretes\n",
            "Density: 8.624307161034392e-05\n",
            "Average degree: 3.0689597032540887\n",
            "\n",
            "** Distribution des degres **\n"
          ]
        },
        {
          "output_type": "display_data",
          "data": {
            "text/plain": [
              "<Figure size 432x288 with 1 Axes>"
            ],
            "image/png": "[encoded data removed]"
          },
          "metadata": {
            "needs_background": "light"
          }
        },
        {
          "output_type": "display_data",
          "data": {
            "text/plain": [
              "<Figure size 432x288 with 1 Axes>"
            ],
            "image/png": "[encoded data removed]"
          },
          "metadata": {
            "needs_background": "light"
          }
        },
        {
          "output_type": "stream",
          "name": "stdout",
          "text": [
            "\n",
            "** Densite locale **\n",
            "Nombre de triangles: 13076.0\n",
            "Coefficient de clustering global: 0.00013268871988729997\n"
          ]
        },
        {
          "output_type": "display_data",
          "data": {
            "text/plain": [
              "<Figure size 432x288 with 1 Axes>"
            ],
            "image/png": "[encoded data removed]"
          },
          "metadata": {
            "needs_background": "light"
          }
        },
        {
          "output_type": "display_data",
          "data": {
            "text/plain": [
              "<Figure size 432x288 with 1 Axes>"
            ],
            "image/png": "[encoded data removed]"
          },
          "metadata": {
            "needs_background": "light"
          }
        },
        {
          "output_type": "stream",
          "name": "stdout",
          "text": [
            "\n",
            "** Distances **\n",
            "La distance moyenne entre deux sommets est: 3.064783934580099\n",
            "Le diameter du reseau: 6\n"
          ]
        }
      ],
      "source": [
        "analyse(D)"
      ]
    },
    {
      "cell_type": "code",
      "execution_count": null,
      "metadata": {
        "id": "5Xt652XpbLuP"
      },
      "outputs": [],
      "source": []
    }
  ],
  "metadata": {
    "kernelspec": {
      "display_name": "Python 3",
      "language": "python",
      "name": "python3"
    },
    "language_info": {
      "codemirror_mode": {
        "name": "ipython",
        "version": 3
      },
      "file_extension": ".py",
      "mimetype": "text/x-python",
      "name": "python",
      "nbconvert_exporter": "python",
      "pygments_lexer": "ipython3",
      "version": "3.8.5"
    },
    "colab": {
      "provenance": []
    }
  },
  "nbformat": 4,
  "nbformat_minor": 0
}